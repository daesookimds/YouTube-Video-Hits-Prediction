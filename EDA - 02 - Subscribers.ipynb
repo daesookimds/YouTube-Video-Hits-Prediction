{
 "cells": [
  {
   "cell_type": "markdown",
   "metadata": {},
   "source": [
    "## EDA - 02 - Subscribers\n",
    "- 조회수와 구독자수의 관계"
   ]
  },
  {
   "cell_type": "code",
   "execution_count": 1,
   "metadata": {},
   "outputs": [],
   "source": [
    "import numpy as np\n",
    "import pandas as pd\n",
    "import matplotlib.pyplot as plt\n",
    "import seaborn as sns\n",
    "from tqdm import tqdm\n",
    "\n",
    "%matplotlib inline"
   ]
  },
  {
   "cell_type": "markdown",
   "metadata": {},
   "source": [
    "### Data Load"
   ]
  },
  {
   "cell_type": "code",
   "execution_count": 2,
   "metadata": {
    "scrolled": true
   },
   "outputs": [
    {
     "name": "stdout",
     "output_type": "stream",
     "text": [
      "(5177, 13)\n"
     ]
    },
    {
     "data": {
      "text/html": [
       "<div>\n",
       "<style scoped>\n",
       "    .dataframe tbody tr th:only-of-type {\n",
       "        vertical-align: middle;\n",
       "    }\n",
       "\n",
       "    .dataframe tbody tr th {\n",
       "        vertical-align: top;\n",
       "    }\n",
       "\n",
       "    .dataframe thead th {\n",
       "        text-align: right;\n",
       "    }\n",
       "</style>\n",
       "<table border=\"1\" class=\"dataframe\">\n",
       "  <thead>\n",
       "    <tr style=\"text-align: right;\">\n",
       "      <th></th>\n",
       "      <th>dislike</th>\n",
       "      <th>category</th>\n",
       "      <th>comments</th>\n",
       "      <th>like</th>\n",
       "      <th>play_time</th>\n",
       "      <th>subscribers</th>\n",
       "      <th>tag</th>\n",
       "      <th>title</th>\n",
       "      <th>top_comment</th>\n",
       "      <th>upload_date</th>\n",
       "      <th>url</th>\n",
       "      <th>views</th>\n",
       "      <th>crawl_date</th>\n",
       "    </tr>\n",
       "  </thead>\n",
       "  <tbody>\n",
       "    <tr>\n",
       "      <th>0</th>\n",
       "      <td>277</td>\n",
       "      <td>게임</td>\n",
       "      <td>댓글 4,919개</td>\n",
       "      <td>1.3만</td>\n",
       "      <td>0:14</td>\n",
       "      <td>151만</td>\n",
       "      <td>['마인크래프트', 'Minecraft', '샌드박스 네트워크', '샌드박스', '...</td>\n",
       "      <td>마크판 거지키우기 업그레이드 *크리에이터* 키우기! - 마인크래프트 - [잠뜰]</td>\n",
       "      <td>그동안 여러분이 잠뜰TV에서 가장 재밌게 본 영상은?!\\n댓글에 많이 남겨주시고 좋...</td>\n",
       "      <td>게시일: 2018. 8. 17.</td>\n",
       "      <td>https://www.youtube.com/watch?v=azoDJNPRU7s&amp;li...</td>\n",
       "      <td>조회수 579,949회</td>\n",
       "      <td>2018.08.23</td>\n",
       "    </tr>\n",
       "    <tr>\n",
       "      <th>1</th>\n",
       "      <td>278</td>\n",
       "      <td>게임</td>\n",
       "      <td>댓글 4,964개</td>\n",
       "      <td>8.7천</td>\n",
       "      <td>0:15</td>\n",
       "      <td>236만</td>\n",
       "      <td>['도티', '도티 마피아', '도티 머더', '마피아 머더', 'mafia', '...</td>\n",
       "      <td>직업 머더 \"곤충\"능력 특집 (부제: 파브르와 저승벌레 팡수)</td>\n",
       "      <td>다음 컨셉은 아이스 크림 어떨까요?예를 들면스크류바:술래가 한 대 치면 술래를 5초...</td>\n",
       "      <td>게시일: 2018. 8. 20.</td>\n",
       "      <td>https://www.youtube.com/watch?v=-BnUuHgUK5Q&amp;li...</td>\n",
       "      <td>조회수 451,676회</td>\n",
       "      <td>2018.08.23</td>\n",
       "    </tr>\n",
       "    <tr>\n",
       "      <th>2</th>\n",
       "      <td>561</td>\n",
       "      <td>게임</td>\n",
       "      <td>댓글 5,262개</td>\n",
       "      <td>2.3만</td>\n",
       "      <td>6:47</td>\n",
       "      <td>246만</td>\n",
       "      <td>['보겸', '보겸TV', 'bokyem', '도티', '롤', '오버워치', '원...</td>\n",
       "      <td>14번의”아디오스” ㄷ1지고싶으면 들이대봐 드루와</td>\n",
       "      <td>모듀 ㅂㅇㄹ ^_^* \\nㅋㅋㅋ 역대 최대킬 ㅋㅋㅋ\\n고마워 ^_^+ 가조쿠들 ㅋㅋ...</td>\n",
       "      <td>게시일: 2018. 8. 18.</td>\n",
       "      <td>https://www.youtube.com/watch?v=v0rDCGLcnpU&amp;li...</td>\n",
       "      <td>조회수 955,578회</td>\n",
       "      <td>2018.08.23</td>\n",
       "    </tr>\n",
       "  </tbody>\n",
       "</table>\n",
       "</div>"
      ],
      "text/plain": [
       "  dislike category   comments  like play_time subscribers  \\\n",
       "0     277       게임  댓글 4,919개  1.3만      0:14        151만   \n",
       "1     278       게임  댓글 4,964개  8.7천      0:15        236만   \n",
       "2     561       게임  댓글 5,262개  2.3만      6:47        246만   \n",
       "\n",
       "                                                 tag  \\\n",
       "0  ['마인크래프트', 'Minecraft', '샌드박스 네트워크', '샌드박스', '...   \n",
       "1  ['도티', '도티 마피아', '도티 머더', '마피아 머더', 'mafia', '...   \n",
       "2  ['보겸', '보겸TV', 'bokyem', '도티', '롤', '오버워치', '원...   \n",
       "\n",
       "                                          title  \\\n",
       "0  마크판 거지키우기 업그레이드 *크리에이터* 키우기! - 마인크래프트 - [잠뜰]   \n",
       "1            직업 머더 \"곤충\"능력 특집 (부제: 파브르와 저승벌레 팡수)   \n",
       "2                   14번의”아디오스” ㄷ1지고싶으면 들이대봐 드루와   \n",
       "\n",
       "                                         top_comment        upload_date  \\\n",
       "0  그동안 여러분이 잠뜰TV에서 가장 재밌게 본 영상은?!\\n댓글에 많이 남겨주시고 좋...  게시일: 2018. 8. 17.   \n",
       "1  다음 컨셉은 아이스 크림 어떨까요?예를 들면스크류바:술래가 한 대 치면 술래를 5초...  게시일: 2018. 8. 20.   \n",
       "2  모듀 ㅂㅇㄹ ^_^* \\nㅋㅋㅋ 역대 최대킬 ㅋㅋㅋ\\n고마워 ^_^+ 가조쿠들 ㅋㅋ...  게시일: 2018. 8. 18.   \n",
       "\n",
       "                                                 url         views  crawl_date  \n",
       "0  https://www.youtube.com/watch?v=azoDJNPRU7s&li...  조회수 579,949회  2018.08.23  \n",
       "1  https://www.youtube.com/watch?v=-BnUuHgUK5Q&li...  조회수 451,676회  2018.08.23  \n",
       "2  https://www.youtube.com/watch?v=v0rDCGLcnpU&li...  조회수 955,578회  2018.08.23  "
      ]
     },
     "execution_count": 2,
     "metadata": {},
     "output_type": "execute_result"
    }
   ],
   "source": [
    "train = pd.read_csv(\"train.csv\")\n",
    "train.columns = ['dislike', 'category', 'comments', 'like', 'play_time',\n",
    "       'subscribers', 'tag', 'title', 'top_comment', 'upload_date', 'url',\n",
    "       'views', 'crawl_date']\n",
    "\n",
    "print(train.shape)\n",
    "train.head(3)"
   ]
  },
  {
   "cell_type": "markdown",
   "metadata": {},
   "source": [
    "### Upload_date\n",
    "- 게시년, 월, 일"
   ]
  },
  {
   "cell_type": "code",
   "execution_count": 3,
   "metadata": {},
   "outputs": [],
   "source": [
    "ls=list(train[\"upload_date\"])"
   ]
  },
  {
   "cell_type": "code",
   "execution_count": 4,
   "metadata": {},
   "outputs": [
    {
     "name": "stdout",
     "output_type": "stream",
     "text": [
      "실시간 스트림: 14시간시간 전\n",
      "실시간 스트림: 10시간시간 전\n",
      "실시간 스트림: 12시간시간 전\n"
     ]
    },
    {
     "data": {
      "text/plain": [
       "[3275, 3331, 3345]"
      ]
     },
     "execution_count": 4,
     "metadata": {},
     "output_type": "execute_result"
    }
   ],
   "source": [
    "del_list = []\n",
    "for i, s in enumerate(ls):\n",
    "    if \"시간시간\" in s:\n",
    "        print(s)\n",
    "        del_list.append(i)\n",
    "del_list"
   ]
  },
  {
   "cell_type": "code",
   "execution_count": 5,
   "metadata": {},
   "outputs": [
    {
     "data": {
      "text/plain": [
       "(5174, 13)"
      ]
     },
     "execution_count": 5,
     "metadata": {},
     "output_type": "execute_result"
    }
   ],
   "source": [
    "train = train.drop(del_list)\n",
    "train.shape"
   ]
  },
  {
   "cell_type": "code",
   "execution_count": 6,
   "metadata": {},
   "outputs": [],
   "source": [
    "train = train.reset_index(drop=True)"
   ]
  },
  {
   "cell_type": "code",
   "execution_count": 7,
   "metadata": {},
   "outputs": [],
   "source": [
    "s = '게시일: 2014. 2. 26.'"
   ]
  },
  {
   "cell_type": "code",
   "execution_count": 8,
   "metadata": {},
   "outputs": [
    {
     "data": {
      "text/plain": [
       "['2014', '2', '26']"
      ]
     },
     "execution_count": 8,
     "metadata": {},
     "output_type": "execute_result"
    }
   ],
   "source": [
    "s[5:-1].replace(\" \",\"\").split(\".\")"
   ]
  },
  {
   "cell_type": "code",
   "execution_count": 9,
   "metadata": {},
   "outputs": [],
   "source": [
    "def upload_date_clear_year(date):\n",
    "    if len(date) > 20:\n",
    "        return int(date[14:-1].replace(\" \",\"\").split(\".\")[0])\n",
    "    else:\n",
    "        return int(date[5:-1].replace(\" \",\"\").split(\".\")[0])\n",
    "\n",
    "def upload_date_clear_month(date):\n",
    "    if len(date) > 20:\n",
    "        return int(date[14:-1].replace(\" \",\"\").split(\".\")[1])\n",
    "    else:\n",
    "        return int(date[5:-1].replace(\" \",\"\").split(\".\")[1])\n",
    "\n",
    "def upload_date_clear_day(date):\n",
    "    if len(date) > 20:\n",
    "        return int(date[14:-1].replace(\" \",\"\").split(\".\")[2])\n",
    "    else:\n",
    "        return int(date[5:-1].replace(\" \",\"\").split(\".\")[2])"
   ]
  },
  {
   "cell_type": "code",
   "execution_count": 10,
   "metadata": {},
   "outputs": [],
   "source": [
    "train[\"upload_date_year\"] = train[\"upload_date\"].apply(upload_date_clear_year)\n",
    "train[\"upload_date_month\"] = train[\"upload_date\"].apply(upload_date_clear_month)\n",
    "train[\"upload_date_day\"] = train[\"upload_date\"].apply(upload_date_clear_day)"
   ]
  },
  {
   "cell_type": "code",
   "execution_count": 11,
   "metadata": {
    "scrolled": true
   },
   "outputs": [
    {
     "data": {
      "text/html": [
       "<div>\n",
       "<style scoped>\n",
       "    .dataframe tbody tr th:only-of-type {\n",
       "        vertical-align: middle;\n",
       "    }\n",
       "\n",
       "    .dataframe tbody tr th {\n",
       "        vertical-align: top;\n",
       "    }\n",
       "\n",
       "    .dataframe thead th {\n",
       "        text-align: right;\n",
       "    }\n",
       "</style>\n",
       "<table border=\"1\" class=\"dataframe\">\n",
       "  <thead>\n",
       "    <tr style=\"text-align: right;\">\n",
       "      <th></th>\n",
       "      <th>upload_date_year</th>\n",
       "      <th>upload_date_month</th>\n",
       "      <th>upload_date_day</th>\n",
       "    </tr>\n",
       "  </thead>\n",
       "  <tbody>\n",
       "    <tr>\n",
       "      <th>0</th>\n",
       "      <td>2018</td>\n",
       "      <td>8</td>\n",
       "      <td>17</td>\n",
       "    </tr>\n",
       "    <tr>\n",
       "      <th>1</th>\n",
       "      <td>2018</td>\n",
       "      <td>8</td>\n",
       "      <td>20</td>\n",
       "    </tr>\n",
       "    <tr>\n",
       "      <th>2</th>\n",
       "      <td>2018</td>\n",
       "      <td>8</td>\n",
       "      <td>18</td>\n",
       "    </tr>\n",
       "    <tr>\n",
       "      <th>3</th>\n",
       "      <td>2018</td>\n",
       "      <td>8</td>\n",
       "      <td>18</td>\n",
       "    </tr>\n",
       "    <tr>\n",
       "      <th>4</th>\n",
       "      <td>2018</td>\n",
       "      <td>8</td>\n",
       "      <td>21</td>\n",
       "    </tr>\n",
       "  </tbody>\n",
       "</table>\n",
       "</div>"
      ],
      "text/plain": [
       "   upload_date_year  upload_date_month  upload_date_day\n",
       "0              2018                  8               17\n",
       "1              2018                  8               20\n",
       "2              2018                  8               18\n",
       "3              2018                  8               18\n",
       "4              2018                  8               21"
      ]
     },
     "execution_count": 11,
     "metadata": {},
     "output_type": "execute_result"
    }
   ],
   "source": [
    "train[[\"upload_date_year\", \"upload_date_month\", \"upload_date_day\"]].head()"
   ]
  },
  {
   "cell_type": "markdown",
   "metadata": {},
   "source": [
    "### Crawl_date"
   ]
  },
  {
   "cell_type": "code",
   "execution_count": 12,
   "metadata": {},
   "outputs": [],
   "source": [
    "s = '2014.2.26'"
   ]
  },
  {
   "cell_type": "code",
   "execution_count": 13,
   "metadata": {},
   "outputs": [
    {
     "data": {
      "text/plain": [
       "2014"
      ]
     },
     "execution_count": 13,
     "metadata": {},
     "output_type": "execute_result"
    }
   ],
   "source": [
    "int(s.split(\".\")[0])"
   ]
  },
  {
   "cell_type": "code",
   "execution_count": 14,
   "metadata": {},
   "outputs": [],
   "source": [
    "def crawl_data_clear_year(date):\n",
    "    return int(date.split(\".\")[0])\n",
    "\n",
    "def crawl_data_clear_month(date):\n",
    "    return int(date.split(\".\")[1])\n",
    "\n",
    "def crawl_data_clear_day(date):\n",
    "    return int(date.split(\".\")[2])"
   ]
  },
  {
   "cell_type": "code",
   "execution_count": 15,
   "metadata": {},
   "outputs": [],
   "source": [
    "train[\"crawl_date_year\"] = train[\"crawl_date\"].apply(crawl_data_clear_year)\n",
    "train[\"crawl_date_month\"] = train[\"crawl_date\"].apply(crawl_data_clear_month)\n",
    "train[\"crawl_date_day\"] = train[\"crawl_date\"].apply(crawl_data_clear_day)"
   ]
  },
  {
   "cell_type": "code",
   "execution_count": 16,
   "metadata": {
    "scrolled": true
   },
   "outputs": [
    {
     "data": {
      "text/html": [
       "<div>\n",
       "<style scoped>\n",
       "    .dataframe tbody tr th:only-of-type {\n",
       "        vertical-align: middle;\n",
       "    }\n",
       "\n",
       "    .dataframe tbody tr th {\n",
       "        vertical-align: top;\n",
       "    }\n",
       "\n",
       "    .dataframe thead th {\n",
       "        text-align: right;\n",
       "    }\n",
       "</style>\n",
       "<table border=\"1\" class=\"dataframe\">\n",
       "  <thead>\n",
       "    <tr style=\"text-align: right;\">\n",
       "      <th></th>\n",
       "      <th>crawl_date_year</th>\n",
       "      <th>crawl_date_month</th>\n",
       "      <th>crawl_date_day</th>\n",
       "    </tr>\n",
       "  </thead>\n",
       "  <tbody>\n",
       "    <tr>\n",
       "      <th>0</th>\n",
       "      <td>2018</td>\n",
       "      <td>8</td>\n",
       "      <td>23</td>\n",
       "    </tr>\n",
       "    <tr>\n",
       "      <th>1</th>\n",
       "      <td>2018</td>\n",
       "      <td>8</td>\n",
       "      <td>23</td>\n",
       "    </tr>\n",
       "    <tr>\n",
       "      <th>2</th>\n",
       "      <td>2018</td>\n",
       "      <td>8</td>\n",
       "      <td>23</td>\n",
       "    </tr>\n",
       "    <tr>\n",
       "      <th>3</th>\n",
       "      <td>2018</td>\n",
       "      <td>8</td>\n",
       "      <td>23</td>\n",
       "    </tr>\n",
       "    <tr>\n",
       "      <th>4</th>\n",
       "      <td>2018</td>\n",
       "      <td>8</td>\n",
       "      <td>23</td>\n",
       "    </tr>\n",
       "  </tbody>\n",
       "</table>\n",
       "</div>"
      ],
      "text/plain": [
       "   crawl_date_year  crawl_date_month  crawl_date_day\n",
       "0             2018                 8              23\n",
       "1             2018                 8              23\n",
       "2             2018                 8              23\n",
       "3             2018                 8              23\n",
       "4             2018                 8              23"
      ]
     },
     "execution_count": 16,
     "metadata": {},
     "output_type": "execute_result"
    }
   ],
   "source": [
    "train[[\"crawl_date_year\", \"crawl_date_month\", \"crawl_date_day\"]].head()"
   ]
  },
  {
   "cell_type": "markdown",
   "metadata": {},
   "source": [
    "### Uploaded days"
   ]
  },
  {
   "cell_type": "code",
   "execution_count": 17,
   "metadata": {},
   "outputs": [
    {
     "name": "stderr",
     "output_type": "stream",
     "text": [
      "100%|██████████| 5174/5174 [00:04<00:00, 1245.97it/s]\n"
     ]
    }
   ],
   "source": [
    "from datetime import date\n",
    "\n",
    "for idx in tqdm(range(0, len(train))):\n",
    "    d0 = date(train[\"upload_date_year\"].loc[idx], train[\"upload_date_month\"].loc[idx], train[\"upload_date_day\"].loc[idx])\n",
    "    d1 = date(train[\"crawl_date_year\"].loc[idx], train[\"crawl_date_month\"].loc[idx], train[\"crawl_date_day\"].loc[idx])\n",
    "    train.loc[idx, \"uploaded_days\"] = (d1 - d0).days"
   ]
  },
  {
   "cell_type": "code",
   "execution_count": 18,
   "metadata": {},
   "outputs": [
    {
     "data": {
      "text/html": [
       "<div>\n",
       "<style scoped>\n",
       "    .dataframe tbody tr th:only-of-type {\n",
       "        vertical-align: middle;\n",
       "    }\n",
       "\n",
       "    .dataframe tbody tr th {\n",
       "        vertical-align: top;\n",
       "    }\n",
       "\n",
       "    .dataframe thead th {\n",
       "        text-align: right;\n",
       "    }\n",
       "</style>\n",
       "<table border=\"1\" class=\"dataframe\">\n",
       "  <thead>\n",
       "    <tr style=\"text-align: right;\">\n",
       "      <th></th>\n",
       "      <th>uploaded_days</th>\n",
       "    </tr>\n",
       "  </thead>\n",
       "  <tbody>\n",
       "    <tr>\n",
       "      <th>0</th>\n",
       "      <td>6.0</td>\n",
       "    </tr>\n",
       "    <tr>\n",
       "      <th>1</th>\n",
       "      <td>3.0</td>\n",
       "    </tr>\n",
       "    <tr>\n",
       "      <th>2</th>\n",
       "      <td>5.0</td>\n",
       "    </tr>\n",
       "    <tr>\n",
       "      <th>3</th>\n",
       "      <td>5.0</td>\n",
       "    </tr>\n",
       "    <tr>\n",
       "      <th>4</th>\n",
       "      <td>2.0</td>\n",
       "    </tr>\n",
       "  </tbody>\n",
       "</table>\n",
       "</div>"
      ],
      "text/plain": [
       "   uploaded_days\n",
       "0            6.0\n",
       "1            3.0\n",
       "2            5.0\n",
       "3            5.0\n",
       "4            2.0"
      ]
     },
     "execution_count": 18,
     "metadata": {},
     "output_type": "execute_result"
    }
   ],
   "source": [
    "train[[\"uploaded_days\"]].head()"
   ]
  },
  {
   "cell_type": "markdown",
   "metadata": {},
   "source": [
    "### Views\n",
    "- 조회수 ( 일평균 조회수를 target 값으로 사용 )\n",
    "- 예측할 target"
   ]
  },
  {
   "cell_type": "code",
   "execution_count": 19,
   "metadata": {},
   "outputs": [],
   "source": [
    "def views_clear(view):\n",
    "    if view == '조회수 없음':\n",
    "        return 0\n",
    "    else:\n",
    "        return int(view[4:-1].replace(\",\",\"\"))"
   ]
  },
  {
   "cell_type": "code",
   "execution_count": 20,
   "metadata": {},
   "outputs": [],
   "source": [
    "train[\"views\"] = train[\"views\"].apply(views_clear)"
   ]
  },
  {
   "cell_type": "code",
   "execution_count": 21,
   "metadata": {},
   "outputs": [
    {
     "data": {
      "text/plain": [
       "0    579949\n",
       "1    451676\n",
       "2    955578\n",
       "3    191211\n",
       "4    162253\n",
       "Name: views, dtype: int64"
      ]
     },
     "execution_count": 21,
     "metadata": {},
     "output_type": "execute_result"
    }
   ],
   "source": [
    "train[\"views\"].head()"
   ]
  },
  {
   "cell_type": "code",
   "execution_count": 22,
   "metadata": {},
   "outputs": [],
   "source": [
    "train[\"views\"] = train[\"views\"] / train[\"uploaded_days\"]"
   ]
  },
  {
   "cell_type": "code",
   "execution_count": 23,
   "metadata": {},
   "outputs": [
    {
     "data": {
      "text/plain": [
       "0     96658.166667\n",
       "1    150558.666667\n",
       "2    191115.600000\n",
       "3     38242.200000\n",
       "4     81126.500000\n",
       "Name: views, dtype: float64"
      ]
     },
     "execution_count": 23,
     "metadata": {},
     "output_type": "execute_result"
    }
   ],
   "source": [
    "train[\"views\"].head()"
   ]
  },
  {
   "cell_type": "markdown",
   "metadata": {},
   "source": [
    "### Subscribers\n",
    "- 구독자 수"
   ]
  },
  {
   "cell_type": "code",
   "execution_count": 24,
   "metadata": {},
   "outputs": [],
   "source": [
    "def subscriber_clear(s):\n",
    "    '''\n",
    "    천, 만으로 표시된 값 숫자로 변경\n",
    "    '''\n",
    "    if s[-1] == '천':\n",
    "        return float(s[:-1]) * 1000\n",
    "    elif s[-1] == '만':\n",
    "        return float(s[:-1]) * 10000\n",
    "    else:\n",
    "        return float(s)"
   ]
  },
  {
   "cell_type": "code",
   "execution_count": 25,
   "metadata": {},
   "outputs": [],
   "source": [
    "train[\"subscribers\"] = train[\"subscribers\"].apply(subscriber_clear)"
   ]
  },
  {
   "cell_type": "code",
   "execution_count": 26,
   "metadata": {
    "scrolled": false
   },
   "outputs": [
    {
     "data": {
      "text/plain": [
       "0    1510000.0\n",
       "1    2360000.0\n",
       "2    2460000.0\n",
       "3     230000.0\n",
       "4     470000.0\n",
       "Name: subscribers, dtype: float64"
      ]
     },
     "execution_count": 26,
     "metadata": {},
     "output_type": "execute_result"
    }
   ],
   "source": [
    "train[\"subscribers\"].head()"
   ]
  },
  {
   "cell_type": "markdown",
   "metadata": {},
   "source": [
    "### 구독자수 분포(distrbution of subscribers)"
   ]
  },
  {
   "cell_type": "code",
   "execution_count": 27,
   "metadata": {},
   "outputs": [
    {
     "data": {
      "text/plain": [
       "0.0           1450\n",
       "12600000.0     258\n",
       "780000.0       189\n",
       "19000.0        163\n",
       "15410000.0     103\n",
       "50000.0         73\n",
       "5040000.0       52\n",
       "1250000.0       50\n",
       "2720000.0       48\n",
       "9850000.0       47\n",
       "Name: subscribers, dtype: int64"
      ]
     },
     "execution_count": 27,
     "metadata": {},
     "output_type": "execute_result"
    }
   ],
   "source": [
    "train[\"subscribers\"].value_counts().head(10)"
   ]
  },
  {
   "cell_type": "code",
   "execution_count": 28,
   "metadata": {},
   "outputs": [
    {
     "data": {
      "text/plain": [
       "<matplotlib.axes._subplots.AxesSubplot at 0x10e0e5c50>"
      ]
     },
     "execution_count": 28,
     "metadata": {},
     "output_type": "execute_result"
    },
    {
     "data": {
      "image/png": "[encoded data removed]",
      "text/plain": [
       "<Figure size 720x288 with 1 Axes>"
      ]
     },
     "metadata": {},
     "output_type": "display_data"
    }
   ],
   "source": [
    "fig, ax = plt.subplots(figsize=(10, 4))\n",
    "sns.distplot(train[\"subscribers\"], kde=False, bins=100, color='red', ax=ax, rug=True)"
   ]
  },
  {
   "cell_type": "markdown",
   "metadata": {},
   "source": [
    "### Correlation between views and subscribers"
   ]
  },
  {
   "cell_type": "code",
   "execution_count": 29,
   "metadata": {},
   "outputs": [
    {
     "data": {
      "text/plain": [
       "<seaborn.axisgrid.PairGrid at 0x10e1dc2b0>"
      ]
     },
     "execution_count": 29,
     "metadata": {},
     "output_type": "execute_result"
    },
    {
     "data": {
      "image/png": "[encoded data removed]",
      "text/plain": [
       "<Figure size 360x360 with 6 Axes>"
      ]
     },
     "metadata": {},
     "output_type": "display_data"
    }
   ],
   "source": [
    "sns.pairplot(train[[\"views\", \"subscribers\"]])"
   ]
  },
  {
   "cell_type": "code",
   "execution_count": 30,
   "metadata": {},
   "outputs": [
    {
     "data": {
      "text/html": [
       "<div>\n",
       "<style scoped>\n",
       "    .dataframe tbody tr th:only-of-type {\n",
       "        vertical-align: middle;\n",
       "    }\n",
       "\n",
       "    .dataframe tbody tr th {\n",
       "        vertical-align: top;\n",
       "    }\n",
       "\n",
       "    .dataframe thead th {\n",
       "        text-align: right;\n",
       "    }\n",
       "</style>\n",
       "<table border=\"1\" class=\"dataframe\">\n",
       "  <thead>\n",
       "    <tr style=\"text-align: right;\">\n",
       "      <th></th>\n",
       "      <th>views</th>\n",
       "      <th>subscribers</th>\n",
       "    </tr>\n",
       "  </thead>\n",
       "  <tbody>\n",
       "    <tr>\n",
       "      <th>views</th>\n",
       "      <td>1.000000</td>\n",
       "      <td>0.206424</td>\n",
       "    </tr>\n",
       "    <tr>\n",
       "      <th>subscribers</th>\n",
       "      <td>0.206424</td>\n",
       "      <td>1.000000</td>\n",
       "    </tr>\n",
       "  </tbody>\n",
       "</table>\n",
       "</div>"
      ],
      "text/plain": [
       "                views  subscribers\n",
       "views        1.000000     0.206424\n",
       "subscribers  0.206424     1.000000"
      ]
     },
     "execution_count": 30,
     "metadata": {},
     "output_type": "execute_result"
    }
   ],
   "source": [
    "train[[\"views\", \"subscribers\"]].corr()"
   ]
  },
  {
   "cell_type": "code",
   "execution_count": 31,
   "metadata": {},
   "outputs": [
    {
     "data": {
      "text/plain": [
       "<matplotlib.axes._subplots.AxesSubplot at 0x10e9fa160>"
      ]
     },
     "execution_count": 31,
     "metadata": {},
     "output_type": "execute_result"
    },
    {
     "data": {
      "image/png": "[encoded data removed]",
      "text/plain": [
       "<Figure size 432x288 with 2 Axes>"
      ]
     },
     "metadata": {},
     "output_type": "display_data"
    }
   ],
   "source": [
    "sns.heatmap(train[[\"views\", \"subscribers\"]].corr(), linewidths=.5, annot=True)"
   ]
  },
  {
   "cell_type": "code",
   "execution_count": 32,
   "metadata": {},
   "outputs": [
    {
     "name": "stdout",
     "output_type": "stream",
     "text": [
      "                            OLS Regression Results                            \n",
      "==============================================================================\n",
      "Dep. Variable:                  views   R-squared:                       0.043\n",
      "Model:                            OLS   Adj. R-squared:                  0.042\n",
      "Method:                 Least Squares   F-statistic:                     230.2\n",
      "Date:                Mon, 27 Aug 2018   Prob (F-statistic):           6.66e-51\n",
      "Time:                        22:01:59   Log-Likelihood:                -67805.\n",
      "No. Observations:                5174   AIC:                         1.356e+05\n",
      "Df Residuals:                    5172   BIC:                         1.356e+05\n",
      "Df Model:                           1                                         \n",
      "Covariance Type:            nonrobust                                         \n",
      "======================================================================================\n",
      "                         coef    std err          t      P>|t|      [0.025      0.975]\n",
      "--------------------------------------------------------------------------------------\n",
      "Intercept           2.178e+04   1653.411     13.170      0.000    1.85e+04     2.5e+04\n",
      "scale(subscribers)  2.509e+04   1653.411     15.172      0.000    2.18e+04    2.83e+04\n",
      "==============================================================================\n",
      "Omnibus:                    10873.847   Durbin-Watson:                   1.707\n",
      "Prob(Omnibus):                  0.000   Jarque-Bera (JB):         48245500.970\n",
      "Skew:                          17.990   Prob(JB):                         0.00\n",
      "Kurtosis:                     474.695   Cond. No.                         1.00\n",
      "==============================================================================\n",
      "\n",
      "Warnings:\n",
      "[1] Standard Errors assume that the covariance matrix of the errors is correctly specified.\n"
     ]
    }
   ],
   "source": [
    "import statsmodels.api as sm\n",
    "scale_model = sm.OLS.from_formula(\"views ~ \"\n",
    "                            \"scale(subscribers)\", data=train)\n",
    "result = scale_model.fit()\n",
    "print(result.summary())"
   ]
  },
  {
   "cell_type": "markdown",
   "metadata": {},
   "source": [
    "#### 구독자 수는 단독으로 조회수와의 상관관계를 설명하기에는 많이 부족하다."
   ]
  }
 ],
 "metadata": {
  "kernelspec": {
   "display_name": "Python 3",
   "language": "python",
   "name": "python3"
  },
  "language_info": {
   "codemirror_mode": {
    "name": "ipython",
    "version": 3
   },
   "file_extension": ".py",
   "mimetype": "text/x-python",
   "name": "python",
   "nbconvert_exporter": "python",
   "pygments_lexer": "ipython3",
   "version": "3.6.6"
  }
 },
 "nbformat": 4,
 "nbformat_minor": 2
}

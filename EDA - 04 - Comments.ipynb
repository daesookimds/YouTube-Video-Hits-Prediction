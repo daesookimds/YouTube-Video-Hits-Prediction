{
 "cells": [
  {
   "cell_type": "markdown",
   "metadata": {},
   "source": [
    "## EDA - 04 - Comments\n",
    "- 댓글 수와 조회수의 관계"
   ]
  },
  {
   "cell_type": "code",
   "execution_count": 1,
   "metadata": {},
   "outputs": [],
   "source": [
    "import numpy as np\n",
    "import pandas as pd\n",
    "import matplotlib.pyplot as plt\n",
    "from tqdm import tqdm\n",
    "\n",
    "%matplotlib inline"
   ]
  },
  {
   "cell_type": "markdown",
   "metadata": {},
   "source": [
    "### Data Load"
   ]
  },
  {
   "cell_type": "code",
   "execution_count": 2,
   "metadata": {},
   "outputs": [
    {
     "name": "stdout",
     "output_type": "stream",
     "text": [
      "(8643, 13)\n"
     ]
    },
    {
     "data": {
      "text/html": [
       "<div>\n",
       "<style scoped>\n",
       "    .dataframe tbody tr th:only-of-type {\n",
       "        vertical-align: middle;\n",
       "    }\n",
       "\n",
       "    .dataframe tbody tr th {\n",
       "        vertical-align: top;\n",
       "    }\n",
       "\n",
       "    .dataframe thead th {\n",
       "        text-align: right;\n",
       "    }\n",
       "</style>\n",
       "<table border=\"1\" class=\"dataframe\">\n",
       "  <thead>\n",
       "    <tr style=\"text-align: right;\">\n",
       "      <th></th>\n",
       "      <th>category</th>\n",
       "      <th>comments</th>\n",
       "      <th>crawl_date</th>\n",
       "      <th>dislike</th>\n",
       "      <th>like</th>\n",
       "      <th>play_time</th>\n",
       "      <th>subscribers</th>\n",
       "      <th>tag</th>\n",
       "      <th>title</th>\n",
       "      <th>top_comment</th>\n",
       "      <th>upload_date</th>\n",
       "      <th>url</th>\n",
       "      <th>views</th>\n",
       "    </tr>\n",
       "  </thead>\n",
       "  <tbody>\n",
       "    <tr>\n",
       "      <th>0</th>\n",
       "      <td>게임</td>\n",
       "      <td>댓글 4,919개</td>\n",
       "      <td>2018.08.23</td>\n",
       "      <td>277</td>\n",
       "      <td>1.3만</td>\n",
       "      <td>0:14</td>\n",
       "      <td>151만</td>\n",
       "      <td>['마인크래프트', 'Minecraft', '샌드박스 네트워크', '샌드박스', '...</td>\n",
       "      <td>마크판 거지키우기 업그레이드 *크리에이터* 키우기! - 마인크래프트 - [잠뜰]</td>\n",
       "      <td>그동안 여러분이 잠뜰TV에서 가장 재밌게 본 영상은?!\\n댓글에 많이 남겨주시고 좋...</td>\n",
       "      <td>게시일: 2018. 8. 17.</td>\n",
       "      <td>https://www.youtube.com/watch?v=azoDJNPRU7s&amp;li...</td>\n",
       "      <td>조회수 579,949회</td>\n",
       "    </tr>\n",
       "    <tr>\n",
       "      <th>1</th>\n",
       "      <td>게임</td>\n",
       "      <td>댓글 4,964개</td>\n",
       "      <td>2018.08.23</td>\n",
       "      <td>278</td>\n",
       "      <td>8.7천</td>\n",
       "      <td>0:15</td>\n",
       "      <td>236만</td>\n",
       "      <td>['도티', '도티 마피아', '도티 머더', '마피아 머더', 'mafia', '...</td>\n",
       "      <td>직업 머더 \"곤충\"능력 특집 (부제: 파브르와 저승벌레 팡수)</td>\n",
       "      <td>다음 컨셉은 아이스 크림 어떨까요?예를 들면스크류바:술래가 한 대 치면 술래를 5초...</td>\n",
       "      <td>게시일: 2018. 8. 20.</td>\n",
       "      <td>https://www.youtube.com/watch?v=-BnUuHgUK5Q&amp;li...</td>\n",
       "      <td>조회수 451,676회</td>\n",
       "    </tr>\n",
       "    <tr>\n",
       "      <th>2</th>\n",
       "      <td>게임</td>\n",
       "      <td>댓글 5,262개</td>\n",
       "      <td>2018.08.23</td>\n",
       "      <td>561</td>\n",
       "      <td>2.3만</td>\n",
       "      <td>6:47</td>\n",
       "      <td>246만</td>\n",
       "      <td>['보겸', '보겸TV', 'bokyem', '도티', '롤', '오버워치', '원...</td>\n",
       "      <td>14번의”아디오스” ㄷ1지고싶으면 들이대봐 드루와</td>\n",
       "      <td>모듀 ㅂㅇㄹ ^_^* \\nㅋㅋㅋ 역대 최대킬 ㅋㅋㅋ\\n고마워 ^_^+ 가조쿠들 ㅋㅋ...</td>\n",
       "      <td>게시일: 2018. 8. 18.</td>\n",
       "      <td>https://www.youtube.com/watch?v=v0rDCGLcnpU&amp;li...</td>\n",
       "      <td>조회수 955,578회</td>\n",
       "    </tr>\n",
       "    <tr>\n",
       "      <th>3</th>\n",
       "      <td>게임</td>\n",
       "      <td>댓글 1,823개</td>\n",
       "      <td>2018.08.23</td>\n",
       "      <td>404</td>\n",
       "      <td>1.1천</td>\n",
       "      <td>13:00</td>\n",
       "      <td>23만</td>\n",
       "      <td>['게임', '위닝', '위닝일레븐', '축구게임', '말이야와 게임들 축구게임',...</td>\n",
       "      <td>그때 눈물의 축구 게임 복수전! 과연 미니 고수 말이야 이길 수 있을까? (꿀잼) ...</td>\n",
       "      <td>사랑하는 말랑이 여러분! 다음에는 말이야, 로기, 미니 축구팀을 댓글로 남겨주세요....</td>\n",
       "      <td>게시일: 2018. 8. 18.</td>\n",
       "      <td>https://www.youtube.com/watch?v=cK8Z2fz0iUI&amp;li...</td>\n",
       "      <td>조회수 191,211회</td>\n",
       "    </tr>\n",
       "    <tr>\n",
       "      <th>4</th>\n",
       "      <td>게임</td>\n",
       "      <td>댓글 1,159개</td>\n",
       "      <td>2018.08.23</td>\n",
       "      <td>36</td>\n",
       "      <td>3.4천</td>\n",
       "      <td>10:00</td>\n",
       "      <td>47만</td>\n",
       "      <td>['카베', '모바일베그', '배그M', '카카오베그', '연다', '배틀그라운드'...</td>\n",
       "      <td>초보자도 여포로 만들어 줄 수 있는 총 조합! 제가 알려드리죠 ㅋㅋ (배틀그라운드-...</td>\n",
       "      <td>크흠...저런 총이 있어도 난 여포가 아니라 쥐포가 될것 같은데...\\niny070...</td>\n",
       "      <td>게시일: 2018. 8. 21.</td>\n",
       "      <td>https://www.youtube.com/watch?v=bBbHq5sMqP0&amp;li...</td>\n",
       "      <td>조회수 162,253회</td>\n",
       "    </tr>\n",
       "  </tbody>\n",
       "</table>\n",
       "</div>"
      ],
      "text/plain": [
       "  category   comments  crawl_date dislike  like play_time subscribers  \\\n",
       "0       게임  댓글 4,919개  2018.08.23     277  1.3만      0:14        151만   \n",
       "1       게임  댓글 4,964개  2018.08.23     278  8.7천      0:15        236만   \n",
       "2       게임  댓글 5,262개  2018.08.23     561  2.3만      6:47        246만   \n",
       "3       게임  댓글 1,823개  2018.08.23     404  1.1천     13:00         23만   \n",
       "4       게임  댓글 1,159개  2018.08.23      36  3.4천     10:00         47만   \n",
       "\n",
       "                                                 tag  \\\n",
       "0  ['마인크래프트', 'Minecraft', '샌드박스 네트워크', '샌드박스', '...   \n",
       "1  ['도티', '도티 마피아', '도티 머더', '마피아 머더', 'mafia', '...   \n",
       "2  ['보겸', '보겸TV', 'bokyem', '도티', '롤', '오버워치', '원...   \n",
       "3  ['게임', '위닝', '위닝일레븐', '축구게임', '말이야와 게임들 축구게임',...   \n",
       "4  ['카베', '모바일베그', '배그M', '카카오베그', '연다', '배틀그라운드'...   \n",
       "\n",
       "                                               title  \\\n",
       "0       마크판 거지키우기 업그레이드 *크리에이터* 키우기! - 마인크래프트 - [잠뜰]   \n",
       "1                 직업 머더 \"곤충\"능력 특집 (부제: 파브르와 저승벌레 팡수)   \n",
       "2                        14번의”아디오스” ㄷ1지고싶으면 들이대봐 드루와   \n",
       "3  그때 눈물의 축구 게임 복수전! 과연 미니 고수 말이야 이길 수 있을까? (꿀잼) ...   \n",
       "4  초보자도 여포로 만들어 줄 수 있는 총 조합! 제가 알려드리죠 ㅋㅋ (배틀그라운드-...   \n",
       "\n",
       "                                         top_comment        upload_date  \\\n",
       "0  그동안 여러분이 잠뜰TV에서 가장 재밌게 본 영상은?!\\n댓글에 많이 남겨주시고 좋...  게시일: 2018. 8. 17.   \n",
       "1  다음 컨셉은 아이스 크림 어떨까요?예를 들면스크류바:술래가 한 대 치면 술래를 5초...  게시일: 2018. 8. 20.   \n",
       "2  모듀 ㅂㅇㄹ ^_^* \\nㅋㅋㅋ 역대 최대킬 ㅋㅋㅋ\\n고마워 ^_^+ 가조쿠들 ㅋㅋ...  게시일: 2018. 8. 18.   \n",
       "3  사랑하는 말랑이 여러분! 다음에는 말이야, 로기, 미니 축구팀을 댓글로 남겨주세요....  게시일: 2018. 8. 18.   \n",
       "4  크흠...저런 총이 있어도 난 여포가 아니라 쥐포가 될것 같은데...\\niny070...  게시일: 2018. 8. 21.   \n",
       "\n",
       "                                                 url         views  \n",
       "0  https://www.youtube.com/watch?v=azoDJNPRU7s&li...  조회수 579,949회  \n",
       "1  https://www.youtube.com/watch?v=-BnUuHgUK5Q&li...  조회수 451,676회  \n",
       "2  https://www.youtube.com/watch?v=v0rDCGLcnpU&li...  조회수 955,578회  \n",
       "3  https://www.youtube.com/watch?v=cK8Z2fz0iUI&li...  조회수 191,211회  \n",
       "4  https://www.youtube.com/watch?v=bBbHq5sMqP0&li...  조회수 162,253회  "
      ]
     },
     "execution_count": 2,
     "metadata": {},
     "output_type": "execute_result"
    }
   ],
   "source": [
    "train = pd.read_csv(\"train.csv\")\n",
    "\n",
    "print(train.shape)\n",
    "train.head()"
   ]
  },
  {
   "cell_type": "markdown",
   "metadata": {},
   "source": [
    "### Upload_date\n",
    "- 게시년, 월, 일"
   ]
  },
  {
   "cell_type": "code",
   "execution_count": 3,
   "metadata": {},
   "outputs": [],
   "source": [
    "ls=list(train[\"upload_date\"])"
   ]
  },
  {
   "cell_type": "code",
   "execution_count": 4,
   "metadata": {},
   "outputs": [
    {
     "name": "stdout",
     "output_type": "stream",
     "text": [
      "실시간 스트림: 14시간시간 전\n",
      "실시간 스트림: 10시간시간 전\n",
      "실시간 스트림: 12시간시간 전\n",
      "실시간 스트림: 21시간시간 전\n",
      "실시간 스트림: 18시간시간 전\n",
      "실시간 스트림: 21시간시간 전\n",
      "실시간 스트림: 17시간시간 전\n",
      "실시간 스트림: 15시간시간 전\n",
      "실시간 스트림: 18시간시간 전\n",
      "실시간 스트림: 3시간시간 전\n",
      "실시간 스트림: 22시간시간 전\n",
      "실시간 스트림: 23시간시간 전\n",
      "실시간 스트림: 14시간시간 전\n",
      "실시간 스트림: 11시간시간 전\n",
      "실시간 스트림: 10시간시간 전\n",
      "실시간 스트림: 10시간시간 전\n",
      "실시간 스트림: 22시간시간 전\n",
      "실시간 스트림: 11시간시간 전\n"
     ]
    },
    {
     "data": {
      "text/plain": [
       "[3270,\n",
       " 3325,\n",
       " 3338,\n",
       " 4971,\n",
       " 4977,\n",
       " 5000,\n",
       " 5017,\n",
       " 5022,\n",
       " 5381,\n",
       " 6774,\n",
       " 7496,\n",
       " 7518,\n",
       " 7530,\n",
       " 7539,\n",
       " 8291,\n",
       " 8292,\n",
       " 8551,\n",
       " 8583]"
      ]
     },
     "execution_count": 4,
     "metadata": {},
     "output_type": "execute_result"
    }
   ],
   "source": [
    "del_list = []\n",
    "for i, s in enumerate(ls):\n",
    "    if \"시간시간\" in s:\n",
    "        print(s)\n",
    "        del_list.append(i)\n",
    "del_list"
   ]
  },
  {
   "cell_type": "code",
   "execution_count": 5,
   "metadata": {},
   "outputs": [
    {
     "data": {
      "text/plain": [
       "(8625, 13)"
      ]
     },
     "execution_count": 5,
     "metadata": {},
     "output_type": "execute_result"
    }
   ],
   "source": [
    "train = train.drop(del_list)\n",
    "train.shape"
   ]
  },
  {
   "cell_type": "code",
   "execution_count": 6,
   "metadata": {},
   "outputs": [],
   "source": [
    "train = train.reset_index(drop=True)"
   ]
  },
  {
   "cell_type": "code",
   "execution_count": 7,
   "metadata": {},
   "outputs": [],
   "source": [
    "s = '게시일: 2014. 2. 26.'"
   ]
  },
  {
   "cell_type": "code",
   "execution_count": 8,
   "metadata": {},
   "outputs": [
    {
     "data": {
      "text/plain": [
       "['2014', '2', '26']"
      ]
     },
     "execution_count": 8,
     "metadata": {},
     "output_type": "execute_result"
    }
   ],
   "source": [
    "s[5:-1].replace(\" \",\"\").split(\".\")"
   ]
  },
  {
   "cell_type": "code",
   "execution_count": 9,
   "metadata": {},
   "outputs": [],
   "source": [
    "def upload_date_clear_year(date):\n",
    "    if len(date) > 20:\n",
    "        return int(date[14:-1].replace(\" \",\"\").split(\".\")[0])\n",
    "    else:\n",
    "        return int(date[5:-1].replace(\" \",\"\").split(\".\")[0])\n",
    "\n",
    "def upload_date_clear_month(date):\n",
    "    if len(date) > 20:\n",
    "        return int(date[14:-1].replace(\" \",\"\").split(\".\")[1])\n",
    "    else:\n",
    "        return int(date[5:-1].replace(\" \",\"\").split(\".\")[1])\n",
    "\n",
    "def upload_date_clear_day(date):\n",
    "    if len(date) > 20:\n",
    "        return int(date[14:-1].replace(\" \",\"\").split(\".\")[2])\n",
    "    else:\n",
    "        return int(date[5:-1].replace(\" \",\"\").split(\".\")[2])"
   ]
  },
  {
   "cell_type": "code",
   "execution_count": 10,
   "metadata": {},
   "outputs": [],
   "source": [
    "train[\"upload_date_year\"] = train[\"upload_date\"].apply(upload_date_clear_year)\n",
    "train[\"upload_date_month\"] = train[\"upload_date\"].apply(upload_date_clear_month)\n",
    "train[\"upload_date_day\"] = train[\"upload_date\"].apply(upload_date_clear_day)"
   ]
  },
  {
   "cell_type": "code",
   "execution_count": 11,
   "metadata": {
    "scrolled": true
   },
   "outputs": [
    {
     "data": {
      "text/html": [
       "<div>\n",
       "<style scoped>\n",
       "    .dataframe tbody tr th:only-of-type {\n",
       "        vertical-align: middle;\n",
       "    }\n",
       "\n",
       "    .dataframe tbody tr th {\n",
       "        vertical-align: top;\n",
       "    }\n",
       "\n",
       "    .dataframe thead th {\n",
       "        text-align: right;\n",
       "    }\n",
       "</style>\n",
       "<table border=\"1\" class=\"dataframe\">\n",
       "  <thead>\n",
       "    <tr style=\"text-align: right;\">\n",
       "      <th></th>\n",
       "      <th>upload_date_year</th>\n",
       "      <th>upload_date_month</th>\n",
       "      <th>upload_date_day</th>\n",
       "    </tr>\n",
       "  </thead>\n",
       "  <tbody>\n",
       "    <tr>\n",
       "      <th>0</th>\n",
       "      <td>2018</td>\n",
       "      <td>8</td>\n",
       "      <td>17</td>\n",
       "    </tr>\n",
       "    <tr>\n",
       "      <th>1</th>\n",
       "      <td>2018</td>\n",
       "      <td>8</td>\n",
       "      <td>20</td>\n",
       "    </tr>\n",
       "    <tr>\n",
       "      <th>2</th>\n",
       "      <td>2018</td>\n",
       "      <td>8</td>\n",
       "      <td>18</td>\n",
       "    </tr>\n",
       "    <tr>\n",
       "      <th>3</th>\n",
       "      <td>2018</td>\n",
       "      <td>8</td>\n",
       "      <td>18</td>\n",
       "    </tr>\n",
       "    <tr>\n",
       "      <th>4</th>\n",
       "      <td>2018</td>\n",
       "      <td>8</td>\n",
       "      <td>21</td>\n",
       "    </tr>\n",
       "  </tbody>\n",
       "</table>\n",
       "</div>"
      ],
      "text/plain": [
       "   upload_date_year  upload_date_month  upload_date_day\n",
       "0              2018                  8               17\n",
       "1              2018                  8               20\n",
       "2              2018                  8               18\n",
       "3              2018                  8               18\n",
       "4              2018                  8               21"
      ]
     },
     "execution_count": 11,
     "metadata": {},
     "output_type": "execute_result"
    }
   ],
   "source": [
    "train[[\"upload_date_year\", \"upload_date_month\", \"upload_date_day\"]].head()"
   ]
  },
  {
   "cell_type": "markdown",
   "metadata": {},
   "source": [
    "### Crawl_date"
   ]
  },
  {
   "cell_type": "code",
   "execution_count": 12,
   "metadata": {},
   "outputs": [],
   "source": [
    "s = '2014.2.26'"
   ]
  },
  {
   "cell_type": "code",
   "execution_count": 13,
   "metadata": {},
   "outputs": [
    {
     "data": {
      "text/plain": [
       "2014"
      ]
     },
     "execution_count": 13,
     "metadata": {},
     "output_type": "execute_result"
    }
   ],
   "source": [
    "int(s.split(\".\")[0])"
   ]
  },
  {
   "cell_type": "code",
   "execution_count": 14,
   "metadata": {},
   "outputs": [],
   "source": [
    "def crawl_data_clear_year(date):\n",
    "    return int(date.split(\".\")[0])\n",
    "\n",
    "def crawl_data_clear_month(date):\n",
    "    return int(date.split(\".\")[1])\n",
    "\n",
    "def crawl_data_clear_day(date):\n",
    "    return int(date.split(\".\")[2])"
   ]
  },
  {
   "cell_type": "code",
   "execution_count": 15,
   "metadata": {},
   "outputs": [],
   "source": [
    "train[\"crawl_date_year\"] = train[\"crawl_date\"].apply(crawl_data_clear_year)\n",
    "train[\"crawl_date_month\"] = train[\"crawl_date\"].apply(crawl_data_clear_month)\n",
    "train[\"crawl_date_day\"] = train[\"crawl_date\"].apply(crawl_data_clear_day)"
   ]
  },
  {
   "cell_type": "code",
   "execution_count": 16,
   "metadata": {
    "scrolled": true
   },
   "outputs": [
    {
     "data": {
      "text/html": [
       "<div>\n",
       "<style scoped>\n",
       "    .dataframe tbody tr th:only-of-type {\n",
       "        vertical-align: middle;\n",
       "    }\n",
       "\n",
       "    .dataframe tbody tr th {\n",
       "        vertical-align: top;\n",
       "    }\n",
       "\n",
       "    .dataframe thead th {\n",
       "        text-align: right;\n",
       "    }\n",
       "</style>\n",
       "<table border=\"1\" class=\"dataframe\">\n",
       "  <thead>\n",
       "    <tr style=\"text-align: right;\">\n",
       "      <th></th>\n",
       "      <th>crawl_date_year</th>\n",
       "      <th>crawl_date_month</th>\n",
       "      <th>crawl_date_day</th>\n",
       "    </tr>\n",
       "  </thead>\n",
       "  <tbody>\n",
       "    <tr>\n",
       "      <th>0</th>\n",
       "      <td>2018</td>\n",
       "      <td>8</td>\n",
       "      <td>23</td>\n",
       "    </tr>\n",
       "    <tr>\n",
       "      <th>1</th>\n",
       "      <td>2018</td>\n",
       "      <td>8</td>\n",
       "      <td>23</td>\n",
       "    </tr>\n",
       "    <tr>\n",
       "      <th>2</th>\n",
       "      <td>2018</td>\n",
       "      <td>8</td>\n",
       "      <td>23</td>\n",
       "    </tr>\n",
       "    <tr>\n",
       "      <th>3</th>\n",
       "      <td>2018</td>\n",
       "      <td>8</td>\n",
       "      <td>23</td>\n",
       "    </tr>\n",
       "    <tr>\n",
       "      <th>4</th>\n",
       "      <td>2018</td>\n",
       "      <td>8</td>\n",
       "      <td>23</td>\n",
       "    </tr>\n",
       "  </tbody>\n",
       "</table>\n",
       "</div>"
      ],
      "text/plain": [
       "   crawl_date_year  crawl_date_month  crawl_date_day\n",
       "0             2018                 8              23\n",
       "1             2018                 8              23\n",
       "2             2018                 8              23\n",
       "3             2018                 8              23\n",
       "4             2018                 8              23"
      ]
     },
     "execution_count": 16,
     "metadata": {},
     "output_type": "execute_result"
    }
   ],
   "source": [
    "train[[\"crawl_date_year\", \"crawl_date_month\", \"crawl_date_day\"]].head()"
   ]
  },
  {
   "cell_type": "markdown",
   "metadata": {},
   "source": [
    "### Uploaded days"
   ]
  },
  {
   "cell_type": "code",
   "execution_count": 17,
   "metadata": {},
   "outputs": [
    {
     "name": "stderr",
     "output_type": "stream",
     "text": [
      "100%|██████████| 8625/8625 [00:06<00:00, 1253.22it/s]\n"
     ]
    }
   ],
   "source": [
    "from datetime import date\n",
    "\n",
    "for idx in tqdm(range(0, len(train))):\n",
    "    d0 = date(train[\"upload_date_year\"].loc[idx], train[\"upload_date_month\"].loc[idx], train[\"upload_date_day\"].loc[idx])\n",
    "    d1 = date(train[\"crawl_date_year\"].loc[idx], train[\"crawl_date_month\"].loc[idx], train[\"crawl_date_day\"].loc[idx])\n",
    "    train.loc[idx, \"uploaded_days\"] = (d1 - d0).days + 1"
   ]
  },
  {
   "cell_type": "code",
   "execution_count": 18,
   "metadata": {},
   "outputs": [
    {
     "data": {
      "text/html": [
       "<div>\n",
       "<style scoped>\n",
       "    .dataframe tbody tr th:only-of-type {\n",
       "        vertical-align: middle;\n",
       "    }\n",
       "\n",
       "    .dataframe tbody tr th {\n",
       "        vertical-align: top;\n",
       "    }\n",
       "\n",
       "    .dataframe thead th {\n",
       "        text-align: right;\n",
       "    }\n",
       "</style>\n",
       "<table border=\"1\" class=\"dataframe\">\n",
       "  <thead>\n",
       "    <tr style=\"text-align: right;\">\n",
       "      <th></th>\n",
       "      <th>uploaded_days</th>\n",
       "    </tr>\n",
       "  </thead>\n",
       "  <tbody>\n",
       "    <tr>\n",
       "      <th>0</th>\n",
       "      <td>7.0</td>\n",
       "    </tr>\n",
       "    <tr>\n",
       "      <th>1</th>\n",
       "      <td>4.0</td>\n",
       "    </tr>\n",
       "    <tr>\n",
       "      <th>2</th>\n",
       "      <td>6.0</td>\n",
       "    </tr>\n",
       "    <tr>\n",
       "      <th>3</th>\n",
       "      <td>6.0</td>\n",
       "    </tr>\n",
       "    <tr>\n",
       "      <th>4</th>\n",
       "      <td>3.0</td>\n",
       "    </tr>\n",
       "  </tbody>\n",
       "</table>\n",
       "</div>"
      ],
      "text/plain": [
       "   uploaded_days\n",
       "0            7.0\n",
       "1            4.0\n",
       "2            6.0\n",
       "3            6.0\n",
       "4            3.0"
      ]
     },
     "execution_count": 18,
     "metadata": {},
     "output_type": "execute_result"
    }
   ],
   "source": [
    "train[[\"uploaded_days\"]].head()"
   ]
  },
  {
   "cell_type": "markdown",
   "metadata": {},
   "source": [
    "### Views\n",
    "- 조회수 ( 일평균 조회수를 target 값으로 사용 )\n",
    "- 예측할 target"
   ]
  },
  {
   "cell_type": "code",
   "execution_count": 19,
   "metadata": {},
   "outputs": [],
   "source": [
    "def views_clear(view):\n",
    "    if view == '조회수 없음':\n",
    "        return 0\n",
    "    else:\n",
    "        return int(view[4:-1].replace(\",\",\"\"))"
   ]
  },
  {
   "cell_type": "code",
   "execution_count": 20,
   "metadata": {},
   "outputs": [],
   "source": [
    "train[\"views\"] = train[\"views\"].apply(views_clear)"
   ]
  },
  {
   "cell_type": "code",
   "execution_count": 21,
   "metadata": {},
   "outputs": [
    {
     "data": {
      "text/plain": [
       "0    579949\n",
       "1    451676\n",
       "2    955578\n",
       "3    191211\n",
       "4    162253\n",
       "Name: views, dtype: int64"
      ]
     },
     "execution_count": 21,
     "metadata": {},
     "output_type": "execute_result"
    }
   ],
   "source": [
    "train[\"views\"].head()"
   ]
  },
  {
   "cell_type": "code",
   "execution_count": 22,
   "metadata": {},
   "outputs": [],
   "source": [
    "train[\"views\"] = train[\"views\"] / train[\"uploaded_days\"]"
   ]
  },
  {
   "cell_type": "code",
   "execution_count": 23,
   "metadata": {},
   "outputs": [
    {
     "data": {
      "text/plain": [
       "0     82849.857143\n",
       "1    112919.000000\n",
       "2    159263.000000\n",
       "3     31868.500000\n",
       "4     54084.333333\n",
       "Name: views, dtype: float64"
      ]
     },
     "execution_count": 23,
     "metadata": {},
     "output_type": "execute_result"
    }
   ],
   "source": [
    "train[\"views\"].head()"
   ]
  },
  {
   "cell_type": "markdown",
   "metadata": {},
   "source": [
    "### Comments\n",
    "- 댓글 갯수"
   ]
  },
  {
   "cell_type": "code",
   "execution_count": 24,
   "metadata": {},
   "outputs": [],
   "source": [
    "def comments_clear(comment):\n",
    "    if comment[-1] == \"개\":\n",
    "        return int(comment[3:-1].replace(\",\",\"\"))\n",
    "    else:\n",
    "        return int(comment)"
   ]
  },
  {
   "cell_type": "code",
   "execution_count": 25,
   "metadata": {},
   "outputs": [],
   "source": [
    "train[\"comments\"] = train[\"comments\"].apply(comments_clear)"
   ]
  },
  {
   "cell_type": "code",
   "execution_count": 26,
   "metadata": {},
   "outputs": [
    {
     "data": {
      "text/plain": [
       "0    4919\n",
       "1    4964\n",
       "2    5262\n",
       "3    1823\n",
       "4    1159\n",
       "Name: comments, dtype: int64"
      ]
     },
     "execution_count": 26,
     "metadata": {},
     "output_type": "execute_result"
    }
   ],
   "source": [
    "train[\"comments\"].head()"
   ]
  },
  {
   "cell_type": "markdown",
   "metadata": {},
   "source": [
    "### Correlation\n",
    "- 조회수와 상당히 밀접하게 양의 상관관계가 있을것으로 예측하였지만, 0.4를 겨우 넘기는 상관계수를 보여준다."
   ]
  },
  {
   "cell_type": "code",
   "execution_count": 28,
   "metadata": {},
   "outputs": [],
   "source": [
    "dfX = train[[\"comments\"]]\n",
    "dfy = train[\"views\"]"
   ]
  },
  {
   "cell_type": "code",
   "execution_count": 29,
   "metadata": {},
   "outputs": [
    {
     "data": {
      "text/html": [
       "<div>\n",
       "<style scoped>\n",
       "    .dataframe tbody tr th:only-of-type {\n",
       "        vertical-align: middle;\n",
       "    }\n",
       "\n",
       "    .dataframe tbody tr th {\n",
       "        vertical-align: top;\n",
       "    }\n",
       "\n",
       "    .dataframe thead th {\n",
       "        text-align: right;\n",
       "    }\n",
       "</style>\n",
       "<table border=\"1\" class=\"dataframe\">\n",
       "  <thead>\n",
       "    <tr style=\"text-align: right;\">\n",
       "      <th></th>\n",
       "      <th>views</th>\n",
       "      <th>comments</th>\n",
       "    </tr>\n",
       "  </thead>\n",
       "  <tbody>\n",
       "    <tr>\n",
       "      <th>0</th>\n",
       "      <td>82849.857143</td>\n",
       "      <td>4919</td>\n",
       "    </tr>\n",
       "    <tr>\n",
       "      <th>1</th>\n",
       "      <td>112919.000000</td>\n",
       "      <td>4964</td>\n",
       "    </tr>\n",
       "    <tr>\n",
       "      <th>2</th>\n",
       "      <td>159263.000000</td>\n",
       "      <td>5262</td>\n",
       "    </tr>\n",
       "    <tr>\n",
       "      <th>3</th>\n",
       "      <td>31868.500000</td>\n",
       "      <td>1823</td>\n",
       "    </tr>\n",
       "    <tr>\n",
       "      <th>4</th>\n",
       "      <td>54084.333333</td>\n",
       "      <td>1159</td>\n",
       "    </tr>\n",
       "  </tbody>\n",
       "</table>\n",
       "</div>"
      ],
      "text/plain": [
       "           views  comments\n",
       "0   82849.857143      4919\n",
       "1  112919.000000      4964\n",
       "2  159263.000000      5262\n",
       "3   31868.500000      1823\n",
       "4   54084.333333      1159"
      ]
     },
     "execution_count": 29,
     "metadata": {},
     "output_type": "execute_result"
    }
   ],
   "source": [
    "df = pd.concat([dfy, dfX], axis=1)\n",
    "df.head()"
   ]
  },
  {
   "cell_type": "code",
   "execution_count": 31,
   "metadata": {},
   "outputs": [
    {
     "data": {
      "text/html": [
       "<div>\n",
       "<style scoped>\n",
       "    .dataframe tbody tr th:only-of-type {\n",
       "        vertical-align: middle;\n",
       "    }\n",
       "\n",
       "    .dataframe tbody tr th {\n",
       "        vertical-align: top;\n",
       "    }\n",
       "\n",
       "    .dataframe thead th {\n",
       "        text-align: right;\n",
       "    }\n",
       "</style>\n",
       "<table border=\"1\" class=\"dataframe\">\n",
       "  <thead>\n",
       "    <tr style=\"text-align: right;\">\n",
       "      <th></th>\n",
       "      <th>views</th>\n",
       "      <th>comments</th>\n",
       "    </tr>\n",
       "  </thead>\n",
       "  <tbody>\n",
       "    <tr>\n",
       "      <th>views</th>\n",
       "      <td>1.000000</td>\n",
       "      <td>0.402716</td>\n",
       "    </tr>\n",
       "    <tr>\n",
       "      <th>comments</th>\n",
       "      <td>0.402716</td>\n",
       "      <td>1.000000</td>\n",
       "    </tr>\n",
       "  </tbody>\n",
       "</table>\n",
       "</div>"
      ],
      "text/plain": [
       "             views  comments\n",
       "views     1.000000  0.402716\n",
       "comments  0.402716  1.000000"
      ]
     },
     "execution_count": 31,
     "metadata": {},
     "output_type": "execute_result"
    }
   ],
   "source": [
    "df.corr()"
   ]
  },
  {
   "cell_type": "code",
   "execution_count": 33,
   "metadata": {},
   "outputs": [
    {
     "data": {
      "text/plain": [
       "<seaborn.axisgrid.PairGrid at 0x114899198>"
      ]
     },
     "execution_count": 33,
     "metadata": {},
     "output_type": "execute_result"
    },
    {
     "data": {
      "image/png": "[encoded data removed]",
      "text/plain": [
       "<Figure size 360x360 with 6 Axes>"
      ]
     },
     "metadata": {},
     "output_type": "display_data"
    }
   ],
   "source": [
    "import seaborn as sns\n",
    "\n",
    "sns.pairplot(df)"
   ]
  },
  {
   "cell_type": "code",
   "execution_count": 34,
   "metadata": {},
   "outputs": [
    {
     "data": {
      "text/plain": [
       "<matplotlib.axes._subplots.AxesSubplot at 0x117114128>"
      ]
     },
     "execution_count": 34,
     "metadata": {},
     "output_type": "execute_result"
    },
    {
     "data": {
      "image/png": "[encoded data removed]",
      "text/plain": [
       "<Figure size 432x288 with 2 Axes>"
      ]
     },
     "metadata": {},
     "output_type": "display_data"
    }
   ],
   "source": [
    "sns.heatmap(df.corr(), linewidths=.5, annot=True)"
   ]
  },
  {
   "cell_type": "code",
   "execution_count": 37,
   "metadata": {},
   "outputs": [
    {
     "name": "stdout",
     "output_type": "stream",
     "text": [
      "                            OLS Regression Results                            \n",
      "==============================================================================\n",
      "Dep. Variable:                  views   R-squared:                       0.162\n",
      "Model:                            OLS   Adj. R-squared:                  0.162\n",
      "Method:                 Least Squares   F-statistic:                     1669.\n",
      "Date:                Fri, 31 Aug 2018   Prob (F-statistic):               0.00\n",
      "Time:                        20:23:58   Log-Likelihood:            -1.1731e+05\n",
      "No. Observations:                8625   AIC:                         2.346e+05\n",
      "Df Residuals:                    8623   BIC:                         2.346e+05\n",
      "Df Model:                           1                                         \n",
      "Covariance Type:            nonrobust                                         \n",
      "==============================================================================\n",
      "                 coef    std err          t      P>|t|      [0.025      0.975]\n",
      "------------------------------------------------------------------------------\n",
      "Intercept   1.627e+04   2110.239      7.712      0.000    1.21e+04    2.04e+04\n",
      "comments       1.2506      0.031     40.856      0.000       1.191       1.311\n",
      "==============================================================================\n",
      "Omnibus:                    27566.222   Durbin-Watson:                   1.902\n",
      "Prob(Omnibus):                  0.000   Jarque-Bera (JB):       5552402721.395\n",
      "Skew:                          51.680   Prob(JB):                         0.00\n",
      "Kurtosis:                    3932.310   Cond. No.                     6.92e+04\n",
      "==============================================================================\n",
      "\n",
      "Warnings:\n",
      "[1] Standard Errors assume that the covariance matrix of the errors is correctly specified.\n",
      "[2] The condition number is large, 6.92e+04. This might indicate that there are\n",
      "strong multicollinearity or other numerical problems.\n"
     ]
    }
   ],
   "source": [
    "import statsmodels.api as sm\n",
    "\n",
    "model = sm.OLS.from_formula(\"views ~ \"\n",
    "                            \"comments\", data=df)\n",
    "result = model.fit()\n",
    "print(result.summary())"
   ]
  },
  {
   "cell_type": "code",
   "execution_count": 38,
   "metadata": {},
   "outputs": [
    {
     "name": "stdout",
     "output_type": "stream",
     "text": [
      "                            OLS Regression Results                            \n",
      "==============================================================================\n",
      "Dep. Variable:                  views   R-squared:                       0.162\n",
      "Model:                            OLS   Adj. R-squared:                  0.162\n",
      "Method:                 Least Squares   F-statistic:                     1669.\n",
      "Date:                Fri, 31 Aug 2018   Prob (F-statistic):               0.00\n",
      "Time:                        20:23:59   Log-Likelihood:            -1.1731e+05\n",
      "No. Observations:                8625   AIC:                         2.346e+05\n",
      "Df Residuals:                    8623   BIC:                         2.346e+05\n",
      "Df Model:                           1                                         \n",
      "Covariance Type:            nonrobust                                         \n",
      "===================================================================================\n",
      "                      coef    std err          t      P>|t|      [0.025      0.975]\n",
      "-----------------------------------------------------------------------------------\n",
      "Intercept        2.349e+04   2102.842     11.169      0.000    1.94e+04    2.76e+04\n",
      "scale(comments)  8.591e+04   2102.842     40.856      0.000    8.18e+04       9e+04\n",
      "==============================================================================\n",
      "Omnibus:                    27566.222   Durbin-Watson:                   1.902\n",
      "Prob(Omnibus):                  0.000   Jarque-Bera (JB):       5552402721.395\n",
      "Skew:                          51.680   Prob(JB):                         0.00\n",
      "Kurtosis:                    3932.310   Cond. No.                         1.00\n",
      "==============================================================================\n",
      "\n",
      "Warnings:\n",
      "[1] Standard Errors assume that the covariance matrix of the errors is correctly specified.\n"
     ]
    }
   ],
   "source": [
    "scale_model = sm.OLS.from_formula(\"views ~ \"\n",
    "                            \"scale(comments)\", data=df)\n",
    "result = scale_model.fit()\n",
    "print(result.summary())"
   ]
  },
  {
   "cell_type": "markdown",
   "metadata": {},
   "source": [
    "### 결론 : 양의 상관관계를 가지고 있으나, 상관계수 0.4로 낮은 편이며, 신뢰도가 낮다."
   ]
  }
 ],
 "metadata": {
  "kernelspec": {
   "display_name": "Python 3",
   "language": "python",
   "name": "python3"
  },
  "language_info": {
   "codemirror_mode": {
    "name": "ipython",
    "version": 3
   },
   "file_extension": ".py",
   "mimetype": "text/x-python",
   "name": "python",
   "nbconvert_exporter": "python",
   "pygments_lexer": "ipython3",
   "version": "3.6.6"
  }
 },
 "nbformat": 4,
 "nbformat_minor": 2
}

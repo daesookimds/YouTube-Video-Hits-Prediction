{
 "cells": [
  {
   "cell_type": "markdown",
   "metadata": {},
   "source": [
    "## EDA - 01 - Like and Dislike\n",
    "- 조회수와 좋아요, 싫어요의 관계"
   ]
  },
  {
   "cell_type": "code",
   "execution_count": 1,
   "metadata": {},
   "outputs": [],
   "source": [
    "import numpy as np\n",
    "import pandas as pd\n",
    "import matplotlib.pyplot as plt\n",
    "import seaborn as sns\n",
    "from tqdm import tqdm\n",
    "\n",
    "%matplotlib inline"
   ]
  },
  {
   "cell_type": "markdown",
   "metadata": {},
   "source": [
    "### Data Load"
   ]
  },
  {
   "cell_type": "code",
   "execution_count": 2,
   "metadata": {
    "scrolled": true
   },
   "outputs": [
    {
     "name": "stdout",
     "output_type": "stream",
     "text": [
      "(5177, 13)\n"
     ]
    },
    {
     "data": {
      "text/html": [
       "<div>\n",
       "<style scoped>\n",
       "    .dataframe tbody tr th:only-of-type {\n",
       "        vertical-align: middle;\n",
       "    }\n",
       "\n",
       "    .dataframe tbody tr th {\n",
       "        vertical-align: top;\n",
       "    }\n",
       "\n",
       "    .dataframe thead th {\n",
       "        text-align: right;\n",
       "    }\n",
       "</style>\n",
       "<table border=\"1\" class=\"dataframe\">\n",
       "  <thead>\n",
       "    <tr style=\"text-align: right;\">\n",
       "      <th></th>\n",
       "      <th>dislike</th>\n",
       "      <th>category</th>\n",
       "      <th>comments</th>\n",
       "      <th>like</th>\n",
       "      <th>play_time</th>\n",
       "      <th>subscribers</th>\n",
       "      <th>tag</th>\n",
       "      <th>title</th>\n",
       "      <th>top_comment</th>\n",
       "      <th>upload_date</th>\n",
       "      <th>url</th>\n",
       "      <th>views</th>\n",
       "      <th>crawl_date</th>\n",
       "    </tr>\n",
       "  </thead>\n",
       "  <tbody>\n",
       "    <tr>\n",
       "      <th>0</th>\n",
       "      <td>277</td>\n",
       "      <td>게임</td>\n",
       "      <td>댓글 4,919개</td>\n",
       "      <td>1.3만</td>\n",
       "      <td>0:14</td>\n",
       "      <td>151만</td>\n",
       "      <td>['마인크래프트', 'Minecraft', '샌드박스 네트워크', '샌드박스', '...</td>\n",
       "      <td>마크판 거지키우기 업그레이드 *크리에이터* 키우기! - 마인크래프트 - [잠뜰]</td>\n",
       "      <td>그동안 여러분이 잠뜰TV에서 가장 재밌게 본 영상은?!\\n댓글에 많이 남겨주시고 좋...</td>\n",
       "      <td>게시일: 2018. 8. 17.</td>\n",
       "      <td>https://www.youtube.com/watch?v=azoDJNPRU7s&amp;li...</td>\n",
       "      <td>조회수 579,949회</td>\n",
       "      <td>2018.08.23</td>\n",
       "    </tr>\n",
       "    <tr>\n",
       "      <th>1</th>\n",
       "      <td>278</td>\n",
       "      <td>게임</td>\n",
       "      <td>댓글 4,964개</td>\n",
       "      <td>8.7천</td>\n",
       "      <td>0:15</td>\n",
       "      <td>236만</td>\n",
       "      <td>['도티', '도티 마피아', '도티 머더', '마피아 머더', 'mafia', '...</td>\n",
       "      <td>직업 머더 \"곤충\"능력 특집 (부제: 파브르와 저승벌레 팡수)</td>\n",
       "      <td>다음 컨셉은 아이스 크림 어떨까요?예를 들면스크류바:술래가 한 대 치면 술래를 5초...</td>\n",
       "      <td>게시일: 2018. 8. 20.</td>\n",
       "      <td>https://www.youtube.com/watch?v=-BnUuHgUK5Q&amp;li...</td>\n",
       "      <td>조회수 451,676회</td>\n",
       "      <td>2018.08.23</td>\n",
       "    </tr>\n",
       "    <tr>\n",
       "      <th>2</th>\n",
       "      <td>561</td>\n",
       "      <td>게임</td>\n",
       "      <td>댓글 5,262개</td>\n",
       "      <td>2.3만</td>\n",
       "      <td>6:47</td>\n",
       "      <td>246만</td>\n",
       "      <td>['보겸', '보겸TV', 'bokyem', '도티', '롤', '오버워치', '원...</td>\n",
       "      <td>14번의”아디오스” ㄷ1지고싶으면 들이대봐 드루와</td>\n",
       "      <td>모듀 ㅂㅇㄹ ^_^* \\nㅋㅋㅋ 역대 최대킬 ㅋㅋㅋ\\n고마워 ^_^+ 가조쿠들 ㅋㅋ...</td>\n",
       "      <td>게시일: 2018. 8. 18.</td>\n",
       "      <td>https://www.youtube.com/watch?v=v0rDCGLcnpU&amp;li...</td>\n",
       "      <td>조회수 955,578회</td>\n",
       "      <td>2018.08.23</td>\n",
       "    </tr>\n",
       "  </tbody>\n",
       "</table>\n",
       "</div>"
      ],
      "text/plain": [
       "  dislike category   comments  like play_time subscribers  \\\n",
       "0     277       게임  댓글 4,919개  1.3만      0:14        151만   \n",
       "1     278       게임  댓글 4,964개  8.7천      0:15        236만   \n",
       "2     561       게임  댓글 5,262개  2.3만      6:47        246만   \n",
       "\n",
       "                                                 tag  \\\n",
       "0  ['마인크래프트', 'Minecraft', '샌드박스 네트워크', '샌드박스', '...   \n",
       "1  ['도티', '도티 마피아', '도티 머더', '마피아 머더', 'mafia', '...   \n",
       "2  ['보겸', '보겸TV', 'bokyem', '도티', '롤', '오버워치', '원...   \n",
       "\n",
       "                                          title  \\\n",
       "0  마크판 거지키우기 업그레이드 *크리에이터* 키우기! - 마인크래프트 - [잠뜰]   \n",
       "1            직업 머더 \"곤충\"능력 특집 (부제: 파브르와 저승벌레 팡수)   \n",
       "2                   14번의”아디오스” ㄷ1지고싶으면 들이대봐 드루와   \n",
       "\n",
       "                                         top_comment        upload_date  \\\n",
       "0  그동안 여러분이 잠뜰TV에서 가장 재밌게 본 영상은?!\\n댓글에 많이 남겨주시고 좋...  게시일: 2018. 8. 17.   \n",
       "1  다음 컨셉은 아이스 크림 어떨까요?예를 들면스크류바:술래가 한 대 치면 술래를 5초...  게시일: 2018. 8. 20.   \n",
       "2  모듀 ㅂㅇㄹ ^_^* \\nㅋㅋㅋ 역대 최대킬 ㅋㅋㅋ\\n고마워 ^_^+ 가조쿠들 ㅋㅋ...  게시일: 2018. 8. 18.   \n",
       "\n",
       "                                                 url         views  crawl_date  \n",
       "0  https://www.youtube.com/watch?v=azoDJNPRU7s&li...  조회수 579,949회  2018.08.23  \n",
       "1  https://www.youtube.com/watch?v=-BnUuHgUK5Q&li...  조회수 451,676회  2018.08.23  \n",
       "2  https://www.youtube.com/watch?v=v0rDCGLcnpU&li...  조회수 955,578회  2018.08.23  "
      ]
     },
     "execution_count": 2,
     "metadata": {},
     "output_type": "execute_result"
    }
   ],
   "source": [
    "train = pd.read_csv(\"train.csv\")\n",
    "train.columns = ['dislike', 'category', 'comments', 'like', 'play_time',\n",
    "       'subscribers', 'tag', 'title', 'top_comment', 'upload_date', 'url',\n",
    "       'views', 'crawl_date']\n",
    "\n",
    "print(train.shape)\n",
    "train.head(3)"
   ]
  },
  {
   "cell_type": "markdown",
   "metadata": {},
   "source": [
    "### Upload_date\n",
    "- 게시년, 월, 일"
   ]
  },
  {
   "cell_type": "code",
   "execution_count": 3,
   "metadata": {},
   "outputs": [],
   "source": [
    "ls=list(train[\"upload_date\"])"
   ]
  },
  {
   "cell_type": "code",
   "execution_count": 4,
   "metadata": {},
   "outputs": [
    {
     "name": "stdout",
     "output_type": "stream",
     "text": [
      "실시간 스트림: 14시간시간 전\n",
      "실시간 스트림: 10시간시간 전\n",
      "실시간 스트림: 12시간시간 전\n"
     ]
    },
    {
     "data": {
      "text/plain": [
       "[3275, 3331, 3345]"
      ]
     },
     "execution_count": 4,
     "metadata": {},
     "output_type": "execute_result"
    }
   ],
   "source": [
    "del_list = []\n",
    "for i, s in enumerate(ls):\n",
    "    if \"시간시간\" in s:\n",
    "        print(s)\n",
    "        del_list.append(i)\n",
    "del_list"
   ]
  },
  {
   "cell_type": "code",
   "execution_count": 5,
   "metadata": {},
   "outputs": [
    {
     "data": {
      "text/plain": [
       "(5174, 13)"
      ]
     },
     "execution_count": 5,
     "metadata": {},
     "output_type": "execute_result"
    }
   ],
   "source": [
    "train = train.drop(del_list)\n",
    "train.shape"
   ]
  },
  {
   "cell_type": "code",
   "execution_count": 6,
   "metadata": {},
   "outputs": [],
   "source": [
    "train = train.reset_index(drop=True)"
   ]
  },
  {
   "cell_type": "code",
   "execution_count": 7,
   "metadata": {},
   "outputs": [],
   "source": [
    "s = '게시일: 2014. 2. 26.'"
   ]
  },
  {
   "cell_type": "code",
   "execution_count": 8,
   "metadata": {},
   "outputs": [
    {
     "data": {
      "text/plain": [
       "['2014', '2', '26']"
      ]
     },
     "execution_count": 8,
     "metadata": {},
     "output_type": "execute_result"
    }
   ],
   "source": [
    "s[5:-1].replace(\" \",\"\").split(\".\")"
   ]
  },
  {
   "cell_type": "code",
   "execution_count": 9,
   "metadata": {},
   "outputs": [],
   "source": [
    "def upload_date_clear_year(date):\n",
    "    if len(date) > 20:\n",
    "        return int(date[14:-1].replace(\" \",\"\").split(\".\")[0])\n",
    "    else:\n",
    "        return int(date[5:-1].replace(\" \",\"\").split(\".\")[0])\n",
    "\n",
    "def upload_date_clear_month(date):\n",
    "    if len(date) > 20:\n",
    "        return int(date[14:-1].replace(\" \",\"\").split(\".\")[1])\n",
    "    else:\n",
    "        return int(date[5:-1].replace(\" \",\"\").split(\".\")[1])\n",
    "\n",
    "def upload_date_clear_day(date):\n",
    "    if len(date) > 20:\n",
    "        return int(date[14:-1].replace(\" \",\"\").split(\".\")[2])\n",
    "    else:\n",
    "        return int(date[5:-1].replace(\" \",\"\").split(\".\")[2])"
   ]
  },
  {
   "cell_type": "code",
   "execution_count": 10,
   "metadata": {},
   "outputs": [],
   "source": [
    "train[\"upload_date_year\"] = train[\"upload_date\"].apply(upload_date_clear_year)\n",
    "train[\"upload_date_month\"] = train[\"upload_date\"].apply(upload_date_clear_month)\n",
    "train[\"upload_date_day\"] = train[\"upload_date\"].apply(upload_date_clear_day)"
   ]
  },
  {
   "cell_type": "code",
   "execution_count": 11,
   "metadata": {
    "scrolled": true
   },
   "outputs": [
    {
     "data": {
      "text/html": [
       "<div>\n",
       "<style scoped>\n",
       "    .dataframe tbody tr th:only-of-type {\n",
       "        vertical-align: middle;\n",
       "    }\n",
       "\n",
       "    .dataframe tbody tr th {\n",
       "        vertical-align: top;\n",
       "    }\n",
       "\n",
       "    .dataframe thead th {\n",
       "        text-align: right;\n",
       "    }\n",
       "</style>\n",
       "<table border=\"1\" class=\"dataframe\">\n",
       "  <thead>\n",
       "    <tr style=\"text-align: right;\">\n",
       "      <th></th>\n",
       "      <th>upload_date_year</th>\n",
       "      <th>upload_date_month</th>\n",
       "      <th>upload_date_day</th>\n",
       "    </tr>\n",
       "  </thead>\n",
       "  <tbody>\n",
       "    <tr>\n",
       "      <th>0</th>\n",
       "      <td>2018</td>\n",
       "      <td>8</td>\n",
       "      <td>17</td>\n",
       "    </tr>\n",
       "    <tr>\n",
       "      <th>1</th>\n",
       "      <td>2018</td>\n",
       "      <td>8</td>\n",
       "      <td>20</td>\n",
       "    </tr>\n",
       "    <tr>\n",
       "      <th>2</th>\n",
       "      <td>2018</td>\n",
       "      <td>8</td>\n",
       "      <td>18</td>\n",
       "    </tr>\n",
       "    <tr>\n",
       "      <th>3</th>\n",
       "      <td>2018</td>\n",
       "      <td>8</td>\n",
       "      <td>18</td>\n",
       "    </tr>\n",
       "    <tr>\n",
       "      <th>4</th>\n",
       "      <td>2018</td>\n",
       "      <td>8</td>\n",
       "      <td>21</td>\n",
       "    </tr>\n",
       "  </tbody>\n",
       "</table>\n",
       "</div>"
      ],
      "text/plain": [
       "   upload_date_year  upload_date_month  upload_date_day\n",
       "0              2018                  8               17\n",
       "1              2018                  8               20\n",
       "2              2018                  8               18\n",
       "3              2018                  8               18\n",
       "4              2018                  8               21"
      ]
     },
     "execution_count": 11,
     "metadata": {},
     "output_type": "execute_result"
    }
   ],
   "source": [
    "train[[\"upload_date_year\", \"upload_date_month\", \"upload_date_day\"]].head()"
   ]
  },
  {
   "cell_type": "markdown",
   "metadata": {},
   "source": [
    "### Crawl_date"
   ]
  },
  {
   "cell_type": "code",
   "execution_count": 12,
   "metadata": {},
   "outputs": [],
   "source": [
    "s = '2014.2.26'"
   ]
  },
  {
   "cell_type": "code",
   "execution_count": 13,
   "metadata": {},
   "outputs": [
    {
     "data": {
      "text/plain": [
       "2014"
      ]
     },
     "execution_count": 13,
     "metadata": {},
     "output_type": "execute_result"
    }
   ],
   "source": [
    "int(s.split(\".\")[0])"
   ]
  },
  {
   "cell_type": "code",
   "execution_count": 14,
   "metadata": {},
   "outputs": [],
   "source": [
    "def crawl_data_clear_year(date):\n",
    "    return int(date.split(\".\")[0])\n",
    "\n",
    "def crawl_data_clear_month(date):\n",
    "    return int(date.split(\".\")[1])\n",
    "\n",
    "def crawl_data_clear_day(date):\n",
    "    return int(date.split(\".\")[2])"
   ]
  },
  {
   "cell_type": "code",
   "execution_count": 15,
   "metadata": {},
   "outputs": [],
   "source": [
    "train[\"crawl_date_year\"] = train[\"crawl_date\"].apply(crawl_data_clear_year)\n",
    "train[\"crawl_date_month\"] = train[\"crawl_date\"].apply(crawl_data_clear_month)\n",
    "train[\"crawl_date_day\"] = train[\"crawl_date\"].apply(crawl_data_clear_day)"
   ]
  },
  {
   "cell_type": "code",
   "execution_count": 16,
   "metadata": {
    "scrolled": true
   },
   "outputs": [
    {
     "data": {
      "text/html": [
       "<div>\n",
       "<style scoped>\n",
       "    .dataframe tbody tr th:only-of-type {\n",
       "        vertical-align: middle;\n",
       "    }\n",
       "\n",
       "    .dataframe tbody tr th {\n",
       "        vertical-align: top;\n",
       "    }\n",
       "\n",
       "    .dataframe thead th {\n",
       "        text-align: right;\n",
       "    }\n",
       "</style>\n",
       "<table border=\"1\" class=\"dataframe\">\n",
       "  <thead>\n",
       "    <tr style=\"text-align: right;\">\n",
       "      <th></th>\n",
       "      <th>crawl_date_year</th>\n",
       "      <th>crawl_date_month</th>\n",
       "      <th>crawl_date_day</th>\n",
       "    </tr>\n",
       "  </thead>\n",
       "  <tbody>\n",
       "    <tr>\n",
       "      <th>0</th>\n",
       "      <td>2018</td>\n",
       "      <td>8</td>\n",
       "      <td>23</td>\n",
       "    </tr>\n",
       "    <tr>\n",
       "      <th>1</th>\n",
       "      <td>2018</td>\n",
       "      <td>8</td>\n",
       "      <td>23</td>\n",
       "    </tr>\n",
       "    <tr>\n",
       "      <th>2</th>\n",
       "      <td>2018</td>\n",
       "      <td>8</td>\n",
       "      <td>23</td>\n",
       "    </tr>\n",
       "    <tr>\n",
       "      <th>3</th>\n",
       "      <td>2018</td>\n",
       "      <td>8</td>\n",
       "      <td>23</td>\n",
       "    </tr>\n",
       "    <tr>\n",
       "      <th>4</th>\n",
       "      <td>2018</td>\n",
       "      <td>8</td>\n",
       "      <td>23</td>\n",
       "    </tr>\n",
       "  </tbody>\n",
       "</table>\n",
       "</div>"
      ],
      "text/plain": [
       "   crawl_date_year  crawl_date_month  crawl_date_day\n",
       "0             2018                 8              23\n",
       "1             2018                 8              23\n",
       "2             2018                 8              23\n",
       "3             2018                 8              23\n",
       "4             2018                 8              23"
      ]
     },
     "execution_count": 16,
     "metadata": {},
     "output_type": "execute_result"
    }
   ],
   "source": [
    "train[[\"crawl_date_year\", \"crawl_date_month\", \"crawl_date_day\"]].head()"
   ]
  },
  {
   "cell_type": "markdown",
   "metadata": {},
   "source": [
    "### Uploaded days"
   ]
  },
  {
   "cell_type": "code",
   "execution_count": 17,
   "metadata": {},
   "outputs": [
    {
     "name": "stderr",
     "output_type": "stream",
     "text": [
      "100%|██████████| 5174/5174 [00:03<00:00, 1370.29it/s]\n"
     ]
    }
   ],
   "source": [
    "from datetime import date\n",
    "\n",
    "for idx in tqdm(range(0, len(train))):\n",
    "    d0 = date(train[\"upload_date_year\"].loc[idx], train[\"upload_date_month\"].loc[idx], train[\"upload_date_day\"].loc[idx])\n",
    "    d1 = date(train[\"crawl_date_year\"].loc[idx], train[\"crawl_date_month\"].loc[idx], train[\"crawl_date_day\"].loc[idx])\n",
    "    train.loc[idx, \"uploaded_days\"] = (d1 - d0).days"
   ]
  },
  {
   "cell_type": "code",
   "execution_count": 18,
   "metadata": {},
   "outputs": [
    {
     "data": {
      "text/html": [
       "<div>\n",
       "<style scoped>\n",
       "    .dataframe tbody tr th:only-of-type {\n",
       "        vertical-align: middle;\n",
       "    }\n",
       "\n",
       "    .dataframe tbody tr th {\n",
       "        vertical-align: top;\n",
       "    }\n",
       "\n",
       "    .dataframe thead th {\n",
       "        text-align: right;\n",
       "    }\n",
       "</style>\n",
       "<table border=\"1\" class=\"dataframe\">\n",
       "  <thead>\n",
       "    <tr style=\"text-align: right;\">\n",
       "      <th></th>\n",
       "      <th>uploaded_days</th>\n",
       "    </tr>\n",
       "  </thead>\n",
       "  <tbody>\n",
       "    <tr>\n",
       "      <th>0</th>\n",
       "      <td>6.0</td>\n",
       "    </tr>\n",
       "    <tr>\n",
       "      <th>1</th>\n",
       "      <td>3.0</td>\n",
       "    </tr>\n",
       "    <tr>\n",
       "      <th>2</th>\n",
       "      <td>5.0</td>\n",
       "    </tr>\n",
       "    <tr>\n",
       "      <th>3</th>\n",
       "      <td>5.0</td>\n",
       "    </tr>\n",
       "    <tr>\n",
       "      <th>4</th>\n",
       "      <td>2.0</td>\n",
       "    </tr>\n",
       "  </tbody>\n",
       "</table>\n",
       "</div>"
      ],
      "text/plain": [
       "   uploaded_days\n",
       "0            6.0\n",
       "1            3.0\n",
       "2            5.0\n",
       "3            5.0\n",
       "4            2.0"
      ]
     },
     "execution_count": 18,
     "metadata": {},
     "output_type": "execute_result"
    }
   ],
   "source": [
    "train[[\"uploaded_days\"]].head()"
   ]
  },
  {
   "cell_type": "markdown",
   "metadata": {},
   "source": [
    "### Views\n",
    "- 조회수 ( 일평균 조회수를 target 값으로 사용 )\n",
    "- 예측할 target"
   ]
  },
  {
   "cell_type": "code",
   "execution_count": 19,
   "metadata": {},
   "outputs": [],
   "source": [
    "def views_clear(view):\n",
    "    if view == '조회수 없음':\n",
    "        return 0\n",
    "    else:\n",
    "        return int(view[4:-1].replace(\",\",\"\"))"
   ]
  },
  {
   "cell_type": "code",
   "execution_count": 20,
   "metadata": {},
   "outputs": [],
   "source": [
    "train[\"views\"] = train[\"views\"].apply(views_clear)"
   ]
  },
  {
   "cell_type": "code",
   "execution_count": 21,
   "metadata": {},
   "outputs": [
    {
     "data": {
      "text/plain": [
       "0    579949\n",
       "1    451676\n",
       "2    955578\n",
       "3    191211\n",
       "4    162253\n",
       "Name: views, dtype: int64"
      ]
     },
     "execution_count": 21,
     "metadata": {},
     "output_type": "execute_result"
    }
   ],
   "source": [
    "train[\"views\"].head()"
   ]
  },
  {
   "cell_type": "code",
   "execution_count": 22,
   "metadata": {},
   "outputs": [],
   "source": [
    "train[\"views\"] = train[\"views\"] / train[\"uploaded_days\"]"
   ]
  },
  {
   "cell_type": "code",
   "execution_count": 23,
   "metadata": {},
   "outputs": [
    {
     "data": {
      "text/plain": [
       "0     96658.166667\n",
       "1    150558.666667\n",
       "2    191115.600000\n",
       "3     38242.200000\n",
       "4     81126.500000\n",
       "Name: views, dtype: float64"
      ]
     },
     "execution_count": 23,
     "metadata": {},
     "output_type": "execute_result"
    }
   ],
   "source": [
    "train[\"views\"].head()"
   ]
  },
  {
   "cell_type": "markdown",
   "metadata": {},
   "source": [
    "### Dislike\n",
    "- '싫어요'라는 텍스트만 있는 경우 값은 url확인 결과 '0'인 경우이다."
   ]
  },
  {
   "cell_type": "code",
   "execution_count": 24,
   "metadata": {
    "scrolled": true
   },
   "outputs": [
    {
     "data": {
      "text/html": [
       "<div>\n",
       "<style scoped>\n",
       "    .dataframe tbody tr th:only-of-type {\n",
       "        vertical-align: middle;\n",
       "    }\n",
       "\n",
       "    .dataframe tbody tr th {\n",
       "        vertical-align: top;\n",
       "    }\n",
       "\n",
       "    .dataframe thead th {\n",
       "        text-align: right;\n",
       "    }\n",
       "</style>\n",
       "<table border=\"1\" class=\"dataframe\">\n",
       "  <thead>\n",
       "    <tr style=\"text-align: right;\">\n",
       "      <th></th>\n",
       "      <th>dislike</th>\n",
       "      <th>category</th>\n",
       "      <th>comments</th>\n",
       "      <th>like</th>\n",
       "      <th>play_time</th>\n",
       "      <th>subscribers</th>\n",
       "      <th>tag</th>\n",
       "      <th>title</th>\n",
       "      <th>top_comment</th>\n",
       "      <th>upload_date</th>\n",
       "      <th>url</th>\n",
       "      <th>views</th>\n",
       "      <th>crawl_date</th>\n",
       "      <th>upload_date_year</th>\n",
       "      <th>upload_date_month</th>\n",
       "      <th>upload_date_day</th>\n",
       "      <th>crawl_date_year</th>\n",
       "      <th>crawl_date_month</th>\n",
       "      <th>crawl_date_day</th>\n",
       "      <th>uploaded_days</th>\n",
       "    </tr>\n",
       "  </thead>\n",
       "  <tbody>\n",
       "    <tr>\n",
       "      <th>50</th>\n",
       "      <td>싫어요</td>\n",
       "      <td>엔터테인먼트</td>\n",
       "      <td>0</td>\n",
       "      <td>좋아요</td>\n",
       "      <td>6:06</td>\n",
       "      <td>0</td>\n",
       "      <td>[]</td>\n",
       "      <td>사람들 멘붕 시키려고 돌진했다가 캐리해버린 영상ㅋㅋㅋㅋㅋ | 좀비고 | 좀비고등학교...</td>\n",
       "      <td>NaN</td>\n",
       "      <td>게시일: 2018. 8. 15.</td>\n",
       "      <td>https://www.youtube.com/watch?v=35yrf7vZmIk&amp;in...</td>\n",
       "      <td>15746.875</td>\n",
       "      <td>2018.08.23</td>\n",
       "      <td>2018</td>\n",
       "      <td>8</td>\n",
       "      <td>15</td>\n",
       "      <td>2018</td>\n",
       "      <td>8</td>\n",
       "      <td>23</td>\n",
       "      <td>8.0</td>\n",
       "    </tr>\n",
       "  </tbody>\n",
       "</table>\n",
       "</div>"
      ],
      "text/plain": [
       "   dislike category comments like play_time subscribers tag  \\\n",
       "50     싫어요   엔터테인먼트        0  좋아요      6:06           0  []   \n",
       "\n",
       "                                                title top_comment  \\\n",
       "50  사람들 멘붕 시키려고 돌진했다가 캐리해버린 영상ㅋㅋㅋㅋㅋ | 좀비고 | 좀비고등학교...         NaN   \n",
       "\n",
       "          upload_date                                                url  \\\n",
       "50  게시일: 2018. 8. 15.  https://www.youtube.com/watch?v=35yrf7vZmIk&in...   \n",
       "\n",
       "        views  crawl_date  upload_date_year  upload_date_month  \\\n",
       "50  15746.875  2018.08.23              2018                  8   \n",
       "\n",
       "    upload_date_day  crawl_date_year  crawl_date_month  crawl_date_day  \\\n",
       "50               15             2018                 8              23   \n",
       "\n",
       "    uploaded_days  \n",
       "50            8.0  "
      ]
     },
     "execution_count": 24,
     "metadata": {},
     "output_type": "execute_result"
    }
   ],
   "source": [
    "train[train[\"dislike\"]=='싫어요'].head(1)"
   ]
  },
  {
   "cell_type": "code",
   "execution_count": 25,
   "metadata": {},
   "outputs": [],
   "source": [
    "train.loc[train[\"dislike\"]=='싫어요', 'dislike'] = '0'"
   ]
  },
  {
   "cell_type": "code",
   "execution_count": 26,
   "metadata": {},
   "outputs": [
    {
     "data": {
      "text/html": [
       "<div>\n",
       "<style scoped>\n",
       "    .dataframe tbody tr th:only-of-type {\n",
       "        vertical-align: middle;\n",
       "    }\n",
       "\n",
       "    .dataframe tbody tr th {\n",
       "        vertical-align: top;\n",
       "    }\n",
       "\n",
       "    .dataframe thead th {\n",
       "        text-align: right;\n",
       "    }\n",
       "</style>\n",
       "<table border=\"1\" class=\"dataframe\">\n",
       "  <thead>\n",
       "    <tr style=\"text-align: right;\">\n",
       "      <th></th>\n",
       "      <th>dislike</th>\n",
       "      <th>category</th>\n",
       "      <th>comments</th>\n",
       "      <th>like</th>\n",
       "      <th>play_time</th>\n",
       "      <th>subscribers</th>\n",
       "      <th>tag</th>\n",
       "      <th>title</th>\n",
       "      <th>top_comment</th>\n",
       "      <th>upload_date</th>\n",
       "      <th>url</th>\n",
       "      <th>views</th>\n",
       "      <th>crawl_date</th>\n",
       "      <th>upload_date_year</th>\n",
       "      <th>upload_date_month</th>\n",
       "      <th>upload_date_day</th>\n",
       "      <th>crawl_date_year</th>\n",
       "      <th>crawl_date_month</th>\n",
       "      <th>crawl_date_day</th>\n",
       "      <th>uploaded_days</th>\n",
       "    </tr>\n",
       "  </thead>\n",
       "  <tbody>\n",
       "  </tbody>\n",
       "</table>\n",
       "</div>"
      ],
      "text/plain": [
       "Empty DataFrame\n",
       "Columns: [dislike, category, comments, like, play_time, subscribers, tag, title, top_comment, upload_date, url, views, crawl_date, upload_date_year, upload_date_month, upload_date_day, crawl_date_year, crawl_date_month, crawl_date_day, uploaded_days]\n",
       "Index: []"
      ]
     },
     "execution_count": 26,
     "metadata": {},
     "output_type": "execute_result"
    }
   ],
   "source": [
    "train[train[\"dislike\"]=='싫어요'].head(1)"
   ]
  },
  {
   "cell_type": "code",
   "execution_count": 27,
   "metadata": {},
   "outputs": [],
   "source": [
    "def hand_clear(s):\n",
    "    '''\n",
    "    천, 만으로 표시된 값 숫자로 변경\n",
    "    '''\n",
    "    if s[-1] == '천':\n",
    "        return float(s[:-1]) * 1000\n",
    "    elif s[-1] == '만':\n",
    "        return float(s[:-1]) * 10000\n",
    "    else:\n",
    "        return float(s)"
   ]
  },
  {
   "cell_type": "code",
   "execution_count": 28,
   "metadata": {},
   "outputs": [],
   "source": [
    "train[\"dislike\"] = train[\"dislike\"].apply(hand_clear)"
   ]
  },
  {
   "cell_type": "markdown",
   "metadata": {},
   "source": [
    "### Like\n",
    "- '좋아요'라는 텍스트만 있는 경우 값은 url확인 결과 '0'인 경우이다."
   ]
  },
  {
   "cell_type": "code",
   "execution_count": 29,
   "metadata": {},
   "outputs": [
    {
     "data": {
      "text/html": [
       "<div>\n",
       "<style scoped>\n",
       "    .dataframe tbody tr th:only-of-type {\n",
       "        vertical-align: middle;\n",
       "    }\n",
       "\n",
       "    .dataframe tbody tr th {\n",
       "        vertical-align: top;\n",
       "    }\n",
       "\n",
       "    .dataframe thead th {\n",
       "        text-align: right;\n",
       "    }\n",
       "</style>\n",
       "<table border=\"1\" class=\"dataframe\">\n",
       "  <thead>\n",
       "    <tr style=\"text-align: right;\">\n",
       "      <th></th>\n",
       "      <th>dislike</th>\n",
       "      <th>category</th>\n",
       "      <th>comments</th>\n",
       "      <th>like</th>\n",
       "      <th>play_time</th>\n",
       "      <th>subscribers</th>\n",
       "      <th>tag</th>\n",
       "      <th>title</th>\n",
       "      <th>top_comment</th>\n",
       "      <th>upload_date</th>\n",
       "      <th>url</th>\n",
       "      <th>views</th>\n",
       "      <th>crawl_date</th>\n",
       "      <th>upload_date_year</th>\n",
       "      <th>upload_date_month</th>\n",
       "      <th>upload_date_day</th>\n",
       "      <th>crawl_date_year</th>\n",
       "      <th>crawl_date_month</th>\n",
       "      <th>crawl_date_day</th>\n",
       "      <th>uploaded_days</th>\n",
       "    </tr>\n",
       "  </thead>\n",
       "  <tbody>\n",
       "    <tr>\n",
       "      <th>50</th>\n",
       "      <td>0.0</td>\n",
       "      <td>엔터테인먼트</td>\n",
       "      <td>0</td>\n",
       "      <td>좋아요</td>\n",
       "      <td>6:06</td>\n",
       "      <td>0</td>\n",
       "      <td>[]</td>\n",
       "      <td>사람들 멘붕 시키려고 돌진했다가 캐리해버린 영상ㅋㅋㅋㅋㅋ | 좀비고 | 좀비고등학교...</td>\n",
       "      <td>NaN</td>\n",
       "      <td>게시일: 2018. 8. 15.</td>\n",
       "      <td>https://www.youtube.com/watch?v=35yrf7vZmIk&amp;in...</td>\n",
       "      <td>15746.875</td>\n",
       "      <td>2018.08.23</td>\n",
       "      <td>2018</td>\n",
       "      <td>8</td>\n",
       "      <td>15</td>\n",
       "      <td>2018</td>\n",
       "      <td>8</td>\n",
       "      <td>23</td>\n",
       "      <td>8.0</td>\n",
       "    </tr>\n",
       "  </tbody>\n",
       "</table>\n",
       "</div>"
      ],
      "text/plain": [
       "    dislike category comments like play_time subscribers tag  \\\n",
       "50      0.0   엔터테인먼트        0  좋아요      6:06           0  []   \n",
       "\n",
       "                                                title top_comment  \\\n",
       "50  사람들 멘붕 시키려고 돌진했다가 캐리해버린 영상ㅋㅋㅋㅋㅋ | 좀비고 | 좀비고등학교...         NaN   \n",
       "\n",
       "          upload_date                                                url  \\\n",
       "50  게시일: 2018. 8. 15.  https://www.youtube.com/watch?v=35yrf7vZmIk&in...   \n",
       "\n",
       "        views  crawl_date  upload_date_year  upload_date_month  \\\n",
       "50  15746.875  2018.08.23              2018                  8   \n",
       "\n",
       "    upload_date_day  crawl_date_year  crawl_date_month  crawl_date_day  \\\n",
       "50               15             2018                 8              23   \n",
       "\n",
       "    uploaded_days  \n",
       "50            8.0  "
      ]
     },
     "execution_count": 29,
     "metadata": {},
     "output_type": "execute_result"
    }
   ],
   "source": [
    "train[train[\"like\"]=='좋아요'].head(1)"
   ]
  },
  {
   "cell_type": "code",
   "execution_count": 30,
   "metadata": {},
   "outputs": [],
   "source": [
    "train.loc[train[\"like\"]=='좋아요', 'like'] = '0'"
   ]
  },
  {
   "cell_type": "code",
   "execution_count": 31,
   "metadata": {},
   "outputs": [
    {
     "data": {
      "text/html": [
       "<div>\n",
       "<style scoped>\n",
       "    .dataframe tbody tr th:only-of-type {\n",
       "        vertical-align: middle;\n",
       "    }\n",
       "\n",
       "    .dataframe tbody tr th {\n",
       "        vertical-align: top;\n",
       "    }\n",
       "\n",
       "    .dataframe thead th {\n",
       "        text-align: right;\n",
       "    }\n",
       "</style>\n",
       "<table border=\"1\" class=\"dataframe\">\n",
       "  <thead>\n",
       "    <tr style=\"text-align: right;\">\n",
       "      <th></th>\n",
       "      <th>dislike</th>\n",
       "      <th>category</th>\n",
       "      <th>comments</th>\n",
       "      <th>like</th>\n",
       "      <th>play_time</th>\n",
       "      <th>subscribers</th>\n",
       "      <th>tag</th>\n",
       "      <th>title</th>\n",
       "      <th>top_comment</th>\n",
       "      <th>upload_date</th>\n",
       "      <th>url</th>\n",
       "      <th>views</th>\n",
       "      <th>crawl_date</th>\n",
       "      <th>upload_date_year</th>\n",
       "      <th>upload_date_month</th>\n",
       "      <th>upload_date_day</th>\n",
       "      <th>crawl_date_year</th>\n",
       "      <th>crawl_date_month</th>\n",
       "      <th>crawl_date_day</th>\n",
       "      <th>uploaded_days</th>\n",
       "    </tr>\n",
       "  </thead>\n",
       "  <tbody>\n",
       "  </tbody>\n",
       "</table>\n",
       "</div>"
      ],
      "text/plain": [
       "Empty DataFrame\n",
       "Columns: [dislike, category, comments, like, play_time, subscribers, tag, title, top_comment, upload_date, url, views, crawl_date, upload_date_year, upload_date_month, upload_date_day, crawl_date_year, crawl_date_month, crawl_date_day, uploaded_days]\n",
       "Index: []"
      ]
     },
     "execution_count": 31,
     "metadata": {},
     "output_type": "execute_result"
    }
   ],
   "source": [
    "train[train[\"like\"]=='좋아요'].head(1)"
   ]
  },
  {
   "cell_type": "code",
   "execution_count": 32,
   "metadata": {},
   "outputs": [],
   "source": [
    "train[\"like\"] = train[\"like\"].apply(hand_clear)"
   ]
  },
  {
   "cell_type": "code",
   "execution_count": 33,
   "metadata": {},
   "outputs": [
    {
     "data": {
      "text/html": [
       "<div>\n",
       "<style scoped>\n",
       "    .dataframe tbody tr th:only-of-type {\n",
       "        vertical-align: middle;\n",
       "    }\n",
       "\n",
       "    .dataframe tbody tr th {\n",
       "        vertical-align: top;\n",
       "    }\n",
       "\n",
       "    .dataframe thead th {\n",
       "        text-align: right;\n",
       "    }\n",
       "</style>\n",
       "<table border=\"1\" class=\"dataframe\">\n",
       "  <thead>\n",
       "    <tr style=\"text-align: right;\">\n",
       "      <th></th>\n",
       "      <th>dislike</th>\n",
       "      <th>like</th>\n",
       "    </tr>\n",
       "  </thead>\n",
       "  <tbody>\n",
       "    <tr>\n",
       "      <th>0</th>\n",
       "      <td>277.0</td>\n",
       "      <td>13000.0</td>\n",
       "    </tr>\n",
       "    <tr>\n",
       "      <th>1</th>\n",
       "      <td>278.0</td>\n",
       "      <td>8700.0</td>\n",
       "    </tr>\n",
       "    <tr>\n",
       "      <th>2</th>\n",
       "      <td>561.0</td>\n",
       "      <td>23000.0</td>\n",
       "    </tr>\n",
       "    <tr>\n",
       "      <th>3</th>\n",
       "      <td>404.0</td>\n",
       "      <td>1100.0</td>\n",
       "    </tr>\n",
       "    <tr>\n",
       "      <th>4</th>\n",
       "      <td>36.0</td>\n",
       "      <td>3400.0</td>\n",
       "    </tr>\n",
       "  </tbody>\n",
       "</table>\n",
       "</div>"
      ],
      "text/plain": [
       "   dislike     like\n",
       "0    277.0  13000.0\n",
       "1    278.0   8700.0\n",
       "2    561.0  23000.0\n",
       "3    404.0   1100.0\n",
       "4     36.0   3400.0"
      ]
     },
     "execution_count": 33,
     "metadata": {},
     "output_type": "execute_result"
    }
   ],
   "source": [
    "train[[\"dislike\", \"like\"]].head()"
   ]
  },
  {
   "cell_type": "markdown",
   "metadata": {},
   "source": [
    "### Like & Dislike\n",
    "- Like and Dislike means that the people who watch video judged the video is good or not\n",
    "\n",
    "**다중공선성(multicollinearity)란 독립 변수의 일부가 다른 독립 변수의 조합으로 표현될 수 있는 경우이다. 독립 변수들이 서로 독립이 아니라 상호상관관계가 강한 경우에 발생한다. 이는 독립 변수의 공분산 행렬이 full rank 이어야 한다는 조건을 침해한다.**"
   ]
  },
  {
   "cell_type": "code",
   "execution_count": 34,
   "metadata": {},
   "outputs": [],
   "source": [
    "dfX = train[[\"dislike\", \"like\"]]\n",
    "dfy = train[\"views\"]"
   ]
  },
  {
   "cell_type": "code",
   "execution_count": 35,
   "metadata": {},
   "outputs": [
    {
     "data": {
      "text/html": [
       "<div>\n",
       "<style scoped>\n",
       "    .dataframe tbody tr th:only-of-type {\n",
       "        vertical-align: middle;\n",
       "    }\n",
       "\n",
       "    .dataframe tbody tr th {\n",
       "        vertical-align: top;\n",
       "    }\n",
       "\n",
       "    .dataframe thead th {\n",
       "        text-align: right;\n",
       "    }\n",
       "</style>\n",
       "<table border=\"1\" class=\"dataframe\">\n",
       "  <thead>\n",
       "    <tr style=\"text-align: right;\">\n",
       "      <th></th>\n",
       "      <th>views</th>\n",
       "      <th>dislike</th>\n",
       "      <th>like</th>\n",
       "    </tr>\n",
       "  </thead>\n",
       "  <tbody>\n",
       "    <tr>\n",
       "      <th>0</th>\n",
       "      <td>96658.166667</td>\n",
       "      <td>277.0</td>\n",
       "      <td>13000.0</td>\n",
       "    </tr>\n",
       "    <tr>\n",
       "      <th>1</th>\n",
       "      <td>150558.666667</td>\n",
       "      <td>278.0</td>\n",
       "      <td>8700.0</td>\n",
       "    </tr>\n",
       "    <tr>\n",
       "      <th>2</th>\n",
       "      <td>191115.600000</td>\n",
       "      <td>561.0</td>\n",
       "      <td>23000.0</td>\n",
       "    </tr>\n",
       "    <tr>\n",
       "      <th>3</th>\n",
       "      <td>38242.200000</td>\n",
       "      <td>404.0</td>\n",
       "      <td>1100.0</td>\n",
       "    </tr>\n",
       "    <tr>\n",
       "      <th>4</th>\n",
       "      <td>81126.500000</td>\n",
       "      <td>36.0</td>\n",
       "      <td>3400.0</td>\n",
       "    </tr>\n",
       "  </tbody>\n",
       "</table>\n",
       "</div>"
      ],
      "text/plain": [
       "           views  dislike     like\n",
       "0   96658.166667    277.0  13000.0\n",
       "1  150558.666667    278.0   8700.0\n",
       "2  191115.600000    561.0  23000.0\n",
       "3   38242.200000    404.0   1100.0\n",
       "4   81126.500000     36.0   3400.0"
      ]
     },
     "execution_count": 35,
     "metadata": {},
     "output_type": "execute_result"
    }
   ],
   "source": [
    "df = pd.concat([dfy, dfX], axis=1)\n",
    "df.head()"
   ]
  },
  {
   "cell_type": "code",
   "execution_count": 36,
   "metadata": {},
   "outputs": [
    {
     "data": {
      "text/html": [
       "<div>\n",
       "<style scoped>\n",
       "    .dataframe tbody tr th:only-of-type {\n",
       "        vertical-align: middle;\n",
       "    }\n",
       "\n",
       "    .dataframe tbody tr th {\n",
       "        vertical-align: top;\n",
       "    }\n",
       "\n",
       "    .dataframe thead th {\n",
       "        text-align: right;\n",
       "    }\n",
       "</style>\n",
       "<table border=\"1\" class=\"dataframe\">\n",
       "  <thead>\n",
       "    <tr style=\"text-align: right;\">\n",
       "      <th></th>\n",
       "      <th>dislike</th>\n",
       "      <th>like</th>\n",
       "    </tr>\n",
       "  </thead>\n",
       "  <tbody>\n",
       "    <tr>\n",
       "      <th>dislike</th>\n",
       "      <td>1.000000</td>\n",
       "      <td>0.802232</td>\n",
       "    </tr>\n",
       "    <tr>\n",
       "      <th>like</th>\n",
       "      <td>0.802232</td>\n",
       "      <td>1.000000</td>\n",
       "    </tr>\n",
       "  </tbody>\n",
       "</table>\n",
       "</div>"
      ],
      "text/plain": [
       "          dislike      like\n",
       "dislike  1.000000  0.802232\n",
       "like     0.802232  1.000000"
      ]
     },
     "execution_count": 36,
     "metadata": {},
     "output_type": "execute_result"
    }
   ],
   "source": [
    "dfX.corr()"
   ]
  },
  {
   "cell_type": "code",
   "execution_count": 37,
   "metadata": {},
   "outputs": [
    {
     "data": {
      "text/plain": [
       "<seaborn.axisgrid.PairGrid at 0x1141f83c8>"
      ]
     },
     "execution_count": 37,
     "metadata": {},
     "output_type": "execute_result"
    },
    {
     "data": {
      "image/png": "[encoded data removed]",
      "text/plain": [
       "<Figure size 360x360 with 6 Axes>"
      ]
     },
     "metadata": {},
     "output_type": "display_data"
    }
   ],
   "source": [
    "sns.pairplot(dfX)"
   ]
  },
  {
   "cell_type": "code",
   "execution_count": 38,
   "metadata": {},
   "outputs": [
    {
     "data": {
      "text/plain": [
       "<matplotlib.axes._subplots.AxesSubplot at 0x1147ed748>"
      ]
     },
     "execution_count": 38,
     "metadata": {},
     "output_type": "execute_result"
    },
    {
     "data": {
      "image/png": "[encoded data removed]",
      "text/plain": [
       "<Figure size 432x288 with 2 Axes>"
      ]
     },
     "metadata": {},
     "output_type": "display_data"
    }
   ],
   "source": [
    "sns.heatmap(dfX.corr(), linewidths=.5, annot=True)"
   ]
  },
  {
   "cell_type": "code",
   "execution_count": 39,
   "metadata": {},
   "outputs": [
    {
     "name": "stdout",
     "output_type": "stream",
     "text": [
      "                            OLS Regression Results                            \n",
      "==============================================================================\n",
      "Dep. Variable:                  views   R-squared:                       0.355\n",
      "Model:                            OLS   Adj. R-squared:                  0.355\n",
      "Method:                 Least Squares   F-statistic:                     1424.\n",
      "Date:                Sun, 26 Aug 2018   Prob (F-statistic):               0.00\n",
      "Time:                        23:34:58   Log-Likelihood:                -66783.\n",
      "No. Observations:                5174   AIC:                         1.336e+05\n",
      "Df Residuals:                    5171   BIC:                         1.336e+05\n",
      "Df Model:                           2                                         \n",
      "Covariance Type:            nonrobust                                         \n",
      "==============================================================================\n",
      "                 coef    std err          t      P>|t|      [0.025      0.975]\n",
      "------------------------------------------------------------------------------\n",
      "Intercept   7091.1485   1387.514      5.111      0.000    4371.035    9811.262\n",
      "like           0.2393      0.006     38.756      0.000       0.227       0.251\n",
      "dislike       -0.5754      0.063     -9.188      0.000      -0.698      -0.453\n",
      "==============================================================================\n",
      "Omnibus:                    10020.426   Durbin-Watson:                   1.633\n",
      "Prob(Omnibus):                  0.000   Jarque-Bera (JB):         29638010.787\n",
      "Skew:                          14.980   Prob(JB):                         0.00\n",
      "Kurtosis:                     372.568   Cond. No.                     3.84e+05\n",
      "==============================================================================\n",
      "\n",
      "Warnings:\n",
      "[1] Standard Errors assume that the covariance matrix of the errors is correctly specified.\n",
      "[2] The condition number is large, 3.84e+05. This might indicate that there are\n",
      "strong multicollinearity or other numerical problems.\n"
     ]
    }
   ],
   "source": [
    "import statsmodels.api as sm\n",
    "\n",
    "model = sm.OLS.from_formula(\"views ~ \"\n",
    "                            \"like + dislike\", data=df)\n",
    "result = model.fit()\n",
    "print(result.summary())"
   ]
  },
  {
   "cell_type": "markdown",
   "metadata": {},
   "source": [
    "**다중 공선성이 있으면 독립변수의 공분산 행렬의 조건수(conditional number)가 증가한다. 조건수는 독립변수가 스케일링이 되어 있지 않아도 증가하므로 일단 스케일링을 통해 조건수를 감소시킨다.**"
   ]
  },
  {
   "cell_type": "code",
   "execution_count": 40,
   "metadata": {},
   "outputs": [
    {
     "name": "stdout",
     "output_type": "stream",
     "text": [
      "                            OLS Regression Results                            \n",
      "==============================================================================\n",
      "Dep. Variable:                  views   R-squared:                       0.355\n",
      "Model:                            OLS   Adj. R-squared:                  0.355\n",
      "Method:                 Least Squares   F-statistic:                     1424.\n",
      "Date:                Sun, 26 Aug 2018   Prob (F-statistic):               0.00\n",
      "Time:                        23:34:59   Log-Likelihood:                -66783.\n",
      "No. Observations:                5174   AIC:                         1.336e+05\n",
      "Df Residuals:                    5171   BIC:                         1.336e+05\n",
      "Df Model:                           2                                         \n",
      "Covariance Type:            nonrobust                                         \n",
      "==================================================================================\n",
      "                     coef    std err          t      P>|t|      [0.025      0.975]\n",
      "----------------------------------------------------------------------------------\n",
      "Intercept       2.178e+04   1357.073     16.046      0.000    1.91e+04    2.44e+04\n",
      "scale(like)      8.81e+04   2273.108     38.756      0.000    8.36e+04    9.26e+04\n",
      "scale(dislike) -2.088e+04   2273.108     -9.188      0.000   -2.53e+04   -1.64e+04\n",
      "==============================================================================\n",
      "Omnibus:                    10020.426   Durbin-Watson:                   1.633\n",
      "Prob(Omnibus):                  0.000   Jarque-Bera (JB):         29638010.787\n",
      "Skew:                          14.980   Prob(JB):                         0.00\n",
      "Kurtosis:                     372.568   Cond. No.                         3.02\n",
      "==============================================================================\n",
      "\n",
      "Warnings:\n",
      "[1] Standard Errors assume that the covariance matrix of the errors is correctly specified.\n"
     ]
    }
   ],
   "source": [
    "scale_model = sm.OLS.from_formula(\"views ~ \"\n",
    "                            \"scale(like) + scale(dislike)\", data=df)\n",
    "result = scale_model.fit()\n",
    "print(result.summary())"
   ]
  },
  {
   "cell_type": "markdown",
   "metadata": {},
   "source": [
    "**독립 변수가 서로 의존하게 되면 이른바 과최적화(over-fitting) 문제가 발생하여 회귀 결과의 안정성을 해치게 된다. 이를 방지하는 방법들은 다음과 같다.**\n",
    "\n",
    "1. 변수 선택법으로 의존적인 변수 삭제\n",
    "2. PCA(principal component analysis) 방법으로 의존적인 성분 삭제\n",
    "3. 정규화(regularized) 방법 사용"
   ]
  },
  {
   "cell_type": "markdown",
   "metadata": {},
   "source": [
    "### VIF\n",
    "- 다중 공선성을 없애는 가장 기본적인 방법은 다른 독립변수에 의존하는 변수를 없애는 것이다. 가장 의존적인 독립변수를 선택하는 방법으로는 VIF(Variance Inflation Factor)를 사용할 수 있다. VIF는 독립변수를 다른 독립변수로 선형회귀한 성능을 나타낸 것이다."
   ]
  },
  {
   "cell_type": "markdown",
   "metadata": {},
   "source": [
    "#### dilike와 like는 서로 비슷한 의존정도를 보여준다."
   ]
  },
  {
   "cell_type": "code",
   "execution_count": 41,
   "metadata": {
    "scrolled": true
   },
   "outputs": [
    {
     "data": {
      "text/html": [
       "<div>\n",
       "<style scoped>\n",
       "    .dataframe tbody tr th:only-of-type {\n",
       "        vertical-align: middle;\n",
       "    }\n",
       "\n",
       "    .dataframe tbody tr th {\n",
       "        vertical-align: top;\n",
       "    }\n",
       "\n",
       "    .dataframe thead th {\n",
       "        text-align: right;\n",
       "    }\n",
       "</style>\n",
       "<table border=\"1\" class=\"dataframe\">\n",
       "  <thead>\n",
       "    <tr style=\"text-align: right;\">\n",
       "      <th></th>\n",
       "      <th>VIF Factor</th>\n",
       "      <th>features</th>\n",
       "    </tr>\n",
       "  </thead>\n",
       "  <tbody>\n",
       "    <tr>\n",
       "      <th>0</th>\n",
       "      <td>2.802788</td>\n",
       "      <td>dislike</td>\n",
       "    </tr>\n",
       "    <tr>\n",
       "      <th>1</th>\n",
       "      <td>2.802788</td>\n",
       "      <td>like</td>\n",
       "    </tr>\n",
       "  </tbody>\n",
       "</table>\n",
       "</div>"
      ],
      "text/plain": [
       "   VIF Factor features\n",
       "0    2.802788  dislike\n",
       "1    2.802788     like"
      ]
     },
     "execution_count": 41,
     "metadata": {},
     "output_type": "execute_result"
    }
   ],
   "source": [
    "from statsmodels.stats.outliers_influence import variance_inflation_factor\n",
    "\n",
    "vif = pd.DataFrame()\n",
    "vif[\"VIF Factor\"] = [variance_inflation_factor(dfX.values, i) for i in range(dfX.shape[1])]\n",
    "vif[\"features\"] = dfX.columns\n",
    "vif"
   ]
  },
  {
   "cell_type": "markdown",
   "metadata": {},
   "source": [
    "#### Like만 사용한 경우"
   ]
  },
  {
   "cell_type": "code",
   "execution_count": 42,
   "metadata": {},
   "outputs": [
    {
     "name": "stdout",
     "output_type": "stream",
     "text": [
      "                            OLS Regression Results                            \n",
      "==============================================================================\n",
      "Dep. Variable:                  views   R-squared:                       0.345\n",
      "Model:                            OLS   Adj. R-squared:                  0.345\n",
      "Method:                 Least Squares   F-statistic:                     2720.\n",
      "Date:                Sun, 26 Aug 2018   Prob (F-statistic):               0.00\n",
      "Time:                        23:34:59   Log-Likelihood:                -66825.\n",
      "No. Observations:                5174   AIC:                         1.337e+05\n",
      "Df Residuals:                    5172   BIC:                         1.337e+05\n",
      "Df Model:                           1                                         \n",
      "Covariance Type:            nonrobust                                         \n",
      "===============================================================================\n",
      "                  coef    std err          t      P>|t|      [0.025      0.975]\n",
      "-------------------------------------------------------------------------------\n",
      "Intercept    2.178e+04   1367.973     15.918      0.000    1.91e+04    2.45e+04\n",
      "scale(like)  7.134e+04   1367.973     52.152      0.000    6.87e+04     7.4e+04\n",
      "==============================================================================\n",
      "Omnibus:                    10153.908   Durbin-Watson:                   1.638\n",
      "Prob(Omnibus):                  0.000   Jarque-Bera (JB):         35208970.850\n",
      "Skew:                          15.370   Prob(JB):                         0.00\n",
      "Kurtosis:                     405.957   Cond. No.                         1.00\n",
      "==============================================================================\n",
      "\n",
      "Warnings:\n",
      "[1] Standard Errors assume that the covariance matrix of the errors is correctly specified.\n"
     ]
    }
   ],
   "source": [
    "scale_model = sm.OLS.from_formula(\"views ~ \"\n",
    "                            \"scale(like)\", data=df)\n",
    "result = scale_model.fit()\n",
    "print(result.summary())"
   ]
  },
  {
   "cell_type": "markdown",
   "metadata": {},
   "source": [
    "#### Dislike만 사용한 경우"
   ]
  },
  {
   "cell_type": "code",
   "execution_count": 43,
   "metadata": {},
   "outputs": [
    {
     "name": "stdout",
     "output_type": "stream",
     "text": [
      "                            OLS Regression Results                            \n",
      "==============================================================================\n",
      "Dep. Variable:                  views   R-squared:                       0.168\n",
      "Model:                            OLS   Adj. R-squared:                  0.168\n",
      "Method:                 Least Squares   F-statistic:                     1043.\n",
      "Date:                Sun, 26 Aug 2018   Prob (F-statistic):          1.16e-208\n",
      "Time:                        23:34:59   Log-Likelihood:                -67443.\n",
      "No. Observations:                5174   AIC:                         1.349e+05\n",
      "Df Residuals:                    5172   BIC:                         1.349e+05\n",
      "Df Model:                           1                                         \n",
      "Covariance Type:            nonrobust                                         \n",
      "==================================================================================\n",
      "                     coef    std err          t      P>|t|      [0.025      0.975]\n",
      "----------------------------------------------------------------------------------\n",
      "Intercept       2.178e+04   1541.472     14.126      0.000    1.88e+04    2.48e+04\n",
      "scale(dislike)  4.979e+04   1541.472     32.300      0.000    4.68e+04    5.28e+04\n",
      "==============================================================================\n",
      "Omnibus:                    10876.878   Durbin-Watson:                   1.672\n",
      "Prob(Omnibus):                  0.000   Jarque-Bera (JB):         53642950.961\n",
      "Skew:                          17.941   Prob(JB):                         0.00\n",
      "Kurtosis:                     500.533   Cond. No.                         1.00\n",
      "==============================================================================\n",
      "\n",
      "Warnings:\n",
      "[1] Standard Errors assume that the covariance matrix of the errors is correctly specified.\n"
     ]
    }
   ],
   "source": [
    "scale_model = sm.OLS.from_formula(\"views ~ \"\n",
    "                            \"scale(dislike)\", data=df)\n",
    "result = scale_model.fit()\n",
    "print(result.summary())"
   ]
  },
  {
   "cell_type": "markdown",
   "metadata": {},
   "source": [
    "#### Like와 Dislike의 합\n",
    "- Like와 Dislike 모두 결국에는 동영상을 시청하였다는 증거 중 하나 이기때문에 더해서 조회수와의 상관관계를 확인해 보았다."
   ]
  },
  {
   "cell_type": "code",
   "execution_count": 44,
   "metadata": {},
   "outputs": [
    {
     "data": {
      "text/plain": [
       "0    13277.0\n",
       "1     8978.0\n",
       "2    23561.0\n",
       "3     1504.0\n",
       "4     3436.0\n",
       "Name: total_like_dislike, dtype: float64"
      ]
     },
     "execution_count": 44,
     "metadata": {},
     "output_type": "execute_result"
    }
   ],
   "source": [
    "df[\"total_like_dislike\"] = df[\"like\"] + df[\"dislike\"]\n",
    "df[\"total_like_dislike\"].head()"
   ]
  },
  {
   "cell_type": "code",
   "execution_count": 45,
   "metadata": {},
   "outputs": [
    {
     "data": {
      "text/html": [
       "<div>\n",
       "<style scoped>\n",
       "    .dataframe tbody tr th:only-of-type {\n",
       "        vertical-align: middle;\n",
       "    }\n",
       "\n",
       "    .dataframe tbody tr th {\n",
       "        vertical-align: top;\n",
       "    }\n",
       "\n",
       "    .dataframe thead th {\n",
       "        text-align: right;\n",
       "    }\n",
       "</style>\n",
       "<table border=\"1\" class=\"dataframe\">\n",
       "  <thead>\n",
       "    <tr style=\"text-align: right;\">\n",
       "      <th></th>\n",
       "      <th>views</th>\n",
       "      <th>total_like_dislike</th>\n",
       "    </tr>\n",
       "  </thead>\n",
       "  <tbody>\n",
       "    <tr>\n",
       "      <th>views</th>\n",
       "      <td>1.000000</td>\n",
       "      <td>0.580599</td>\n",
       "    </tr>\n",
       "    <tr>\n",
       "      <th>total_like_dislike</th>\n",
       "      <td>0.580599</td>\n",
       "      <td>1.000000</td>\n",
       "    </tr>\n",
       "  </tbody>\n",
       "</table>\n",
       "</div>"
      ],
      "text/plain": [
       "                       views  total_like_dislike\n",
       "views               1.000000            0.580599\n",
       "total_like_dislike  0.580599            1.000000"
      ]
     },
     "execution_count": 45,
     "metadata": {},
     "output_type": "execute_result"
    }
   ],
   "source": [
    "df[['views', 'total_like_dislike']].corr()"
   ]
  },
  {
   "cell_type": "code",
   "execution_count": 46,
   "metadata": {},
   "outputs": [
    {
     "name": "stdout",
     "output_type": "stream",
     "text": [
      "                            OLS Regression Results                            \n",
      "==============================================================================\n",
      "Dep. Variable:                  views   R-squared:                       0.337\n",
      "Model:                            OLS   Adj. R-squared:                  0.337\n",
      "Method:                 Least Squares   F-statistic:                     2630.\n",
      "Date:                Sun, 26 Aug 2018   Prob (F-statistic):               0.00\n",
      "Time:                        23:34:59   Log-Likelihood:                -66855.\n",
      "No. Observations:                5174   AIC:                         1.337e+05\n",
      "Df Residuals:                    5172   BIC:                         1.337e+05\n",
      "Df Model:                           1                                         \n",
      "Covariance Type:            nonrobust                                         \n",
      "======================================================================================\n",
      "                         coef    std err          t      P>|t|      [0.025      0.975]\n",
      "--------------------------------------------------------------------------------------\n",
      "Intercept           8876.4223   1398.624      6.347      0.000    6134.527    1.16e+04\n",
      "total_like_dislike     0.1773      0.003     51.284      0.000       0.171       0.184\n",
      "==============================================================================\n",
      "Omnibus:                    10186.399   Durbin-Watson:                   1.642\n",
      "Prob(Omnibus):                  0.000   Jarque-Bera (JB):         37298121.503\n",
      "Skew:                          15.458   Prob(JB):                         0.00\n",
      "Kurtosis:                     417.794   Cond. No.                     4.11e+05\n",
      "==============================================================================\n",
      "\n",
      "Warnings:\n",
      "[1] Standard Errors assume that the covariance matrix of the errors is correctly specified.\n",
      "[2] The condition number is large, 4.11e+05. This might indicate that there are\n",
      "strong multicollinearity or other numerical problems.\n"
     ]
    }
   ],
   "source": [
    "model = sm.OLS.from_formula(\"views ~ \"\n",
    "                            \"total_like_dislike\", data=df)\n",
    "result = model.fit()\n",
    "print(result.summary())"
   ]
  },
  {
   "cell_type": "code",
   "execution_count": 47,
   "metadata": {},
   "outputs": [
    {
     "name": "stdout",
     "output_type": "stream",
     "text": [
      "                            OLS Regression Results                            \n",
      "==============================================================================\n",
      "Dep. Variable:                  views   R-squared:                       0.337\n",
      "Model:                            OLS   Adj. R-squared:                  0.337\n",
      "Method:                 Least Squares   F-statistic:                     2630.\n",
      "Date:                Sun, 26 Aug 2018   Prob (F-statistic):               0.00\n",
      "Time:                        23:34:59   Log-Likelihood:                -66855.\n",
      "No. Observations:                5174   AIC:                         1.337e+05\n",
      "Df Residuals:                    5172   BIC:                         1.337e+05\n",
      "Df Model:                           1                                         \n",
      "Covariance Type:            nonrobust                                         \n",
      "=============================================================================================\n",
      "                                coef    std err          t      P>|t|      [0.025      0.975]\n",
      "---------------------------------------------------------------------------------------------\n",
      "Intercept                  2.178e+04   1375.822     15.827      0.000    1.91e+04    2.45e+04\n",
      "scale(total_like_dislike)  7.056e+04   1375.822     51.284      0.000    6.79e+04    7.33e+04\n",
      "==============================================================================\n",
      "Omnibus:                    10186.399   Durbin-Watson:                   1.642\n",
      "Prob(Omnibus):                  0.000   Jarque-Bera (JB):         37298121.503\n",
      "Skew:                          15.458   Prob(JB):                         0.00\n",
      "Kurtosis:                     417.794   Cond. No.                         1.00\n",
      "==============================================================================\n",
      "\n",
      "Warnings:\n",
      "[1] Standard Errors assume that the covariance matrix of the errors is correctly specified.\n"
     ]
    }
   ],
   "source": [
    "scale_model = sm.OLS.from_formula(\"views ~ \"\n",
    "                            \"scale(total_like_dislike)\", data=df)\n",
    "result = scale_model.fit()\n",
    "print(result.summary())"
   ]
  },
  {
   "cell_type": "markdown",
   "metadata": {},
   "source": [
    "### 결론 : 전체적인 성능은 Like와 Dislike를 따로 나눠서 동시에 쓰는 것이 조금이라도 더 나은 결과인 것을 알수 있다."
   ]
  }
 ],
 "metadata": {
  "kernelspec": {
   "display_name": "Python 3",
   "language": "python",
   "name": "python3"
  },
  "language_info": {
   "codemirror_mode": {
    "name": "ipython",
    "version": 3
   },
   "file_extension": ".py",
   "mimetype": "text/x-python",
   "name": "python",
   "nbconvert_exporter": "python",
   "pygments_lexer": "ipython3",
   "version": "3.6.6"
  }
 },
 "nbformat": 4,
 "nbformat_minor": 2
}

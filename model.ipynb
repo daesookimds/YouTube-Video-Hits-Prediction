{
 "cells": [
  {
   "cell_type": "code",
   "execution_count": 1,
   "metadata": {},
   "outputs": [],
   "source": [
    "import numpy as np\n",
    "import pandas as pd\n",
    "import matplotlib.pyplot as plt\n",
    "from tqdm import tqdm\n",
    "import seaborn as sns\n",
    "\n",
    "%matplotlib inline"
   ]
  },
  {
   "cell_type": "markdown",
   "metadata": {},
   "source": [
    "### Data Load"
   ]
  },
  {
   "cell_type": "code",
   "execution_count": 2,
   "metadata": {},
   "outputs": [
    {
     "name": "stdout",
     "output_type": "stream",
     "text": [
      "(10024, 13)\n"
     ]
    },
    {
     "data": {
      "text/html": [
       "<div>\n",
       "<style scoped>\n",
       "    .dataframe tbody tr th:only-of-type {\n",
       "        vertical-align: middle;\n",
       "    }\n",
       "\n",
       "    .dataframe tbody tr th {\n",
       "        vertical-align: top;\n",
       "    }\n",
       "\n",
       "    .dataframe thead th {\n",
       "        text-align: right;\n",
       "    }\n",
       "</style>\n",
       "<table border=\"1\" class=\"dataframe\">\n",
       "  <thead>\n",
       "    <tr style=\"text-align: right;\">\n",
       "      <th></th>\n",
       "      <th>category</th>\n",
       "      <th>comments</th>\n",
       "      <th>crawl_date</th>\n",
       "      <th>dislike</th>\n",
       "      <th>like</th>\n",
       "      <th>play_time</th>\n",
       "      <th>subscribers</th>\n",
       "      <th>tag</th>\n",
       "      <th>title</th>\n",
       "      <th>top_comment</th>\n",
       "      <th>upload_date</th>\n",
       "      <th>url</th>\n",
       "      <th>views</th>\n",
       "    </tr>\n",
       "  </thead>\n",
       "  <tbody>\n",
       "    <tr>\n",
       "      <th>0</th>\n",
       "      <td>게임</td>\n",
       "      <td>댓글 4,919개</td>\n",
       "      <td>2018.08.23</td>\n",
       "      <td>277</td>\n",
       "      <td>1.3만</td>\n",
       "      <td>0:14</td>\n",
       "      <td>151만</td>\n",
       "      <td>['마인크래프트', 'Minecraft', '샌드박스 네트워크', '샌드박스', '...</td>\n",
       "      <td>마크판 거지키우기 업그레이드 *크리에이터* 키우기! - 마인크래프트 - [잠뜰]</td>\n",
       "      <td>그동안 여러분이 잠뜰TV에서 가장 재밌게 본 영상은?!\\n댓글에 많이 남겨주시고 좋...</td>\n",
       "      <td>게시일: 2018. 8. 17.</td>\n",
       "      <td>https://www.youtube.com/watch?v=azoDJNPRU7s&amp;li...</td>\n",
       "      <td>조회수 579,949회</td>\n",
       "    </tr>\n",
       "    <tr>\n",
       "      <th>1</th>\n",
       "      <td>게임</td>\n",
       "      <td>댓글 4,964개</td>\n",
       "      <td>2018.08.23</td>\n",
       "      <td>278</td>\n",
       "      <td>8.7천</td>\n",
       "      <td>0:15</td>\n",
       "      <td>236만</td>\n",
       "      <td>['도티', '도티 마피아', '도티 머더', '마피아 머더', 'mafia', '...</td>\n",
       "      <td>직업 머더 \"곤충\"능력 특집 (부제: 파브르와 저승벌레 팡수)</td>\n",
       "      <td>다음 컨셉은 아이스 크림 어떨까요?예를 들면스크류바:술래가 한 대 치면 술래를 5초...</td>\n",
       "      <td>게시일: 2018. 8. 20.</td>\n",
       "      <td>https://www.youtube.com/watch?v=-BnUuHgUK5Q&amp;li...</td>\n",
       "      <td>조회수 451,676회</td>\n",
       "    </tr>\n",
       "    <tr>\n",
       "      <th>2</th>\n",
       "      <td>게임</td>\n",
       "      <td>댓글 5,262개</td>\n",
       "      <td>2018.08.23</td>\n",
       "      <td>561</td>\n",
       "      <td>2.3만</td>\n",
       "      <td>6:47</td>\n",
       "      <td>246만</td>\n",
       "      <td>['보겸', '보겸TV', 'bokyem', '도티', '롤', '오버워치', '원...</td>\n",
       "      <td>14번의”아디오스” ㄷ1지고싶으면 들이대봐 드루와</td>\n",
       "      <td>모듀 ㅂㅇㄹ ^_^* \\nㅋㅋㅋ 역대 최대킬 ㅋㅋㅋ\\n고마워 ^_^+ 가조쿠들 ㅋㅋ...</td>\n",
       "      <td>게시일: 2018. 8. 18.</td>\n",
       "      <td>https://www.youtube.com/watch?v=v0rDCGLcnpU&amp;li...</td>\n",
       "      <td>조회수 955,578회</td>\n",
       "    </tr>\n",
       "    <tr>\n",
       "      <th>3</th>\n",
       "      <td>게임</td>\n",
       "      <td>댓글 1,823개</td>\n",
       "      <td>2018.08.23</td>\n",
       "      <td>404</td>\n",
       "      <td>1.1천</td>\n",
       "      <td>13:00</td>\n",
       "      <td>23만</td>\n",
       "      <td>['게임', '위닝', '위닝일레븐', '축구게임', '말이야와 게임들 축구게임',...</td>\n",
       "      <td>그때 눈물의 축구 게임 복수전! 과연 미니 고수 말이야 이길 수 있을까? (꿀잼) ...</td>\n",
       "      <td>사랑하는 말랑이 여러분! 다음에는 말이야, 로기, 미니 축구팀을 댓글로 남겨주세요....</td>\n",
       "      <td>게시일: 2018. 8. 18.</td>\n",
       "      <td>https://www.youtube.com/watch?v=cK8Z2fz0iUI&amp;li...</td>\n",
       "      <td>조회수 191,211회</td>\n",
       "    </tr>\n",
       "    <tr>\n",
       "      <th>4</th>\n",
       "      <td>게임</td>\n",
       "      <td>댓글 1,159개</td>\n",
       "      <td>2018.08.23</td>\n",
       "      <td>36</td>\n",
       "      <td>3.4천</td>\n",
       "      <td>10:00</td>\n",
       "      <td>47만</td>\n",
       "      <td>['카베', '모바일베그', '배그M', '카카오베그', '연다', '배틀그라운드'...</td>\n",
       "      <td>초보자도 여포로 만들어 줄 수 있는 총 조합! 제가 알려드리죠 ㅋㅋ (배틀그라운드-...</td>\n",
       "      <td>크흠...저런 총이 있어도 난 여포가 아니라 쥐포가 될것 같은데...\\niny070...</td>\n",
       "      <td>게시일: 2018. 8. 21.</td>\n",
       "      <td>https://www.youtube.com/watch?v=bBbHq5sMqP0&amp;li...</td>\n",
       "      <td>조회수 162,253회</td>\n",
       "    </tr>\n",
       "  </tbody>\n",
       "</table>\n",
       "</div>"
      ],
      "text/plain": [
       "  category   comments  crawl_date dislike  like play_time subscribers  \\\n",
       "0       게임  댓글 4,919개  2018.08.23     277  1.3만      0:14        151만   \n",
       "1       게임  댓글 4,964개  2018.08.23     278  8.7천      0:15        236만   \n",
       "2       게임  댓글 5,262개  2018.08.23     561  2.3만      6:47        246만   \n",
       "3       게임  댓글 1,823개  2018.08.23     404  1.1천     13:00         23만   \n",
       "4       게임  댓글 1,159개  2018.08.23      36  3.4천     10:00         47만   \n",
       "\n",
       "                                                 tag  \\\n",
       "0  ['마인크래프트', 'Minecraft', '샌드박스 네트워크', '샌드박스', '...   \n",
       "1  ['도티', '도티 마피아', '도티 머더', '마피아 머더', 'mafia', '...   \n",
       "2  ['보겸', '보겸TV', 'bokyem', '도티', '롤', '오버워치', '원...   \n",
       "3  ['게임', '위닝', '위닝일레븐', '축구게임', '말이야와 게임들 축구게임',...   \n",
       "4  ['카베', '모바일베그', '배그M', '카카오베그', '연다', '배틀그라운드'...   \n",
       "\n",
       "                                               title  \\\n",
       "0       마크판 거지키우기 업그레이드 *크리에이터* 키우기! - 마인크래프트 - [잠뜰]   \n",
       "1                 직업 머더 \"곤충\"능력 특집 (부제: 파브르와 저승벌레 팡수)   \n",
       "2                        14번의”아디오스” ㄷ1지고싶으면 들이대봐 드루와   \n",
       "3  그때 눈물의 축구 게임 복수전! 과연 미니 고수 말이야 이길 수 있을까? (꿀잼) ...   \n",
       "4  초보자도 여포로 만들어 줄 수 있는 총 조합! 제가 알려드리죠 ㅋㅋ (배틀그라운드-...   \n",
       "\n",
       "                                         top_comment        upload_date  \\\n",
       "0  그동안 여러분이 잠뜰TV에서 가장 재밌게 본 영상은?!\\n댓글에 많이 남겨주시고 좋...  게시일: 2018. 8. 17.   \n",
       "1  다음 컨셉은 아이스 크림 어떨까요?예를 들면스크류바:술래가 한 대 치면 술래를 5초...  게시일: 2018. 8. 20.   \n",
       "2  모듀 ㅂㅇㄹ ^_^* \\nㅋㅋㅋ 역대 최대킬 ㅋㅋㅋ\\n고마워 ^_^+ 가조쿠들 ㅋㅋ...  게시일: 2018. 8. 18.   \n",
       "3  사랑하는 말랑이 여러분! 다음에는 말이야, 로기, 미니 축구팀을 댓글로 남겨주세요....  게시일: 2018. 8. 18.   \n",
       "4  크흠...저런 총이 있어도 난 여포가 아니라 쥐포가 될것 같은데...\\niny070...  게시일: 2018. 8. 21.   \n",
       "\n",
       "                                                 url         views  \n",
       "0  https://www.youtube.com/watch?v=azoDJNPRU7s&li...  조회수 579,949회  \n",
       "1  https://www.youtube.com/watch?v=-BnUuHgUK5Q&li...  조회수 451,676회  \n",
       "2  https://www.youtube.com/watch?v=v0rDCGLcnpU&li...  조회수 955,578회  \n",
       "3  https://www.youtube.com/watch?v=cK8Z2fz0iUI&li...  조회수 191,211회  \n",
       "4  https://www.youtube.com/watch?v=bBbHq5sMqP0&li...  조회수 162,253회  "
      ]
     },
     "execution_count": 2,
     "metadata": {},
     "output_type": "execute_result"
    }
   ],
   "source": [
    "train = pd.read_csv(\"train.csv\")\n",
    "\n",
    "print(train.shape)\n",
    "train.head()"
   ]
  },
  {
   "cell_type": "markdown",
   "metadata": {},
   "source": [
    "### Upload_date\n",
    "- 게시년, 월, 일"
   ]
  },
  {
   "cell_type": "code",
   "execution_count": 3,
   "metadata": {},
   "outputs": [],
   "source": [
    "ls=list(train[\"upload_date\"])"
   ]
  },
  {
   "cell_type": "code",
   "execution_count": 4,
   "metadata": {},
   "outputs": [
    {
     "name": "stdout",
     "output_type": "stream",
     "text": [
      "실시간 스트림: 14시간시간 전\n",
      "실시간 스트림: 10시간시간 전\n",
      "실시간 스트림: 12시간시간 전\n",
      "실시간 스트림: 21시간시간 전\n",
      "실시간 스트림: 18시간시간 전\n",
      "실시간 스트림: 21시간시간 전\n",
      "실시간 스트림: 17시간시간 전\n",
      "실시간 스트림: 15시간시간 전\n",
      "실시간 스트림: 18시간시간 전\n",
      "실시간 스트림: 3시간시간 전\n",
      "실시간 스트림: 22시간시간 전\n",
      "실시간 스트림: 23시간시간 전\n",
      "실시간 스트림: 14시간시간 전\n",
      "실시간 스트림: 11시간시간 전\n",
      "실시간 스트림: 10시간시간 전\n",
      "실시간 스트림: 10시간시간 전\n",
      "실시간 스트림: 22시간시간 전\n",
      "실시간 스트림: 11시간시간 전\n",
      "실시간 스트림: 23시간시간 전\n",
      "실시간 스트림: 9시간시간 전\n",
      "실시간 스트림: 21시간시간 전\n",
      "실시간 스트림: 21시간시간 전\n",
      "실시간 스트림: 22시간시간 전\n"
     ]
    },
    {
     "data": {
      "text/plain": [
       "[3197,\n",
       " 3251,\n",
       " 3263,\n",
       " 4879,\n",
       " 4885,\n",
       " 4906,\n",
       " 4923,\n",
       " 4928,\n",
       " 5279,\n",
       " 6647,\n",
       " 7368,\n",
       " 7390,\n",
       " 7402,\n",
       " 7411,\n",
       " 8134,\n",
       " 8135,\n",
       " 8393,\n",
       " 8425,\n",
       " 8531,\n",
       " 8536,\n",
       " 8557,\n",
       " 8559,\n",
       " 8653]"
      ]
     },
     "execution_count": 4,
     "metadata": {},
     "output_type": "execute_result"
    }
   ],
   "source": [
    "del_list = []\n",
    "for i, s in enumerate(ls):\n",
    "    if \"시간시간\" in s:\n",
    "        print(s)\n",
    "        del_list.append(i)\n",
    "del_list"
   ]
  },
  {
   "cell_type": "code",
   "execution_count": 5,
   "metadata": {},
   "outputs": [
    {
     "data": {
      "text/plain": [
       "(10001, 13)"
      ]
     },
     "execution_count": 5,
     "metadata": {},
     "output_type": "execute_result"
    }
   ],
   "source": [
    "train = train.drop(del_list)\n",
    "train.shape"
   ]
  },
  {
   "cell_type": "code",
   "execution_count": 6,
   "metadata": {},
   "outputs": [],
   "source": [
    "train = train.reset_index(drop=True)"
   ]
  },
  {
   "cell_type": "code",
   "execution_count": 7,
   "metadata": {},
   "outputs": [],
   "source": [
    "s = '게시일: 2014. 2. 26.'"
   ]
  },
  {
   "cell_type": "code",
   "execution_count": 8,
   "metadata": {},
   "outputs": [
    {
     "data": {
      "text/plain": [
       "['2014', '2', '26']"
      ]
     },
     "execution_count": 8,
     "metadata": {},
     "output_type": "execute_result"
    }
   ],
   "source": [
    "s[5:-1].replace(\" \",\"\").split(\".\")"
   ]
  },
  {
   "cell_type": "code",
   "execution_count": 9,
   "metadata": {},
   "outputs": [],
   "source": [
    "def upload_date_clear_year(date):\n",
    "    if len(date) > 20:\n",
    "        return int(date[14:-1].replace(\" \",\"\").split(\".\")[0])\n",
    "    else:\n",
    "        return int(date[5:-1].replace(\" \",\"\").split(\".\")[0])\n",
    "\n",
    "def upload_date_clear_month(date):\n",
    "    if len(date) > 20:\n",
    "        return int(date[14:-1].replace(\" \",\"\").split(\".\")[1])\n",
    "    else:\n",
    "        return int(date[5:-1].replace(\" \",\"\").split(\".\")[1])\n",
    "\n",
    "def upload_date_clear_day(date):\n",
    "    if len(date) > 20:\n",
    "        return int(date[14:-1].replace(\" \",\"\").split(\".\")[2])\n",
    "    else:\n",
    "        return int(date[5:-1].replace(\" \",\"\").split(\".\")[2])"
   ]
  },
  {
   "cell_type": "code",
   "execution_count": 10,
   "metadata": {},
   "outputs": [],
   "source": [
    "train[\"upload_date_year\"] = train[\"upload_date\"].apply(upload_date_clear_year)\n",
    "train[\"upload_date_month\"] = train[\"upload_date\"].apply(upload_date_clear_month)\n",
    "train[\"upload_date_day\"] = train[\"upload_date\"].apply(upload_date_clear_day)"
   ]
  },
  {
   "cell_type": "code",
   "execution_count": 11,
   "metadata": {
    "scrolled": true
   },
   "outputs": [
    {
     "data": {
      "text/html": [
       "<div>\n",
       "<style scoped>\n",
       "    .dataframe tbody tr th:only-of-type {\n",
       "        vertical-align: middle;\n",
       "    }\n",
       "\n",
       "    .dataframe tbody tr th {\n",
       "        vertical-align: top;\n",
       "    }\n",
       "\n",
       "    .dataframe thead th {\n",
       "        text-align: right;\n",
       "    }\n",
       "</style>\n",
       "<table border=\"1\" class=\"dataframe\">\n",
       "  <thead>\n",
       "    <tr style=\"text-align: right;\">\n",
       "      <th></th>\n",
       "      <th>upload_date_year</th>\n",
       "      <th>upload_date_month</th>\n",
       "      <th>upload_date_day</th>\n",
       "    </tr>\n",
       "  </thead>\n",
       "  <tbody>\n",
       "    <tr>\n",
       "      <th>0</th>\n",
       "      <td>2018</td>\n",
       "      <td>8</td>\n",
       "      <td>17</td>\n",
       "    </tr>\n",
       "    <tr>\n",
       "      <th>1</th>\n",
       "      <td>2018</td>\n",
       "      <td>8</td>\n",
       "      <td>20</td>\n",
       "    </tr>\n",
       "    <tr>\n",
       "      <th>2</th>\n",
       "      <td>2018</td>\n",
       "      <td>8</td>\n",
       "      <td>18</td>\n",
       "    </tr>\n",
       "    <tr>\n",
       "      <th>3</th>\n",
       "      <td>2018</td>\n",
       "      <td>8</td>\n",
       "      <td>18</td>\n",
       "    </tr>\n",
       "    <tr>\n",
       "      <th>4</th>\n",
       "      <td>2018</td>\n",
       "      <td>8</td>\n",
       "      <td>21</td>\n",
       "    </tr>\n",
       "  </tbody>\n",
       "</table>\n",
       "</div>"
      ],
      "text/plain": [
       "   upload_date_year  upload_date_month  upload_date_day\n",
       "0              2018                  8               17\n",
       "1              2018                  8               20\n",
       "2              2018                  8               18\n",
       "3              2018                  8               18\n",
       "4              2018                  8               21"
      ]
     },
     "execution_count": 11,
     "metadata": {},
     "output_type": "execute_result"
    }
   ],
   "source": [
    "train[[\"upload_date_year\", \"upload_date_month\", \"upload_date_day\"]].head()"
   ]
  },
  {
   "cell_type": "markdown",
   "metadata": {},
   "source": [
    "### Crawl_date"
   ]
  },
  {
   "cell_type": "code",
   "execution_count": 12,
   "metadata": {},
   "outputs": [],
   "source": [
    "s = '2014.2.26'"
   ]
  },
  {
   "cell_type": "code",
   "execution_count": 13,
   "metadata": {},
   "outputs": [
    {
     "data": {
      "text/plain": [
       "2014"
      ]
     },
     "execution_count": 13,
     "metadata": {},
     "output_type": "execute_result"
    }
   ],
   "source": [
    "int(s.split(\".\")[0])"
   ]
  },
  {
   "cell_type": "code",
   "execution_count": 14,
   "metadata": {},
   "outputs": [],
   "source": [
    "def crawl_data_clear_year(date):\n",
    "    return int(date.split(\".\")[0])\n",
    "\n",
    "def crawl_data_clear_month(date):\n",
    "    return int(date.split(\".\")[1])\n",
    "\n",
    "def crawl_data_clear_day(date):\n",
    "    return int(date.split(\".\")[2])"
   ]
  },
  {
   "cell_type": "code",
   "execution_count": 15,
   "metadata": {},
   "outputs": [],
   "source": [
    "train[\"crawl_date_year\"] = train[\"crawl_date\"].apply(crawl_data_clear_year)\n",
    "train[\"crawl_date_month\"] = train[\"crawl_date\"].apply(crawl_data_clear_month)\n",
    "train[\"crawl_date_day\"] = train[\"crawl_date\"].apply(crawl_data_clear_day)"
   ]
  },
  {
   "cell_type": "code",
   "execution_count": 16,
   "metadata": {
    "scrolled": true
   },
   "outputs": [
    {
     "data": {
      "text/html": [
       "<div>\n",
       "<style scoped>\n",
       "    .dataframe tbody tr th:only-of-type {\n",
       "        vertical-align: middle;\n",
       "    }\n",
       "\n",
       "    .dataframe tbody tr th {\n",
       "        vertical-align: top;\n",
       "    }\n",
       "\n",
       "    .dataframe thead th {\n",
       "        text-align: right;\n",
       "    }\n",
       "</style>\n",
       "<table border=\"1\" class=\"dataframe\">\n",
       "  <thead>\n",
       "    <tr style=\"text-align: right;\">\n",
       "      <th></th>\n",
       "      <th>crawl_date_year</th>\n",
       "      <th>crawl_date_month</th>\n",
       "      <th>crawl_date_day</th>\n",
       "    </tr>\n",
       "  </thead>\n",
       "  <tbody>\n",
       "    <tr>\n",
       "      <th>0</th>\n",
       "      <td>2018</td>\n",
       "      <td>8</td>\n",
       "      <td>23</td>\n",
       "    </tr>\n",
       "    <tr>\n",
       "      <th>1</th>\n",
       "      <td>2018</td>\n",
       "      <td>8</td>\n",
       "      <td>23</td>\n",
       "    </tr>\n",
       "    <tr>\n",
       "      <th>2</th>\n",
       "      <td>2018</td>\n",
       "      <td>8</td>\n",
       "      <td>23</td>\n",
       "    </tr>\n",
       "    <tr>\n",
       "      <th>3</th>\n",
       "      <td>2018</td>\n",
       "      <td>8</td>\n",
       "      <td>23</td>\n",
       "    </tr>\n",
       "    <tr>\n",
       "      <th>4</th>\n",
       "      <td>2018</td>\n",
       "      <td>8</td>\n",
       "      <td>23</td>\n",
       "    </tr>\n",
       "  </tbody>\n",
       "</table>\n",
       "</div>"
      ],
      "text/plain": [
       "   crawl_date_year  crawl_date_month  crawl_date_day\n",
       "0             2018                 8              23\n",
       "1             2018                 8              23\n",
       "2             2018                 8              23\n",
       "3             2018                 8              23\n",
       "4             2018                 8              23"
      ]
     },
     "execution_count": 16,
     "metadata": {},
     "output_type": "execute_result"
    }
   ],
   "source": [
    "train[[\"crawl_date_year\", \"crawl_date_month\", \"crawl_date_day\"]].head()"
   ]
  },
  {
   "cell_type": "markdown",
   "metadata": {},
   "source": [
    "### Uploaded days"
   ]
  },
  {
   "cell_type": "code",
   "execution_count": 17,
   "metadata": {},
   "outputs": [
    {
     "name": "stderr",
     "output_type": "stream",
     "text": [
      "100%|██████████| 10001/10001 [00:07<00:00, 1326.96it/s]\n"
     ]
    }
   ],
   "source": [
    "from datetime import date\n",
    "\n",
    "for idx in tqdm(range(0, len(train))):\n",
    "    d0 = date(train[\"upload_date_year\"].loc[idx], train[\"upload_date_month\"].loc[idx], train[\"upload_date_day\"].loc[idx])\n",
    "    d1 = date(train[\"crawl_date_year\"].loc[idx], train[\"crawl_date_month\"].loc[idx], train[\"crawl_date_day\"].loc[idx])\n",
    "    train.loc[idx, \"uploaded_days\"] = (d1 - d0).days + 1"
   ]
  },
  {
   "cell_type": "code",
   "execution_count": 18,
   "metadata": {},
   "outputs": [
    {
     "data": {
      "text/html": [
       "<div>\n",
       "<style scoped>\n",
       "    .dataframe tbody tr th:only-of-type {\n",
       "        vertical-align: middle;\n",
       "    }\n",
       "\n",
       "    .dataframe tbody tr th {\n",
       "        vertical-align: top;\n",
       "    }\n",
       "\n",
       "    .dataframe thead th {\n",
       "        text-align: right;\n",
       "    }\n",
       "</style>\n",
       "<table border=\"1\" class=\"dataframe\">\n",
       "  <thead>\n",
       "    <tr style=\"text-align: right;\">\n",
       "      <th></th>\n",
       "      <th>uploaded_days</th>\n",
       "    </tr>\n",
       "  </thead>\n",
       "  <tbody>\n",
       "    <tr>\n",
       "      <th>0</th>\n",
       "      <td>7.0</td>\n",
       "    </tr>\n",
       "    <tr>\n",
       "      <th>1</th>\n",
       "      <td>4.0</td>\n",
       "    </tr>\n",
       "    <tr>\n",
       "      <th>2</th>\n",
       "      <td>6.0</td>\n",
       "    </tr>\n",
       "    <tr>\n",
       "      <th>3</th>\n",
       "      <td>6.0</td>\n",
       "    </tr>\n",
       "    <tr>\n",
       "      <th>4</th>\n",
       "      <td>3.0</td>\n",
       "    </tr>\n",
       "  </tbody>\n",
       "</table>\n",
       "</div>"
      ],
      "text/plain": [
       "   uploaded_days\n",
       "0            7.0\n",
       "1            4.0\n",
       "2            6.0\n",
       "3            6.0\n",
       "4            3.0"
      ]
     },
     "execution_count": 18,
     "metadata": {},
     "output_type": "execute_result"
    }
   ],
   "source": [
    "train[[\"uploaded_days\"]].head()"
   ]
  },
  {
   "cell_type": "markdown",
   "metadata": {},
   "source": [
    "### Views\n",
    "- 조회수 ( 일평균 조회수를 target 값으로 사용 )\n",
    "- 예측할 target"
   ]
  },
  {
   "cell_type": "code",
   "execution_count": 19,
   "metadata": {},
   "outputs": [],
   "source": [
    "def views_clear(view):\n",
    "    if view == '조회수 없음':\n",
    "        return 0\n",
    "    else:\n",
    "        return int(view[4:-1].replace(\",\",\"\"))"
   ]
  },
  {
   "cell_type": "code",
   "execution_count": 20,
   "metadata": {},
   "outputs": [],
   "source": [
    "train[\"views\"] = train[\"views\"].apply(views_clear)"
   ]
  },
  {
   "cell_type": "code",
   "execution_count": 21,
   "metadata": {},
   "outputs": [
    {
     "data": {
      "text/plain": [
       "0    579949\n",
       "1    451676\n",
       "2    955578\n",
       "3    191211\n",
       "4    162253\n",
       "Name: views, dtype: int64"
      ]
     },
     "execution_count": 21,
     "metadata": {},
     "output_type": "execute_result"
    }
   ],
   "source": [
    "train[\"views\"].head()"
   ]
  },
  {
   "cell_type": "code",
   "execution_count": 22,
   "metadata": {},
   "outputs": [],
   "source": [
    "train[\"views\"] = train[\"views\"] / train[\"uploaded_days\"]"
   ]
  },
  {
   "cell_type": "code",
   "execution_count": 23,
   "metadata": {},
   "outputs": [
    {
     "data": {
      "text/plain": [
       "0     82849.857143\n",
       "1    112919.000000\n",
       "2    159263.000000\n",
       "3     31868.500000\n",
       "4     54084.333333\n",
       "Name: views, dtype: float64"
      ]
     },
     "execution_count": 23,
     "metadata": {},
     "output_type": "execute_result"
    }
   ],
   "source": [
    "train[\"views\"].head()"
   ]
  },
  {
   "cell_type": "markdown",
   "metadata": {},
   "source": [
    "### Dislike\n",
    "- '싫어요'라는 텍스트만 있는 경우 값은 url확인 결과 '0'인 경우이다."
   ]
  },
  {
   "cell_type": "code",
   "execution_count": 24,
   "metadata": {
    "scrolled": true
   },
   "outputs": [
    {
     "data": {
      "text/html": [
       "<div>\n",
       "<style scoped>\n",
       "    .dataframe tbody tr th:only-of-type {\n",
       "        vertical-align: middle;\n",
       "    }\n",
       "\n",
       "    .dataframe tbody tr th {\n",
       "        vertical-align: top;\n",
       "    }\n",
       "\n",
       "    .dataframe thead th {\n",
       "        text-align: right;\n",
       "    }\n",
       "</style>\n",
       "<table border=\"1\" class=\"dataframe\">\n",
       "  <thead>\n",
       "    <tr style=\"text-align: right;\">\n",
       "      <th></th>\n",
       "      <th>category</th>\n",
       "      <th>comments</th>\n",
       "      <th>crawl_date</th>\n",
       "      <th>dislike</th>\n",
       "      <th>like</th>\n",
       "      <th>play_time</th>\n",
       "      <th>subscribers</th>\n",
       "      <th>tag</th>\n",
       "      <th>title</th>\n",
       "      <th>top_comment</th>\n",
       "      <th>upload_date</th>\n",
       "      <th>url</th>\n",
       "      <th>views</th>\n",
       "      <th>upload_date_year</th>\n",
       "      <th>upload_date_month</th>\n",
       "      <th>upload_date_day</th>\n",
       "      <th>crawl_date_year</th>\n",
       "      <th>crawl_date_month</th>\n",
       "      <th>crawl_date_day</th>\n",
       "      <th>uploaded_days</th>\n",
       "    </tr>\n",
       "  </thead>\n",
       "  <tbody>\n",
       "    <tr>\n",
       "      <th>49</th>\n",
       "      <td>엔터테인먼트</td>\n",
       "      <td>0</td>\n",
       "      <td>2018.08.23</td>\n",
       "      <td>싫어요</td>\n",
       "      <td>좋아요</td>\n",
       "      <td>6:06</td>\n",
       "      <td>0</td>\n",
       "      <td>[]</td>\n",
       "      <td>사람들 멘붕 시키려고 돌진했다가 캐리해버린 영상ㅋㅋㅋㅋㅋ | 좀비고 | 좀비고등학교...</td>\n",
       "      <td>NaN</td>\n",
       "      <td>게시일: 2018. 8. 15.</td>\n",
       "      <td>https://www.youtube.com/watch?v=35yrf7vZmIk&amp;in...</td>\n",
       "      <td>13997.222222</td>\n",
       "      <td>2018</td>\n",
       "      <td>8</td>\n",
       "      <td>15</td>\n",
       "      <td>2018</td>\n",
       "      <td>8</td>\n",
       "      <td>23</td>\n",
       "      <td>9.0</td>\n",
       "    </tr>\n",
       "  </tbody>\n",
       "</table>\n",
       "</div>"
      ],
      "text/plain": [
       "   category comments  crawl_date dislike like play_time subscribers tag  \\\n",
       "49   엔터테인먼트        0  2018.08.23     싫어요  좋아요      6:06           0  []   \n",
       "\n",
       "                                                title top_comment  \\\n",
       "49  사람들 멘붕 시키려고 돌진했다가 캐리해버린 영상ㅋㅋㅋㅋㅋ | 좀비고 | 좀비고등학교...         NaN   \n",
       "\n",
       "          upload_date                                                url  \\\n",
       "49  게시일: 2018. 8. 15.  https://www.youtube.com/watch?v=35yrf7vZmIk&in...   \n",
       "\n",
       "           views  upload_date_year  upload_date_month  upload_date_day  \\\n",
       "49  13997.222222              2018                  8               15   \n",
       "\n",
       "    crawl_date_year  crawl_date_month  crawl_date_day  uploaded_days  \n",
       "49             2018                 8              23            9.0  "
      ]
     },
     "execution_count": 24,
     "metadata": {},
     "output_type": "execute_result"
    }
   ],
   "source": [
    "train[train[\"dislike\"]=='싫어요'].head(1)"
   ]
  },
  {
   "cell_type": "code",
   "execution_count": 25,
   "metadata": {},
   "outputs": [],
   "source": [
    "train.loc[train[\"dislike\"]=='싫어요', 'dislike'] = '0'"
   ]
  },
  {
   "cell_type": "code",
   "execution_count": 26,
   "metadata": {},
   "outputs": [
    {
     "data": {
      "text/html": [
       "<div>\n",
       "<style scoped>\n",
       "    .dataframe tbody tr th:only-of-type {\n",
       "        vertical-align: middle;\n",
       "    }\n",
       "\n",
       "    .dataframe tbody tr th {\n",
       "        vertical-align: top;\n",
       "    }\n",
       "\n",
       "    .dataframe thead th {\n",
       "        text-align: right;\n",
       "    }\n",
       "</style>\n",
       "<table border=\"1\" class=\"dataframe\">\n",
       "  <thead>\n",
       "    <tr style=\"text-align: right;\">\n",
       "      <th></th>\n",
       "      <th>category</th>\n",
       "      <th>comments</th>\n",
       "      <th>crawl_date</th>\n",
       "      <th>dislike</th>\n",
       "      <th>like</th>\n",
       "      <th>play_time</th>\n",
       "      <th>subscribers</th>\n",
       "      <th>tag</th>\n",
       "      <th>title</th>\n",
       "      <th>top_comment</th>\n",
       "      <th>upload_date</th>\n",
       "      <th>url</th>\n",
       "      <th>views</th>\n",
       "      <th>upload_date_year</th>\n",
       "      <th>upload_date_month</th>\n",
       "      <th>upload_date_day</th>\n",
       "      <th>crawl_date_year</th>\n",
       "      <th>crawl_date_month</th>\n",
       "      <th>crawl_date_day</th>\n",
       "      <th>uploaded_days</th>\n",
       "    </tr>\n",
       "  </thead>\n",
       "  <tbody>\n",
       "  </tbody>\n",
       "</table>\n",
       "</div>"
      ],
      "text/plain": [
       "Empty DataFrame\n",
       "Columns: [category, comments, crawl_date, dislike, like, play_time, subscribers, tag, title, top_comment, upload_date, url, views, upload_date_year, upload_date_month, upload_date_day, crawl_date_year, crawl_date_month, crawl_date_day, uploaded_days]\n",
       "Index: []"
      ]
     },
     "execution_count": 26,
     "metadata": {},
     "output_type": "execute_result"
    }
   ],
   "source": [
    "train[train[\"dislike\"]=='싫어요'].head(1)"
   ]
  },
  {
   "cell_type": "code",
   "execution_count": 27,
   "metadata": {},
   "outputs": [],
   "source": [
    "def hand_clear(s):\n",
    "    '''\n",
    "    천, 만으로 표시된 값 숫자로 변경\n",
    "    '''\n",
    "    if s[-1] == '천':\n",
    "        return float(s[:-1]) * 1000\n",
    "    elif s[-1] == '만':\n",
    "        return float(s[:-1]) * 10000\n",
    "    else:\n",
    "        return float(s)"
   ]
  },
  {
   "cell_type": "code",
   "execution_count": 28,
   "metadata": {},
   "outputs": [],
   "source": [
    "train[\"dislike\"] = train[\"dislike\"].apply(hand_clear)"
   ]
  },
  {
   "cell_type": "markdown",
   "metadata": {},
   "source": [
    "### Like\n",
    "- '좋아요'라는 텍스트만 있는 경우 값은 url확인 결과 '0'인 경우이다."
   ]
  },
  {
   "cell_type": "code",
   "execution_count": 29,
   "metadata": {},
   "outputs": [
    {
     "data": {
      "text/html": [
       "<div>\n",
       "<style scoped>\n",
       "    .dataframe tbody tr th:only-of-type {\n",
       "        vertical-align: middle;\n",
       "    }\n",
       "\n",
       "    .dataframe tbody tr th {\n",
       "        vertical-align: top;\n",
       "    }\n",
       "\n",
       "    .dataframe thead th {\n",
       "        text-align: right;\n",
       "    }\n",
       "</style>\n",
       "<table border=\"1\" class=\"dataframe\">\n",
       "  <thead>\n",
       "    <tr style=\"text-align: right;\">\n",
       "      <th></th>\n",
       "      <th>category</th>\n",
       "      <th>comments</th>\n",
       "      <th>crawl_date</th>\n",
       "      <th>dislike</th>\n",
       "      <th>like</th>\n",
       "      <th>play_time</th>\n",
       "      <th>subscribers</th>\n",
       "      <th>tag</th>\n",
       "      <th>title</th>\n",
       "      <th>top_comment</th>\n",
       "      <th>upload_date</th>\n",
       "      <th>url</th>\n",
       "      <th>views</th>\n",
       "      <th>upload_date_year</th>\n",
       "      <th>upload_date_month</th>\n",
       "      <th>upload_date_day</th>\n",
       "      <th>crawl_date_year</th>\n",
       "      <th>crawl_date_month</th>\n",
       "      <th>crawl_date_day</th>\n",
       "      <th>uploaded_days</th>\n",
       "    </tr>\n",
       "  </thead>\n",
       "  <tbody>\n",
       "    <tr>\n",
       "      <th>49</th>\n",
       "      <td>엔터테인먼트</td>\n",
       "      <td>0</td>\n",
       "      <td>2018.08.23</td>\n",
       "      <td>0.0</td>\n",
       "      <td>좋아요</td>\n",
       "      <td>6:06</td>\n",
       "      <td>0</td>\n",
       "      <td>[]</td>\n",
       "      <td>사람들 멘붕 시키려고 돌진했다가 캐리해버린 영상ㅋㅋㅋㅋㅋ | 좀비고 | 좀비고등학교...</td>\n",
       "      <td>NaN</td>\n",
       "      <td>게시일: 2018. 8. 15.</td>\n",
       "      <td>https://www.youtube.com/watch?v=35yrf7vZmIk&amp;in...</td>\n",
       "      <td>13997.222222</td>\n",
       "      <td>2018</td>\n",
       "      <td>8</td>\n",
       "      <td>15</td>\n",
       "      <td>2018</td>\n",
       "      <td>8</td>\n",
       "      <td>23</td>\n",
       "      <td>9.0</td>\n",
       "    </tr>\n",
       "  </tbody>\n",
       "</table>\n",
       "</div>"
      ],
      "text/plain": [
       "   category comments  crawl_date  dislike like play_time subscribers tag  \\\n",
       "49   엔터테인먼트        0  2018.08.23      0.0  좋아요      6:06           0  []   \n",
       "\n",
       "                                                title top_comment  \\\n",
       "49  사람들 멘붕 시키려고 돌진했다가 캐리해버린 영상ㅋㅋㅋㅋㅋ | 좀비고 | 좀비고등학교...         NaN   \n",
       "\n",
       "          upload_date                                                url  \\\n",
       "49  게시일: 2018. 8. 15.  https://www.youtube.com/watch?v=35yrf7vZmIk&in...   \n",
       "\n",
       "           views  upload_date_year  upload_date_month  upload_date_day  \\\n",
       "49  13997.222222              2018                  8               15   \n",
       "\n",
       "    crawl_date_year  crawl_date_month  crawl_date_day  uploaded_days  \n",
       "49             2018                 8              23            9.0  "
      ]
     },
     "execution_count": 29,
     "metadata": {},
     "output_type": "execute_result"
    }
   ],
   "source": [
    "train[train[\"like\"]=='좋아요'].head(1)"
   ]
  },
  {
   "cell_type": "code",
   "execution_count": 30,
   "metadata": {},
   "outputs": [],
   "source": [
    "train.loc[train[\"like\"]=='좋아요', 'like'] = '0'"
   ]
  },
  {
   "cell_type": "code",
   "execution_count": 31,
   "metadata": {},
   "outputs": [
    {
     "data": {
      "text/html": [
       "<div>\n",
       "<style scoped>\n",
       "    .dataframe tbody tr th:only-of-type {\n",
       "        vertical-align: middle;\n",
       "    }\n",
       "\n",
       "    .dataframe tbody tr th {\n",
       "        vertical-align: top;\n",
       "    }\n",
       "\n",
       "    .dataframe thead th {\n",
       "        text-align: right;\n",
       "    }\n",
       "</style>\n",
       "<table border=\"1\" class=\"dataframe\">\n",
       "  <thead>\n",
       "    <tr style=\"text-align: right;\">\n",
       "      <th></th>\n",
       "      <th>category</th>\n",
       "      <th>comments</th>\n",
       "      <th>crawl_date</th>\n",
       "      <th>dislike</th>\n",
       "      <th>like</th>\n",
       "      <th>play_time</th>\n",
       "      <th>subscribers</th>\n",
       "      <th>tag</th>\n",
       "      <th>title</th>\n",
       "      <th>top_comment</th>\n",
       "      <th>upload_date</th>\n",
       "      <th>url</th>\n",
       "      <th>views</th>\n",
       "      <th>upload_date_year</th>\n",
       "      <th>upload_date_month</th>\n",
       "      <th>upload_date_day</th>\n",
       "      <th>crawl_date_year</th>\n",
       "      <th>crawl_date_month</th>\n",
       "      <th>crawl_date_day</th>\n",
       "      <th>uploaded_days</th>\n",
       "    </tr>\n",
       "  </thead>\n",
       "  <tbody>\n",
       "  </tbody>\n",
       "</table>\n",
       "</div>"
      ],
      "text/plain": [
       "Empty DataFrame\n",
       "Columns: [category, comments, crawl_date, dislike, like, play_time, subscribers, tag, title, top_comment, upload_date, url, views, upload_date_year, upload_date_month, upload_date_day, crawl_date_year, crawl_date_month, crawl_date_day, uploaded_days]\n",
       "Index: []"
      ]
     },
     "execution_count": 31,
     "metadata": {},
     "output_type": "execute_result"
    }
   ],
   "source": [
    "train[train[\"like\"]=='좋아요'].head(1)"
   ]
  },
  {
   "cell_type": "code",
   "execution_count": 32,
   "metadata": {},
   "outputs": [],
   "source": [
    "train[\"like\"] = train[\"like\"].apply(hand_clear)"
   ]
  },
  {
   "cell_type": "code",
   "execution_count": 33,
   "metadata": {},
   "outputs": [
    {
     "data": {
      "text/html": [
       "<div>\n",
       "<style scoped>\n",
       "    .dataframe tbody tr th:only-of-type {\n",
       "        vertical-align: middle;\n",
       "    }\n",
       "\n",
       "    .dataframe tbody tr th {\n",
       "        vertical-align: top;\n",
       "    }\n",
       "\n",
       "    .dataframe thead th {\n",
       "        text-align: right;\n",
       "    }\n",
       "</style>\n",
       "<table border=\"1\" class=\"dataframe\">\n",
       "  <thead>\n",
       "    <tr style=\"text-align: right;\">\n",
       "      <th></th>\n",
       "      <th>dislike</th>\n",
       "      <th>like</th>\n",
       "    </tr>\n",
       "  </thead>\n",
       "  <tbody>\n",
       "    <tr>\n",
       "      <th>0</th>\n",
       "      <td>277.0</td>\n",
       "      <td>13000.0</td>\n",
       "    </tr>\n",
       "    <tr>\n",
       "      <th>1</th>\n",
       "      <td>278.0</td>\n",
       "      <td>8700.0</td>\n",
       "    </tr>\n",
       "    <tr>\n",
       "      <th>2</th>\n",
       "      <td>561.0</td>\n",
       "      <td>23000.0</td>\n",
       "    </tr>\n",
       "    <tr>\n",
       "      <th>3</th>\n",
       "      <td>404.0</td>\n",
       "      <td>1100.0</td>\n",
       "    </tr>\n",
       "    <tr>\n",
       "      <th>4</th>\n",
       "      <td>36.0</td>\n",
       "      <td>3400.0</td>\n",
       "    </tr>\n",
       "  </tbody>\n",
       "</table>\n",
       "</div>"
      ],
      "text/plain": [
       "   dislike     like\n",
       "0    277.0  13000.0\n",
       "1    278.0   8700.0\n",
       "2    561.0  23000.0\n",
       "3    404.0   1100.0\n",
       "4     36.0   3400.0"
      ]
     },
     "execution_count": 33,
     "metadata": {},
     "output_type": "execute_result"
    }
   ],
   "source": [
    "train[[\"dislike\", \"like\"]].head()"
   ]
  },
  {
   "cell_type": "markdown",
   "metadata": {},
   "source": [
    "### Comments\n",
    "- 댓글 갯수"
   ]
  },
  {
   "cell_type": "code",
   "execution_count": 34,
   "metadata": {},
   "outputs": [],
   "source": [
    "def comments_clear(comment):\n",
    "    if comment[-1] == \"개\":\n",
    "        return int(comment[3:-1].replace(\",\",\"\"))\n",
    "    else:\n",
    "        return int(comment)"
   ]
  },
  {
   "cell_type": "code",
   "execution_count": 35,
   "metadata": {},
   "outputs": [],
   "source": [
    "train[\"comments\"] = train[\"comments\"].apply(comments_clear)"
   ]
  },
  {
   "cell_type": "code",
   "execution_count": 36,
   "metadata": {},
   "outputs": [
    {
     "data": {
      "text/plain": [
       "0    4919\n",
       "1    4964\n",
       "2    5262\n",
       "3    1823\n",
       "4    1159\n",
       "Name: comments, dtype: int64"
      ]
     },
     "execution_count": 36,
     "metadata": {},
     "output_type": "execute_result"
    }
   ],
   "source": [
    "train[\"comments\"].head()"
   ]
  },
  {
   "cell_type": "markdown",
   "metadata": {},
   "source": [
    "### Subscribers\n",
    "- 구독자 수"
   ]
  },
  {
   "cell_type": "code",
   "execution_count": 37,
   "metadata": {},
   "outputs": [],
   "source": [
    "def subscriber_clear(s):\n",
    "    '''\n",
    "    천, 만으로 표시된 값 숫자로 변경\n",
    "    '''\n",
    "    if s[-1] == '천':\n",
    "        return float(s[:-1]) * 1000\n",
    "    elif s[-1] == '만':\n",
    "        return float(s[:-1]) * 10000\n",
    "    else:\n",
    "        return float(s)"
   ]
  },
  {
   "cell_type": "code",
   "execution_count": 38,
   "metadata": {},
   "outputs": [],
   "source": [
    "train[\"subscribers\"] = train[\"subscribers\"].apply(subscriber_clear)"
   ]
  },
  {
   "cell_type": "code",
   "execution_count": 39,
   "metadata": {},
   "outputs": [
    {
     "data": {
      "text/plain": [
       "0    1510000.0\n",
       "1    2360000.0\n",
       "2    2460000.0\n",
       "3     230000.0\n",
       "4     470000.0\n",
       "Name: subscribers, dtype: float64"
      ]
     },
     "execution_count": 39,
     "metadata": {},
     "output_type": "execute_result"
    }
   ],
   "source": [
    "train[\"subscribers\"].head()"
   ]
  },
  {
   "cell_type": "markdown",
   "metadata": {},
   "source": [
    "### Play time"
   ]
  },
  {
   "cell_type": "code",
   "execution_count": 40,
   "metadata": {},
   "outputs": [],
   "source": [
    "def convert_time(t):\n",
    "    if type(t) is float:\n",
    "        return t\n",
    "    else:\n",
    "        return int(t.split(\":\")[0]) * 60 + int(t.split(\":\")[1])"
   ]
  },
  {
   "cell_type": "code",
   "execution_count": 41,
   "metadata": {},
   "outputs": [],
   "source": [
    "train[\"play_time\"] = train[\"play_time\"].apply(convert_time)"
   ]
  },
  {
   "cell_type": "code",
   "execution_count": 42,
   "metadata": {},
   "outputs": [],
   "source": [
    "train.loc[train[\"play_time\"].isna(), \"play_time\"] = np.mean(train[\"play_time\"])"
   ]
  },
  {
   "cell_type": "code",
   "execution_count": 43,
   "metadata": {},
   "outputs": [
    {
     "data": {
      "text/plain": [
       "0     14.0\n",
       "1     15.0\n",
       "2    407.0\n",
       "3    780.0\n",
       "4    600.0\n",
       "Name: play_time, dtype: float64"
      ]
     },
     "execution_count": 43,
     "metadata": {},
     "output_type": "execute_result"
    }
   ],
   "source": [
    "train[\"play_time\"].head()"
   ]
  },
  {
   "cell_type": "markdown",
   "metadata": {},
   "source": [
    "### Length of title"
   ]
  },
  {
   "cell_type": "code",
   "execution_count": 44,
   "metadata": {},
   "outputs": [],
   "source": [
    "def title_length(s):\n",
    "    return len(s)"
   ]
  },
  {
   "cell_type": "code",
   "execution_count": 45,
   "metadata": {},
   "outputs": [],
   "source": [
    "train[\"title_length\"] = train[\"title\"].apply(title_length)"
   ]
  },
  {
   "cell_type": "code",
   "execution_count": 46,
   "metadata": {},
   "outputs": [
    {
     "data": {
      "text/plain": [
       "0    44\n",
       "1    34\n",
       "2    27\n",
       "3    96\n",
       "4    56\n",
       "Name: title_length, dtype: int64"
      ]
     },
     "execution_count": 46,
     "metadata": {},
     "output_type": "execute_result"
    }
   ],
   "source": [
    "train[\"title_length\"].head()"
   ]
  },
  {
   "cell_type": "markdown",
   "metadata": {},
   "source": [
    "### Number of Tag"
   ]
  },
  {
   "cell_type": "code",
   "execution_count": 47,
   "metadata": {},
   "outputs": [],
   "source": [
    "import ast\n",
    "\n",
    "def tag_list(x):\n",
    "    return ast.literal_eval(x)\n",
    "\n",
    "def tag_count(x):\n",
    "    return len(x)"
   ]
  },
  {
   "cell_type": "code",
   "execution_count": 48,
   "metadata": {},
   "outputs": [],
   "source": [
    "train[\"tag_list\"] = train[\"tag\"].apply(tag_list)"
   ]
  },
  {
   "cell_type": "code",
   "execution_count": 49,
   "metadata": {},
   "outputs": [],
   "source": [
    "train[\"tag_count\"] = train[\"tag\"].apply(tag_count)"
   ]
  },
  {
   "cell_type": "code",
   "execution_count": 50,
   "metadata": {},
   "outputs": [
    {
     "data": {
      "text/html": [
       "<div>\n",
       "<style scoped>\n",
       "    .dataframe tbody tr th:only-of-type {\n",
       "        vertical-align: middle;\n",
       "    }\n",
       "\n",
       "    .dataframe tbody tr th {\n",
       "        vertical-align: top;\n",
       "    }\n",
       "\n",
       "    .dataframe thead th {\n",
       "        text-align: right;\n",
       "    }\n",
       "</style>\n",
       "<table border=\"1\" class=\"dataframe\">\n",
       "  <thead>\n",
       "    <tr style=\"text-align: right;\">\n",
       "      <th></th>\n",
       "      <th>tag_list</th>\n",
       "      <th>tag_count</th>\n",
       "    </tr>\n",
       "  </thead>\n",
       "  <tbody>\n",
       "    <tr>\n",
       "      <th>0</th>\n",
       "      <td>[마인크래프트, Minecraft, 샌드박스 네트워크, 샌드박스, 샌박, Sandb...</td>\n",
       "      <td>512</td>\n",
       "    </tr>\n",
       "    <tr>\n",
       "      <th>1</th>\n",
       "      <td>[도티, 도티 마피아, 도티 머더, 마피아 머더, mafia, 마인크래프트 머더, ...</td>\n",
       "      <td>293</td>\n",
       "    </tr>\n",
       "    <tr>\n",
       "      <th>2</th>\n",
       "      <td>[보겸, 보겸TV, bokyem, 도티, 롤, 오버워치, 원피스, 리그오브레전드, ...</td>\n",
       "      <td>167</td>\n",
       "    </tr>\n",
       "    <tr>\n",
       "      <th>3</th>\n",
       "      <td>[게임, 위닝, 위닝일레븐, 축구게임, 말이야와 게임들 축구게임, 말이야와 게임들 ...</td>\n",
       "      <td>533</td>\n",
       "    </tr>\n",
       "    <tr>\n",
       "      <th>4</th>\n",
       "      <td>[카베, 모바일베그, 배그M, 카카오베그, 연다, 배틀그라운드, PSS, APL, ...</td>\n",
       "      <td>461</td>\n",
       "    </tr>\n",
       "  </tbody>\n",
       "</table>\n",
       "</div>"
      ],
      "text/plain": [
       "                                            tag_list  tag_count\n",
       "0  [마인크래프트, Minecraft, 샌드박스 네트워크, 샌드박스, 샌박, Sandb...        512\n",
       "1  [도티, 도티 마피아, 도티 머더, 마피아 머더, mafia, 마인크래프트 머더, ...        293\n",
       "2  [보겸, 보겸TV, bokyem, 도티, 롤, 오버워치, 원피스, 리그오브레전드, ...        167\n",
       "3  [게임, 위닝, 위닝일레븐, 축구게임, 말이야와 게임들 축구게임, 말이야와 게임들 ...        533\n",
       "4  [카베, 모바일베그, 배그M, 카카오베그, 연다, 배틀그라운드, PSS, APL, ...        461"
      ]
     },
     "execution_count": 50,
     "metadata": {},
     "output_type": "execute_result"
    }
   ],
   "source": [
    "train[[\"tag_list\", \"tag_count\"]].head()"
   ]
  },
  {
   "cell_type": "markdown",
   "metadata": {},
   "source": [
    "###  Similarity of Title and Tag"
   ]
  },
  {
   "cell_type": "code",
   "execution_count": 51,
   "metadata": {},
   "outputs": [],
   "source": [
    "### 태그 단어안 공백 제거\n",
    "def blank_delete(ls):\n",
    "    for i in range(0, len(ls)):\n",
    "        ls[i] = ls[i].replace(\" \",\"\")\n",
    "    return ls\n",
    "\n",
    "train[\"tag_list\"] = train[\"tag_list\"].apply(blank_delete)"
   ]
  },
  {
   "cell_type": "code",
   "execution_count": 52,
   "metadata": {},
   "outputs": [
    {
     "data": {
      "text/html": [
       "<div>\n",
       "<style scoped>\n",
       "    .dataframe tbody tr th:only-of-type {\n",
       "        vertical-align: middle;\n",
       "    }\n",
       "\n",
       "    .dataframe tbody tr th {\n",
       "        vertical-align: top;\n",
       "    }\n",
       "\n",
       "    .dataframe thead th {\n",
       "        text-align: right;\n",
       "    }\n",
       "</style>\n",
       "<table border=\"1\" class=\"dataframe\">\n",
       "  <thead>\n",
       "    <tr style=\"text-align: right;\">\n",
       "      <th></th>\n",
       "      <th>title</th>\n",
       "      <th>tag</th>\n",
       "      <th>tag_list</th>\n",
       "    </tr>\n",
       "  </thead>\n",
       "  <tbody>\n",
       "    <tr>\n",
       "      <th>0</th>\n",
       "      <td>마크판 거지키우기 업그레이드 *크리에이터* 키우기! - 마인크래프트 - [잠뜰]</td>\n",
       "      <td>['마인크래프트', 'Minecraft', '샌드박스 네트워크', '샌드박스', '...</td>\n",
       "      <td>[마인크래프트, Minecraft, 샌드박스네트워크, 샌드박스, 샌박, Sandbo...</td>\n",
       "    </tr>\n",
       "    <tr>\n",
       "      <th>1</th>\n",
       "      <td>직업 머더 \"곤충\"능력 특집 (부제: 파브르와 저승벌레 팡수)</td>\n",
       "      <td>['도티', '도티 마피아', '도티 머더', '마피아 머더', 'mafia', '...</td>\n",
       "      <td>[도티, 도티마피아, 도티머더, 마피아머더, mafia, 마인크래프트머더, 도티마인...</td>\n",
       "    </tr>\n",
       "    <tr>\n",
       "      <th>2</th>\n",
       "      <td>14번의”아디오스” ㄷ1지고싶으면 들이대봐 드루와</td>\n",
       "      <td>['보겸', '보겸TV', 'bokyem', '도티', '롤', '오버워치', '원...</td>\n",
       "      <td>[보겸, 보겸TV, bokyem, 도티, 롤, 오버워치, 원피스, 리그오브레전드, ...</td>\n",
       "    </tr>\n",
       "    <tr>\n",
       "      <th>3</th>\n",
       "      <td>그때 눈물의 축구 게임 복수전! 과연 미니 고수 말이야 이길 수 있을까? (꿀잼) ...</td>\n",
       "      <td>['게임', '위닝', '위닝일레븐', '축구게임', '말이야와 게임들 축구게임',...</td>\n",
       "      <td>[게임, 위닝, 위닝일레븐, 축구게임, 말이야와게임들축구게임, 말이야와게임들축구, ...</td>\n",
       "    </tr>\n",
       "    <tr>\n",
       "      <th>4</th>\n",
       "      <td>초보자도 여포로 만들어 줄 수 있는 총 조합! 제가 알려드리죠 ㅋㅋ (배틀그라운드-...</td>\n",
       "      <td>['카베', '모바일베그', '배그M', '카카오베그', '연다', '배틀그라운드'...</td>\n",
       "      <td>[카베, 모바일베그, 배그M, 카카오베그, 연다, 배틀그라운드, PSS, APL, ...</td>\n",
       "    </tr>\n",
       "  </tbody>\n",
       "</table>\n",
       "</div>"
      ],
      "text/plain": [
       "                                               title  \\\n",
       "0       마크판 거지키우기 업그레이드 *크리에이터* 키우기! - 마인크래프트 - [잠뜰]   \n",
       "1                 직업 머더 \"곤충\"능력 특집 (부제: 파브르와 저승벌레 팡수)   \n",
       "2                        14번의”아디오스” ㄷ1지고싶으면 들이대봐 드루와   \n",
       "3  그때 눈물의 축구 게임 복수전! 과연 미니 고수 말이야 이길 수 있을까? (꿀잼) ...   \n",
       "4  초보자도 여포로 만들어 줄 수 있는 총 조합! 제가 알려드리죠 ㅋㅋ (배틀그라운드-...   \n",
       "\n",
       "                                                 tag  \\\n",
       "0  ['마인크래프트', 'Minecraft', '샌드박스 네트워크', '샌드박스', '...   \n",
       "1  ['도티', '도티 마피아', '도티 머더', '마피아 머더', 'mafia', '...   \n",
       "2  ['보겸', '보겸TV', 'bokyem', '도티', '롤', '오버워치', '원...   \n",
       "3  ['게임', '위닝', '위닝일레븐', '축구게임', '말이야와 게임들 축구게임',...   \n",
       "4  ['카베', '모바일베그', '배그M', '카카오베그', '연다', '배틀그라운드'...   \n",
       "\n",
       "                                            tag_list  \n",
       "0  [마인크래프트, Minecraft, 샌드박스네트워크, 샌드박스, 샌박, Sandbo...  \n",
       "1  [도티, 도티마피아, 도티머더, 마피아머더, mafia, 마인크래프트머더, 도티마인...  \n",
       "2  [보겸, 보겸TV, bokyem, 도티, 롤, 오버워치, 원피스, 리그오브레전드, ...  \n",
       "3  [게임, 위닝, 위닝일레븐, 축구게임, 말이야와게임들축구게임, 말이야와게임들축구, ...  \n",
       "4  [카베, 모바일베그, 배그M, 카카오베그, 연다, 배틀그라운드, PSS, APL, ...  "
      ]
     },
     "execution_count": 52,
     "metadata": {},
     "output_type": "execute_result"
    }
   ],
   "source": [
    "train[[\"title\", \"tag\", \"tag_list\"]].head()"
   ]
  },
  {
   "cell_type": "code",
   "execution_count": 53,
   "metadata": {},
   "outputs": [],
   "source": [
    "from sklearn.feature_extraction.text import CountVectorizer"
   ]
  },
  {
   "cell_type": "markdown",
   "metadata": {},
   "source": [
    "### Count same word between title and tag list"
   ]
  },
  {
   "cell_type": "code",
   "execution_count": 54,
   "metadata": {},
   "outputs": [
    {
     "name": "stderr",
     "output_type": "stream",
     "text": [
      "100%|██████████| 10001/10001 [00:13<00:00, 743.09it/s]\n"
     ]
    }
   ],
   "source": [
    "train[\"same_count\"] = np.nan\n",
    "for idx in tqdm(range(0, len(train))):\n",
    "    try:\n",
    "        if train.loc[idx, \"tag_list\"] == []:\n",
    "            train.loc[idx, \"same_count\"] = 0\n",
    "        else:\n",
    "            vect = CountVectorizer(analyzer='word',token_pattern=r\"(?u)\\b\\w+\\b\")\n",
    "            vect.fit(train[\"tag_list\"].loc[idx])\n",
    "            train.loc[idx, \"same_count\"]= vect.transform([train[\"title\"].loc[idx]]).toarray().sum()\n",
    "    except:\n",
    "        vect2 = CountVectorizer(analyzer='char')"
   ]
  },
  {
   "cell_type": "code",
   "execution_count": 55,
   "metadata": {},
   "outputs": [
    {
     "data": {
      "text/plain": [
       "0.0     3014\n",
       "1.0     2481\n",
       "2.0     1769\n",
       "3.0     1187\n",
       "4.0      704\n",
       "5.0      396\n",
       "6.0      201\n",
       "7.0      110\n",
       "8.0       55\n",
       "9.0       30\n",
       "10.0      20\n",
       "11.0      15\n",
       "12.0       9\n",
       "14.0       7\n",
       "13.0       2\n",
       "18.0       1\n",
       "Name: same_count, dtype: int64"
      ]
     },
     "execution_count": 55,
     "metadata": {},
     "output_type": "execute_result"
    }
   ],
   "source": [
    "train[\"same_count\"].value_counts()"
   ]
  },
  {
   "cell_type": "markdown",
   "metadata": {},
   "source": [
    "### Cosine Similarity of word between tag and title"
   ]
  },
  {
   "cell_type": "code",
   "execution_count": 56,
   "metadata": {},
   "outputs": [],
   "source": [
    "vect2 = CountVectorizer(analyzer='word', token_pattern=r\"(?u)\\b\\w+\\b\")"
   ]
  },
  {
   "cell_type": "code",
   "execution_count": 57,
   "metadata": {
    "scrolled": true
   },
   "outputs": [
    {
     "data": {
      "text/plain": [
       "CountVectorizer(analyzer='word', binary=False, decode_error='strict',\n",
       "        dtype=<class 'numpy.int64'>, encoding='utf-8', input='content',\n",
       "        lowercase=True, max_df=1.0, max_features=None, min_df=1,\n",
       "        ngram_range=(1, 1), preprocessor=None, stop_words=None,\n",
       "        strip_accents=None, token_pattern='(?u)\\\\b\\\\w+\\\\b', tokenizer=None,\n",
       "        vocabulary=None)"
      ]
     },
     "execution_count": 57,
     "metadata": {},
     "output_type": "execute_result"
    }
   ],
   "source": [
    "vect2.fit(train[\"tag\"])"
   ]
  },
  {
   "cell_type": "code",
   "execution_count": 58,
   "metadata": {
    "scrolled": true
   },
   "outputs": [
    {
     "data": {
      "text/html": [
       "<div>\n",
       "<style scoped>\n",
       "    .dataframe tbody tr th:only-of-type {\n",
       "        vertical-align: middle;\n",
       "    }\n",
       "\n",
       "    .dataframe tbody tr th {\n",
       "        vertical-align: top;\n",
       "    }\n",
       "\n",
       "    .dataframe thead th {\n",
       "        text-align: right;\n",
       "    }\n",
       "</style>\n",
       "<table border=\"1\" class=\"dataframe\">\n",
       "  <thead>\n",
       "    <tr style=\"text-align: right;\">\n",
       "      <th></th>\n",
       "      <th>word_count</th>\n",
       "    </tr>\n",
       "  </thead>\n",
       "  <tbody>\n",
       "    <tr>\n",
       "      <th>마인크래프트</th>\n",
       "      <td>25894</td>\n",
       "    </tr>\n",
       "    <tr>\n",
       "      <th>minecraft</th>\n",
       "      <td>9392</td>\n",
       "    </tr>\n",
       "    <tr>\n",
       "      <th>샌드박스</th>\n",
       "      <td>31248</td>\n",
       "    </tr>\n",
       "    <tr>\n",
       "      <th>네트워크</th>\n",
       "      <td>21840</td>\n",
       "    </tr>\n",
       "    <tr>\n",
       "      <th>샌박</th>\n",
       "      <td>31259</td>\n",
       "    </tr>\n",
       "  </tbody>\n",
       "</table>\n",
       "</div>"
      ],
      "text/plain": [
       "           word_count\n",
       "마인크래프트          25894\n",
       "minecraft        9392\n",
       "샌드박스            31248\n",
       "네트워크            21840\n",
       "샌박              31259"
      ]
     },
     "execution_count": 58,
     "metadata": {},
     "output_type": "execute_result"
    }
   ],
   "source": [
    "pd.DataFrame(vect2.vocabulary_, index = [\"word_count\"]).T.head()"
   ]
  },
  {
   "cell_type": "code",
   "execution_count": 59,
   "metadata": {},
   "outputs": [],
   "source": [
    "from sklearn.metrics.pairwise import cosine_similarity"
   ]
  },
  {
   "cell_type": "code",
   "execution_count": 60,
   "metadata": {},
   "outputs": [
    {
     "name": "stderr",
     "output_type": "stream",
     "text": [
      "100%|██████████| 10001/10001 [00:16<00:00, 607.84it/s]\n"
     ]
    }
   ],
   "source": [
    "for idx in tqdm(range(0, len(train))):\n",
    "    tag_vect = vect2.transform([train[\"tag\"].loc[idx]]).toarray()\n",
    "    title_vect = vect2.transform([train[\"title\"].loc[idx]]).toarray()\n",
    "    similarity = cosine_similarity(tag_vect, title_vect)\n",
    "    train.loc[idx, \"title_cosine_similarity\"] = similarity[0]"
   ]
  },
  {
   "cell_type": "code",
   "execution_count": 61,
   "metadata": {},
   "outputs": [
    {
     "data": {
      "text/html": [
       "<div>\n",
       "<style scoped>\n",
       "    .dataframe tbody tr th:only-of-type {\n",
       "        vertical-align: middle;\n",
       "    }\n",
       "\n",
       "    .dataframe tbody tr th {\n",
       "        vertical-align: top;\n",
       "    }\n",
       "\n",
       "    .dataframe thead th {\n",
       "        text-align: right;\n",
       "    }\n",
       "</style>\n",
       "<table border=\"1\" class=\"dataframe\">\n",
       "  <thead>\n",
       "    <tr style=\"text-align: right;\">\n",
       "      <th></th>\n",
       "      <th>title</th>\n",
       "      <th>tag</th>\n",
       "      <th>same_count</th>\n",
       "      <th>title_cosine_similarity</th>\n",
       "    </tr>\n",
       "  </thead>\n",
       "  <tbody>\n",
       "    <tr>\n",
       "      <th>0</th>\n",
       "      <td>마크판 거지키우기 업그레이드 *크리에이터* 키우기! - 마인크래프트 - [잠뜰]</td>\n",
       "      <td>['마인크래프트', 'Minecraft', '샌드박스 네트워크', '샌드박스', '...</td>\n",
       "      <td>4.0</td>\n",
       "      <td>0.447214</td>\n",
       "    </tr>\n",
       "    <tr>\n",
       "      <th>1</th>\n",
       "      <td>직업 머더 \"곤충\"능력 특집 (부제: 파브르와 저승벌레 팡수)</td>\n",
       "      <td>['도티', '도티 마피아', '도티 머더', '마피아 머더', 'mafia', '...</td>\n",
       "      <td>0.0</td>\n",
       "      <td>0.129437</td>\n",
       "    </tr>\n",
       "    <tr>\n",
       "      <th>2</th>\n",
       "      <td>14번의”아디오스” ㄷ1지고싶으면 들이대봐 드루와</td>\n",
       "      <td>['보겸', '보겸TV', 'bokyem', '도티', '롤', '오버워치', '원...</td>\n",
       "      <td>0.0</td>\n",
       "      <td>0.000000</td>\n",
       "    </tr>\n",
       "    <tr>\n",
       "      <th>3</th>\n",
       "      <td>그때 눈물의 축구 게임 복수전! 과연 미니 고수 말이야 이길 수 있을까? (꿀잼) ...</td>\n",
       "      <td>['게임', '위닝', '위닝일레븐', '축구게임', '말이야와 게임들 축구게임',...</td>\n",
       "      <td>8.0</td>\n",
       "      <td>0.441615</td>\n",
       "    </tr>\n",
       "    <tr>\n",
       "      <th>4</th>\n",
       "      <td>초보자도 여포로 만들어 줄 수 있는 총 조합! 제가 알려드리죠 ㅋㅋ (배틀그라운드-...</td>\n",
       "      <td>['카베', '모바일베그', '배그M', '카카오베그', '연다', '배틀그라운드'...</td>\n",
       "      <td>3.0</td>\n",
       "      <td>0.121466</td>\n",
       "    </tr>\n",
       "  </tbody>\n",
       "</table>\n",
       "</div>"
      ],
      "text/plain": [
       "                                               title  \\\n",
       "0       마크판 거지키우기 업그레이드 *크리에이터* 키우기! - 마인크래프트 - [잠뜰]   \n",
       "1                 직업 머더 \"곤충\"능력 특집 (부제: 파브르와 저승벌레 팡수)   \n",
       "2                        14번의”아디오스” ㄷ1지고싶으면 들이대봐 드루와   \n",
       "3  그때 눈물의 축구 게임 복수전! 과연 미니 고수 말이야 이길 수 있을까? (꿀잼) ...   \n",
       "4  초보자도 여포로 만들어 줄 수 있는 총 조합! 제가 알려드리죠 ㅋㅋ (배틀그라운드-...   \n",
       "\n",
       "                                                 tag  same_count  \\\n",
       "0  ['마인크래프트', 'Minecraft', '샌드박스 네트워크', '샌드박스', '...         4.0   \n",
       "1  ['도티', '도티 마피아', '도티 머더', '마피아 머더', 'mafia', '...         0.0   \n",
       "2  ['보겸', '보겸TV', 'bokyem', '도티', '롤', '오버워치', '원...         0.0   \n",
       "3  ['게임', '위닝', '위닝일레븐', '축구게임', '말이야와 게임들 축구게임',...         8.0   \n",
       "4  ['카베', '모바일베그', '배그M', '카카오베그', '연다', '배틀그라운드'...         3.0   \n",
       "\n",
       "   title_cosine_similarity  \n",
       "0                 0.447214  \n",
       "1                 0.129437  \n",
       "2                 0.000000  \n",
       "3                 0.441615  \n",
       "4                 0.121466  "
      ]
     },
     "execution_count": 61,
     "metadata": {},
     "output_type": "execute_result"
    }
   ],
   "source": [
    "train[[\"title\",\"tag\",\"same_count\", \"title_cosine_similarity\"]].head()"
   ]
  },
  {
   "cell_type": "markdown",
   "metadata": {},
   "source": [
    "### Cosine Similarity of word between tag and top comments"
   ]
  },
  {
   "cell_type": "code",
   "execution_count": 62,
   "metadata": {},
   "outputs": [],
   "source": [
    "train.loc[train['top_comment'].isna(), \"top_comment\"] = ''"
   ]
  },
  {
   "cell_type": "code",
   "execution_count": 63,
   "metadata": {},
   "outputs": [
    {
     "name": "stderr",
     "output_type": "stream",
     "text": [
      "100%|██████████| 10001/10001 [00:17<00:00, 576.83it/s]\n"
     ]
    }
   ],
   "source": [
    "for idx in tqdm(range(0, len(train))):\n",
    "    tag_vect = vect2.transform([train[\"tag\"].loc[idx]]).toarray()\n",
    "    comment_vect = vect2.transform([train[\"top_comment\"].loc[idx]]).toarray()\n",
    "    similarity = cosine_similarity(tag_vect, comment_vect)\n",
    "    train.loc[idx, \"comment_cosine_similarity\"] = similarity[0]"
   ]
  },
  {
   "cell_type": "code",
   "execution_count": 64,
   "metadata": {},
   "outputs": [
    {
     "data": {
      "text/html": [
       "<div>\n",
       "<style scoped>\n",
       "    .dataframe tbody tr th:only-of-type {\n",
       "        vertical-align: middle;\n",
       "    }\n",
       "\n",
       "    .dataframe tbody tr th {\n",
       "        vertical-align: top;\n",
       "    }\n",
       "\n",
       "    .dataframe thead th {\n",
       "        text-align: right;\n",
       "    }\n",
       "</style>\n",
       "<table border=\"1\" class=\"dataframe\">\n",
       "  <thead>\n",
       "    <tr style=\"text-align: right;\">\n",
       "      <th></th>\n",
       "      <th>top_comment</th>\n",
       "      <th>tag</th>\n",
       "      <th>comment_cosine_similarity</th>\n",
       "    </tr>\n",
       "  </thead>\n",
       "  <tbody>\n",
       "    <tr>\n",
       "      <th>0</th>\n",
       "      <td>그동안 여러분이 잠뜰TV에서 가장 재밌게 본 영상은?!\\n댓글에 많이 남겨주시고 좋...</td>\n",
       "      <td>['마인크래프트', 'Minecraft', '샌드박스 네트워크', '샌드박스', '...</td>\n",
       "      <td>0.000000</td>\n",
       "    </tr>\n",
       "    <tr>\n",
       "      <th>1</th>\n",
       "      <td>다음 컨셉은 아이스 크림 어떨까요?예를 들면스크류바:술래가 한 대 치면 술래를 5초...</td>\n",
       "      <td>['도티', '도티 마피아', '도티 머더', '마피아 머더', 'mafia', '...</td>\n",
       "      <td>0.000000</td>\n",
       "    </tr>\n",
       "    <tr>\n",
       "      <th>2</th>\n",
       "      <td>모듀 ㅂㅇㄹ ^_^* \\nㅋㅋㅋ 역대 최대킬 ㅋㅋㅋ\\n고마워 ^_^+ 가조쿠들 ㅋㅋ...</td>\n",
       "      <td>['보겸', '보겸TV', 'bokyem', '도티', '롤', '오버워치', '원...</td>\n",
       "      <td>0.000000</td>\n",
       "    </tr>\n",
       "    <tr>\n",
       "      <th>3</th>\n",
       "      <td>사랑하는 말랑이 여러분! 다음에는 말이야, 로기, 미니 축구팀을 댓글로 남겨주세요....</td>\n",
       "      <td>['게임', '위닝', '위닝일레븐', '축구게임', '말이야와 게임들 축구게임',...</td>\n",
       "      <td>0.061199</td>\n",
       "    </tr>\n",
       "    <tr>\n",
       "      <th>4</th>\n",
       "      <td>크흠...저런 총이 있어도 난 여포가 아니라 쥐포가 될것 같은데...\\niny070...</td>\n",
       "      <td>['카베', '모바일베그', '배그M', '카카오베그', '연다', '배틀그라운드'...</td>\n",
       "      <td>0.000000</td>\n",
       "    </tr>\n",
       "  </tbody>\n",
       "</table>\n",
       "</div>"
      ],
      "text/plain": [
       "                                         top_comment  \\\n",
       "0  그동안 여러분이 잠뜰TV에서 가장 재밌게 본 영상은?!\\n댓글에 많이 남겨주시고 좋...   \n",
       "1  다음 컨셉은 아이스 크림 어떨까요?예를 들면스크류바:술래가 한 대 치면 술래를 5초...   \n",
       "2  모듀 ㅂㅇㄹ ^_^* \\nㅋㅋㅋ 역대 최대킬 ㅋㅋㅋ\\n고마워 ^_^+ 가조쿠들 ㅋㅋ...   \n",
       "3  사랑하는 말랑이 여러분! 다음에는 말이야, 로기, 미니 축구팀을 댓글로 남겨주세요....   \n",
       "4  크흠...저런 총이 있어도 난 여포가 아니라 쥐포가 될것 같은데...\\niny070...   \n",
       "\n",
       "                                                 tag  \\\n",
       "0  ['마인크래프트', 'Minecraft', '샌드박스 네트워크', '샌드박스', '...   \n",
       "1  ['도티', '도티 마피아', '도티 머더', '마피아 머더', 'mafia', '...   \n",
       "2  ['보겸', '보겸TV', 'bokyem', '도티', '롤', '오버워치', '원...   \n",
       "3  ['게임', '위닝', '위닝일레븐', '축구게임', '말이야와 게임들 축구게임',...   \n",
       "4  ['카베', '모바일베그', '배그M', '카카오베그', '연다', '배틀그라운드'...   \n",
       "\n",
       "   comment_cosine_similarity  \n",
       "0                   0.000000  \n",
       "1                   0.000000  \n",
       "2                   0.000000  \n",
       "3                   0.061199  \n",
       "4                   0.000000  "
      ]
     },
     "execution_count": 64,
     "metadata": {},
     "output_type": "execute_result"
    }
   ],
   "source": [
    "train[[\"top_comment\", \"tag\", \"comment_cosine_similarity\"]].head()"
   ]
  },
  {
   "cell_type": "markdown",
   "metadata": {},
   "source": [
    "### Category"
   ]
  },
  {
   "cell_type": "code",
   "execution_count": 65,
   "metadata": {},
   "outputs": [
    {
     "data": {
      "text/plain": [
       "음악          1907\n",
       "엔터테인먼트      1793\n",
       "인물/블로그      1576\n",
       "뉴스/정치       1204\n",
       "스포츠          836\n",
       "영화/애니메이션     721\n",
       "노하우/스타일      602\n",
       "게임           424\n",
       "코미디          288\n",
       "동물           182\n",
       "교육           142\n",
       "프로그램          93\n",
       "여행/이벤트        77\n",
       "과학기술          61\n",
       "비영리/사회운동      54\n",
       "자동차           41\n",
       "Name: category, dtype: int64"
      ]
     },
     "execution_count": 65,
     "metadata": {},
     "output_type": "execute_result"
    }
   ],
   "source": [
    "train[\"category\"].value_counts()"
   ]
  },
  {
   "cell_type": "code",
   "execution_count": 66,
   "metadata": {},
   "outputs": [],
   "source": [
    "category_df = pd.pivot_table(train, index='title', columns='category', values='views', aggfunc='count').reset_index(drop=False)"
   ]
  },
  {
   "cell_type": "code",
   "execution_count": 67,
   "metadata": {},
   "outputs": [],
   "source": [
    "category_df = category_df.fillna(0)\n",
    "category_df.columns = ['title', 'game', 'science', 'education', 'style', 'news', 'animal', 'social', 'sports',\n",
    "                       'entertainment', 'journey', 'movie', 'music', 'people', 'automobile', 'comic', 'program']"
   ]
  },
  {
   "cell_type": "code",
   "execution_count": 68,
   "metadata": {
    "scrolled": true
   },
   "outputs": [
    {
     "data": {
      "text/html": [
       "<div>\n",
       "<style scoped>\n",
       "    .dataframe tbody tr th:only-of-type {\n",
       "        vertical-align: middle;\n",
       "    }\n",
       "\n",
       "    .dataframe tbody tr th {\n",
       "        vertical-align: top;\n",
       "    }\n",
       "\n",
       "    .dataframe thead th {\n",
       "        text-align: right;\n",
       "    }\n",
       "</style>\n",
       "<table border=\"1\" class=\"dataframe\">\n",
       "  <thead>\n",
       "    <tr style=\"text-align: right;\">\n",
       "      <th></th>\n",
       "      <th>title</th>\n",
       "      <th>game</th>\n",
       "      <th>science</th>\n",
       "      <th>education</th>\n",
       "      <th>style</th>\n",
       "      <th>news</th>\n",
       "      <th>animal</th>\n",
       "      <th>social</th>\n",
       "      <th>sports</th>\n",
       "      <th>entertainment</th>\n",
       "      <th>journey</th>\n",
       "      <th>movie</th>\n",
       "      <th>music</th>\n",
       "      <th>people</th>\n",
       "      <th>automobile</th>\n",
       "      <th>comic</th>\n",
       "      <th>program</th>\n",
       "    </tr>\n",
       "  </thead>\n",
       "  <tbody>\n",
       "    <tr>\n",
       "      <th>0</th>\n",
       "      <td>\"'쾅' 하늘로 기왓장 솟아올라\"…양주 주택가 가스폭발 현장</td>\n",
       "      <td>0.0</td>\n",
       "      <td>0.0</td>\n",
       "      <td>0.0</td>\n",
       "      <td>0.0</td>\n",
       "      <td>1.0</td>\n",
       "      <td>0.0</td>\n",
       "      <td>0.0</td>\n",
       "      <td>0.0</td>\n",
       "      <td>0.0</td>\n",
       "      <td>0.0</td>\n",
       "      <td>0.0</td>\n",
       "      <td>0.0</td>\n",
       "      <td>0.0</td>\n",
       "      <td>0.0</td>\n",
       "      <td>0.0</td>\n",
       "      <td>0.0</td>\n",
       "    </tr>\n",
       "    <tr>\n",
       "      <th>1</th>\n",
       "      <td>\"10대 무면허 운전에...\" 중고생 4명 숨지고 1명 중상 / YTN</td>\n",
       "      <td>0.0</td>\n",
       "      <td>0.0</td>\n",
       "      <td>0.0</td>\n",
       "      <td>0.0</td>\n",
       "      <td>1.0</td>\n",
       "      <td>0.0</td>\n",
       "      <td>0.0</td>\n",
       "      <td>0.0</td>\n",
       "      <td>0.0</td>\n",
       "      <td>0.0</td>\n",
       "      <td>0.0</td>\n",
       "      <td>0.0</td>\n",
       "      <td>0.0</td>\n",
       "      <td>0.0</td>\n",
       "      <td>0.0</td>\n",
       "      <td>0.0</td>\n",
       "    </tr>\n",
       "    <tr>\n",
       "      <th>2</th>\n",
       "      <td>\"12골 대폭발! 금메달 쾌속질주!\" 한국 여자축구 인도네시아 대파 '조 1위' 8...</td>\n",
       "      <td>0.0</td>\n",
       "      <td>0.0</td>\n",
       "      <td>0.0</td>\n",
       "      <td>0.0</td>\n",
       "      <td>1.0</td>\n",
       "      <td>0.0</td>\n",
       "      <td>0.0</td>\n",
       "      <td>0.0</td>\n",
       "      <td>0.0</td>\n",
       "      <td>0.0</td>\n",
       "      <td>0.0</td>\n",
       "      <td>0.0</td>\n",
       "      <td>0.0</td>\n",
       "      <td>0.0</td>\n",
       "      <td>0.0</td>\n",
       "      <td>0.0</td>\n",
       "    </tr>\n",
       "    <tr>\n",
       "      <th>3</th>\n",
       "      <td>\"Clever Cats Opening Doors Compilation\" || CFS</td>\n",
       "      <td>0.0</td>\n",
       "      <td>0.0</td>\n",
       "      <td>0.0</td>\n",
       "      <td>0.0</td>\n",
       "      <td>0.0</td>\n",
       "      <td>1.0</td>\n",
       "      <td>0.0</td>\n",
       "      <td>0.0</td>\n",
       "      <td>0.0</td>\n",
       "      <td>0.0</td>\n",
       "      <td>0.0</td>\n",
       "      <td>0.0</td>\n",
       "      <td>0.0</td>\n",
       "      <td>0.0</td>\n",
       "      <td>0.0</td>\n",
       "      <td>0.0</td>\n",
       "    </tr>\n",
       "    <tr>\n",
       "      <th>4</th>\n",
       "      <td>\"Clumsy Cats Compilation\" || CFS</td>\n",
       "      <td>0.0</td>\n",
       "      <td>0.0</td>\n",
       "      <td>0.0</td>\n",
       "      <td>0.0</td>\n",
       "      <td>0.0</td>\n",
       "      <td>1.0</td>\n",
       "      <td>0.0</td>\n",
       "      <td>0.0</td>\n",
       "      <td>0.0</td>\n",
       "      <td>0.0</td>\n",
       "      <td>0.0</td>\n",
       "      <td>0.0</td>\n",
       "      <td>0.0</td>\n",
       "      <td>0.0</td>\n",
       "      <td>0.0</td>\n",
       "      <td>0.0</td>\n",
       "    </tr>\n",
       "  </tbody>\n",
       "</table>\n",
       "</div>"
      ],
      "text/plain": [
       "                                               title  game  science  \\\n",
       "0                  \"'쾅' 하늘로 기왓장 솟아올라\"…양주 주택가 가스폭발 현장   0.0      0.0   \n",
       "1            \"10대 무면허 운전에...\" 중고생 4명 숨지고 1명 중상 / YTN   0.0      0.0   \n",
       "2  \"12골 대폭발! 금메달 쾌속질주!\" 한국 여자축구 인도네시아 대파 '조 1위' 8...   0.0      0.0   \n",
       "3     \"Clever Cats Opening Doors Compilation\" || CFS   0.0      0.0   \n",
       "4                   \"Clumsy Cats Compilation\" || CFS   0.0      0.0   \n",
       "\n",
       "   education  style  news  animal  social  sports  entertainment  journey  \\\n",
       "0        0.0    0.0   1.0     0.0     0.0     0.0            0.0      0.0   \n",
       "1        0.0    0.0   1.0     0.0     0.0     0.0            0.0      0.0   \n",
       "2        0.0    0.0   1.0     0.0     0.0     0.0            0.0      0.0   \n",
       "3        0.0    0.0   0.0     1.0     0.0     0.0            0.0      0.0   \n",
       "4        0.0    0.0   0.0     1.0     0.0     0.0            0.0      0.0   \n",
       "\n",
       "   movie  music  people  automobile  comic  program  \n",
       "0    0.0    0.0     0.0         0.0    0.0      0.0  \n",
       "1    0.0    0.0     0.0         0.0    0.0      0.0  \n",
       "2    0.0    0.0     0.0         0.0    0.0      0.0  \n",
       "3    0.0    0.0     0.0         0.0    0.0      0.0  \n",
       "4    0.0    0.0     0.0         0.0    0.0      0.0  "
      ]
     },
     "execution_count": 68,
     "metadata": {},
     "output_type": "execute_result"
    }
   ],
   "source": [
    "category_df.head()"
   ]
  },
  {
   "cell_type": "code",
   "execution_count": 69,
   "metadata": {},
   "outputs": [
    {
     "name": "stdout",
     "output_type": "stream",
     "text": [
      "(10001, 42)\n"
     ]
    },
    {
     "data": {
      "text/html": [
       "<div>\n",
       "<style scoped>\n",
       "    .dataframe tbody tr th:only-of-type {\n",
       "        vertical-align: middle;\n",
       "    }\n",
       "\n",
       "    .dataframe tbody tr th {\n",
       "        vertical-align: top;\n",
       "    }\n",
       "\n",
       "    .dataframe thead th {\n",
       "        text-align: right;\n",
       "    }\n",
       "</style>\n",
       "<table border=\"1\" class=\"dataframe\">\n",
       "  <thead>\n",
       "    <tr style=\"text-align: right;\">\n",
       "      <th></th>\n",
       "      <th>title</th>\n",
       "      <th>category</th>\n",
       "      <th>comments</th>\n",
       "      <th>crawl_date</th>\n",
       "      <th>dislike</th>\n",
       "      <th>like</th>\n",
       "      <th>play_time</th>\n",
       "      <th>subscribers</th>\n",
       "      <th>tag</th>\n",
       "      <th>top_comment</th>\n",
       "      <th>...</th>\n",
       "      <th>social</th>\n",
       "      <th>sports</th>\n",
       "      <th>entertainment</th>\n",
       "      <th>journey</th>\n",
       "      <th>movie</th>\n",
       "      <th>music</th>\n",
       "      <th>people</th>\n",
       "      <th>automobile</th>\n",
       "      <th>comic</th>\n",
       "      <th>program</th>\n",
       "    </tr>\n",
       "  </thead>\n",
       "  <tbody>\n",
       "    <tr>\n",
       "      <th>0</th>\n",
       "      <td>마크판 거지키우기 업그레이드 *크리에이터* 키우기! - 마인크래프트 - [잠뜰]</td>\n",
       "      <td>게임</td>\n",
       "      <td>4919</td>\n",
       "      <td>2018.08.23</td>\n",
       "      <td>277.0</td>\n",
       "      <td>13000.0</td>\n",
       "      <td>14.0</td>\n",
       "      <td>1510000.0</td>\n",
       "      <td>['마인크래프트', 'Minecraft', '샌드박스 네트워크', '샌드박스', '...</td>\n",
       "      <td>그동안 여러분이 잠뜰TV에서 가장 재밌게 본 영상은?!\\n댓글에 많이 남겨주시고 좋...</td>\n",
       "      <td>...</td>\n",
       "      <td>0.0</td>\n",
       "      <td>0.0</td>\n",
       "      <td>0.0</td>\n",
       "      <td>0.0</td>\n",
       "      <td>0.0</td>\n",
       "      <td>0.0</td>\n",
       "      <td>0.0</td>\n",
       "      <td>0.0</td>\n",
       "      <td>0.0</td>\n",
       "      <td>0.0</td>\n",
       "    </tr>\n",
       "    <tr>\n",
       "      <th>1</th>\n",
       "      <td>직업 머더 \"곤충\"능력 특집 (부제: 파브르와 저승벌레 팡수)</td>\n",
       "      <td>게임</td>\n",
       "      <td>4964</td>\n",
       "      <td>2018.08.23</td>\n",
       "      <td>278.0</td>\n",
       "      <td>8700.0</td>\n",
       "      <td>15.0</td>\n",
       "      <td>2360000.0</td>\n",
       "      <td>['도티', '도티 마피아', '도티 머더', '마피아 머더', 'mafia', '...</td>\n",
       "      <td>다음 컨셉은 아이스 크림 어떨까요?예를 들면스크류바:술래가 한 대 치면 술래를 5초...</td>\n",
       "      <td>...</td>\n",
       "      <td>0.0</td>\n",
       "      <td>0.0</td>\n",
       "      <td>0.0</td>\n",
       "      <td>0.0</td>\n",
       "      <td>0.0</td>\n",
       "      <td>0.0</td>\n",
       "      <td>0.0</td>\n",
       "      <td>0.0</td>\n",
       "      <td>0.0</td>\n",
       "      <td>0.0</td>\n",
       "    </tr>\n",
       "    <tr>\n",
       "      <th>2</th>\n",
       "      <td>14번의”아디오스” ㄷ1지고싶으면 들이대봐 드루와</td>\n",
       "      <td>게임</td>\n",
       "      <td>5262</td>\n",
       "      <td>2018.08.23</td>\n",
       "      <td>561.0</td>\n",
       "      <td>23000.0</td>\n",
       "      <td>407.0</td>\n",
       "      <td>2460000.0</td>\n",
       "      <td>['보겸', '보겸TV', 'bokyem', '도티', '롤', '오버워치', '원...</td>\n",
       "      <td>모듀 ㅂㅇㄹ ^_^* \\nㅋㅋㅋ 역대 최대킬 ㅋㅋㅋ\\n고마워 ^_^+ 가조쿠들 ㅋㅋ...</td>\n",
       "      <td>...</td>\n",
       "      <td>0.0</td>\n",
       "      <td>0.0</td>\n",
       "      <td>0.0</td>\n",
       "      <td>0.0</td>\n",
       "      <td>0.0</td>\n",
       "      <td>0.0</td>\n",
       "      <td>0.0</td>\n",
       "      <td>0.0</td>\n",
       "      <td>0.0</td>\n",
       "      <td>0.0</td>\n",
       "    </tr>\n",
       "    <tr>\n",
       "      <th>3</th>\n",
       "      <td>그때 눈물의 축구 게임 복수전! 과연 미니 고수 말이야 이길 수 있을까? (꿀잼) ...</td>\n",
       "      <td>게임</td>\n",
       "      <td>1823</td>\n",
       "      <td>2018.08.23</td>\n",
       "      <td>404.0</td>\n",
       "      <td>1100.0</td>\n",
       "      <td>780.0</td>\n",
       "      <td>230000.0</td>\n",
       "      <td>['게임', '위닝', '위닝일레븐', '축구게임', '말이야와 게임들 축구게임',...</td>\n",
       "      <td>사랑하는 말랑이 여러분! 다음에는 말이야, 로기, 미니 축구팀을 댓글로 남겨주세요....</td>\n",
       "      <td>...</td>\n",
       "      <td>0.0</td>\n",
       "      <td>0.0</td>\n",
       "      <td>0.0</td>\n",
       "      <td>0.0</td>\n",
       "      <td>0.0</td>\n",
       "      <td>0.0</td>\n",
       "      <td>0.0</td>\n",
       "      <td>0.0</td>\n",
       "      <td>0.0</td>\n",
       "      <td>0.0</td>\n",
       "    </tr>\n",
       "    <tr>\n",
       "      <th>4</th>\n",
       "      <td>초보자도 여포로 만들어 줄 수 있는 총 조합! 제가 알려드리죠 ㅋㅋ (배틀그라운드-...</td>\n",
       "      <td>게임</td>\n",
       "      <td>1159</td>\n",
       "      <td>2018.08.23</td>\n",
       "      <td>36.0</td>\n",
       "      <td>3400.0</td>\n",
       "      <td>600.0</td>\n",
       "      <td>470000.0</td>\n",
       "      <td>['카베', '모바일베그', '배그M', '카카오베그', '연다', '배틀그라운드'...</td>\n",
       "      <td>크흠...저런 총이 있어도 난 여포가 아니라 쥐포가 될것 같은데...\\niny070...</td>\n",
       "      <td>...</td>\n",
       "      <td>0.0</td>\n",
       "      <td>0.0</td>\n",
       "      <td>0.0</td>\n",
       "      <td>0.0</td>\n",
       "      <td>0.0</td>\n",
       "      <td>0.0</td>\n",
       "      <td>0.0</td>\n",
       "      <td>0.0</td>\n",
       "      <td>0.0</td>\n",
       "      <td>0.0</td>\n",
       "    </tr>\n",
       "  </tbody>\n",
       "</table>\n",
       "<p>5 rows × 42 columns</p>\n",
       "</div>"
      ],
      "text/plain": [
       "                                               title category  comments  \\\n",
       "0       마크판 거지키우기 업그레이드 *크리에이터* 키우기! - 마인크래프트 - [잠뜰]       게임      4919   \n",
       "1                 직업 머더 \"곤충\"능력 특집 (부제: 파브르와 저승벌레 팡수)       게임      4964   \n",
       "2                        14번의”아디오스” ㄷ1지고싶으면 들이대봐 드루와       게임      5262   \n",
       "3  그때 눈물의 축구 게임 복수전! 과연 미니 고수 말이야 이길 수 있을까? (꿀잼) ...       게임      1823   \n",
       "4  초보자도 여포로 만들어 줄 수 있는 총 조합! 제가 알려드리죠 ㅋㅋ (배틀그라운드-...       게임      1159   \n",
       "\n",
       "   crawl_date  dislike     like  play_time  subscribers  \\\n",
       "0  2018.08.23    277.0  13000.0       14.0    1510000.0   \n",
       "1  2018.08.23    278.0   8700.0       15.0    2360000.0   \n",
       "2  2018.08.23    561.0  23000.0      407.0    2460000.0   \n",
       "3  2018.08.23    404.0   1100.0      780.0     230000.0   \n",
       "4  2018.08.23     36.0   3400.0      600.0     470000.0   \n",
       "\n",
       "                                                 tag  \\\n",
       "0  ['마인크래프트', 'Minecraft', '샌드박스 네트워크', '샌드박스', '...   \n",
       "1  ['도티', '도티 마피아', '도티 머더', '마피아 머더', 'mafia', '...   \n",
       "2  ['보겸', '보겸TV', 'bokyem', '도티', '롤', '오버워치', '원...   \n",
       "3  ['게임', '위닝', '위닝일레븐', '축구게임', '말이야와 게임들 축구게임',...   \n",
       "4  ['카베', '모바일베그', '배그M', '카카오베그', '연다', '배틀그라운드'...   \n",
       "\n",
       "                                         top_comment   ...    social sports  \\\n",
       "0  그동안 여러분이 잠뜰TV에서 가장 재밌게 본 영상은?!\\n댓글에 많이 남겨주시고 좋...   ...       0.0    0.0   \n",
       "1  다음 컨셉은 아이스 크림 어떨까요?예를 들면스크류바:술래가 한 대 치면 술래를 5초...   ...       0.0    0.0   \n",
       "2  모듀 ㅂㅇㄹ ^_^* \\nㅋㅋㅋ 역대 최대킬 ㅋㅋㅋ\\n고마워 ^_^+ 가조쿠들 ㅋㅋ...   ...       0.0    0.0   \n",
       "3  사랑하는 말랑이 여러분! 다음에는 말이야, 로기, 미니 축구팀을 댓글로 남겨주세요....   ...       0.0    0.0   \n",
       "4  크흠...저런 총이 있어도 난 여포가 아니라 쥐포가 될것 같은데...\\niny070...   ...       0.0    0.0   \n",
       "\n",
       "   entertainment  journey  movie  music  people  automobile  comic  program  \n",
       "0            0.0      0.0    0.0    0.0     0.0         0.0    0.0      0.0  \n",
       "1            0.0      0.0    0.0    0.0     0.0         0.0    0.0      0.0  \n",
       "2            0.0      0.0    0.0    0.0     0.0         0.0    0.0      0.0  \n",
       "3            0.0      0.0    0.0    0.0     0.0         0.0    0.0      0.0  \n",
       "4            0.0      0.0    0.0    0.0     0.0         0.0    0.0      0.0  \n",
       "\n",
       "[5 rows x 42 columns]"
      ]
     },
     "execution_count": 69,
     "metadata": {},
     "output_type": "execute_result"
    }
   ],
   "source": [
    "train = train.set_index('title').join(category_df.set_index('title')).reset_index(drop=False)\n",
    "\n",
    "print(train.shape)\n",
    "train.head()"
   ]
  },
  {
   "cell_type": "markdown",
   "metadata": {},
   "source": [
    "### Feature Selection"
   ]
  },
  {
   "cell_type": "code",
   "execution_count": 70,
   "metadata": {},
   "outputs": [],
   "source": [
    "feature_names = ['comments', 'dislike', 'like',\n",
    "       'play_time', 'subscribers',\n",
    "       'upload_date_year', 'upload_date_month', 'upload_date_day',\n",
    "       'crawl_date_year', 'crawl_date_month', 'crawl_date_day',\n",
    "       'uploaded_days', 'title_length', 'tag_count', 'same_count',\n",
    "       'title_cosine_similarity', 'game', 'science', 'education', 'style',\n",
    "       'news', 'animal', 'social', 'sports', 'entertainment', 'journey',\n",
    "       'movie', 'music', 'people', 'automobile', 'comic', 'program', 'comment_cosine_similarity']"
   ]
  },
  {
   "cell_type": "code",
   "execution_count": 71,
   "metadata": {},
   "outputs": [
    {
     "name": "stdout",
     "output_type": "stream",
     "text": [
      "(10001, 33)\n"
     ]
    }
   ],
   "source": [
    "X_train = train[feature_names]\n",
    "\n",
    "print(X_train.shape)"
   ]
  },
  {
   "cell_type": "code",
   "execution_count": 72,
   "metadata": {},
   "outputs": [
    {
     "data": {
      "text/plain": [
       "0     82849.857143\n",
       "1    112919.000000\n",
       "2    159263.000000\n",
       "3     31868.500000\n",
       "4     54084.333333\n",
       "Name: views, dtype: float64"
      ]
     },
     "execution_count": 72,
     "metadata": {},
     "output_type": "execute_result"
    }
   ],
   "source": [
    "y_train = train['views']\n",
    "\n",
    "y_train[:5]"
   ]
  },
  {
   "cell_type": "markdown",
   "metadata": {},
   "source": [
    "### Model"
   ]
  },
  {
   "cell_type": "code",
   "execution_count": 73,
   "metadata": {},
   "outputs": [
    {
     "data": {
      "text/plain": [
       "LGBMRegressor(boosting_type='gbdt', class_weight=None, colsample_bytree=1.0,\n",
       "       learning_rate=0.1, max_depth=9, min_child_samples=20,\n",
       "       min_child_weight=0.001, min_split_gain=0.0, n_estimators=300,\n",
       "       n_jobs=-1, num_leaves=31, objective=None, random_state=None,\n",
       "       reg_alpha=0.0, reg_lambda=0.0, silent=True, subsample=1.0,\n",
       "       subsample_for_bin=200000, subsample_freq=0)"
      ]
     },
     "execution_count": 73,
     "metadata": {},
     "output_type": "execute_result"
    }
   ],
   "source": [
    "import lightgbm as lgbm\n",
    "\n",
    "model = lgbm.LGBMRegressor(max_depth=9, n_estimators=300)\n",
    "\n",
    "model"
   ]
  },
  {
   "cell_type": "code",
   "execution_count": 74,
   "metadata": {},
   "outputs": [],
   "source": [
    "from sklearn.model_selection import train_test_split\n",
    "\n",
    "X_train, X_test, y_train, y_test = train_test_split(X_train, y_train, test_size=0.33, random_state=8)"
   ]
  },
  {
   "cell_type": "code",
   "execution_count": 75,
   "metadata": {
    "scrolled": true
   },
   "outputs": [
    {
     "name": "stdout",
     "output_type": "stream",
     "text": [
      "CPU times: user 1.21 s, sys: 1.42 s, total: 2.63 s\n",
      "Wall time: 1.11 s\n"
     ]
    },
    {
     "data": {
      "text/plain": [
       "LGBMRegressor(boosting_type='gbdt', class_weight=None, colsample_bytree=1.0,\n",
       "       learning_rate=0.1, max_depth=9, min_child_samples=20,\n",
       "       min_child_weight=0.001, min_split_gain=0.0, n_estimators=300,\n",
       "       n_jobs=-1, num_leaves=31, objective=None, random_state=None,\n",
       "       reg_alpha=0.0, reg_lambda=0.0, silent=True, subsample=1.0,\n",
       "       subsample_for_bin=200000, subsample_freq=0)"
      ]
     },
     "execution_count": 75,
     "metadata": {},
     "output_type": "execute_result"
    }
   ],
   "source": [
    "%time model.fit(X_train, y_train)"
   ]
  },
  {
   "cell_type": "code",
   "execution_count": 76,
   "metadata": {},
   "outputs": [
    {
     "name": "stdout",
     "output_type": "stream",
     "text": [
      "(3301,)\n"
     ]
    },
    {
     "data": {
      "text/plain": [
       "array([   271.78036973,  40547.40228866,  54047.37816665, ...,\n",
       "         5942.64049888,   3406.42789785,   7795.86463133])"
      ]
     },
     "execution_count": 76,
     "metadata": {},
     "output_type": "execute_result"
    }
   ],
   "source": [
    "prediction = model.predict(X_test)\n",
    "\n",
    "print(prediction.shape)\n",
    "prediction"
   ]
  },
  {
   "cell_type": "code",
   "execution_count": 77,
   "metadata": {},
   "outputs": [],
   "source": [
    "from sklearn.metrics import mean_squared_error\n",
    "from sklearn.metrics import mean_absolute_error\n",
    "from sklearn.metrics import mean_squared_log_error\n",
    "from math import sqrt\n",
    "\n",
    "rmse_result = sqrt(mean_squared_error(y_test, prediction))\n",
    "mae_result = mean_absolute_error(y_test, prediction)"
   ]
  },
  {
   "cell_type": "code",
   "execution_count": 78,
   "metadata": {},
   "outputs": [
    {
     "data": {
      "text/plain": [
       "154558.93167192797"
      ]
     },
     "execution_count": 78,
     "metadata": {},
     "output_type": "execute_result"
    }
   ],
   "source": [
    "rmse_result"
   ]
  },
  {
   "cell_type": "code",
   "execution_count": 79,
   "metadata": {},
   "outputs": [
    {
     "data": {
      "text/plain": [
       "29839.507490551579"
      ]
     },
     "execution_count": 79,
     "metadata": {},
     "output_type": "execute_result"
    }
   ],
   "source": [
    "mae_result"
   ]
  },
  {
   "cell_type": "code",
   "execution_count": 80,
   "metadata": {
    "scrolled": true
   },
   "outputs": [
    {
     "data": {
      "text/plain": [
       "<BarContainer object of 3301 artists>"
      ]
     },
     "execution_count": 80,
     "metadata": {},
     "output_type": "execute_result"
    },
    {
     "data": {
      "image/png": "[encoded data removed]",
      "text/plain": [
       "<Figure size 432x288 with 1 Axes>"
      ]
     },
     "metadata": {},
     "output_type": "display_data"
    }
   ],
   "source": [
    "plt.bar(np.arange(0,len(y_test)), y_test)"
   ]
  },
  {
   "cell_type": "code",
   "execution_count": 81,
   "metadata": {},
   "outputs": [
    {
     "data": {
      "text/plain": [
       "<BarContainer object of 3301 artists>"
      ]
     },
     "execution_count": 81,
     "metadata": {},
     "output_type": "execute_result"
    },
    {
     "data": {
      "image/png": "[encoded data removed]",
      "text/plain": [
       "<Figure size 432x288 with 1 Axes>"
      ]
     },
     "metadata": {},
     "output_type": "display_data"
    }
   ],
   "source": [
    "plt.bar(np.arange(0,len(prediction)), prediction)"
   ]
  },
  {
   "cell_type": "markdown",
   "metadata": {},
   "source": [
    "### importance\n",
    "- 예측을 해야 한다면 좋아요, 싫어요, 댓글수, 총 업로드된 일수, 구독자 수 정도가 중요해 보인다."
   ]
  },
  {
   "cell_type": "code",
   "execution_count": 82,
   "metadata": {},
   "outputs": [],
   "source": [
    "importance = pd.DataFrame(model.feature_importances_, index=X_train.columns)"
   ]
  },
  {
   "cell_type": "code",
   "execution_count": 83,
   "metadata": {},
   "outputs": [],
   "source": [
    "importance.columns = [\"feature_importance\"]"
   ]
  },
  {
   "cell_type": "code",
   "execution_count": 84,
   "metadata": {
    "scrolled": true
   },
   "outputs": [],
   "source": [
    "importance = importance.sort_values(by='feature_importance', ascending=False)"
   ]
  },
  {
   "cell_type": "code",
   "execution_count": 85,
   "metadata": {},
   "outputs": [
    {
     "data": {
      "text/plain": [
       "<matplotlib.axes._subplots.AxesSubplot at 0x10f26da20>"
      ]
     },
     "execution_count": 85,
     "metadata": {},
     "output_type": "execute_result"
    },
    {
     "data": {
      "image/png": "[encoded data removed]",
      "text/plain": [
       "<Figure size 360x720 with 1 Axes>"
      ]
     },
     "metadata": {},
     "output_type": "display_data"
    }
   ],
   "source": [
    "fig, ax = plt.subplots(figsize=(5, 10))\n",
    "sns.barplot(x=importance[\"feature_importance\"], y=importance.index, ax=ax)"
   ]
  },
  {
   "cell_type": "markdown",
   "metadata": {},
   "source": [
    "### 다중 공선성 제거"
   ]
  },
  {
   "cell_type": "code",
   "execution_count": 86,
   "metadata": {
    "scrolled": false
   },
   "outputs": [
    {
     "name": "stderr",
     "output_type": "stream",
     "text": [
      "/Library/Frameworks/Python.framework/Versions/3.6/lib/python3.6/site-packages/statsmodels/regression/linear_model.py:1543: RuntimeWarning: divide by zero encountered in double_scalars\n",
      "  return 1 - self.ssr/self.centered_tss\n",
      "/Library/Frameworks/Python.framework/Versions/3.6/lib/python3.6/site-packages/statsmodels/stats/outliers_influence.py:181: RuntimeWarning: divide by zero encountered in double_scalars\n",
      "  vif = 1. / (1. - r_squared_i)\n"
     ]
    },
    {
     "data": {
      "text/html": [
       "<div>\n",
       "<style scoped>\n",
       "    .dataframe tbody tr th:only-of-type {\n",
       "        vertical-align: middle;\n",
       "    }\n",
       "\n",
       "    .dataframe tbody tr th {\n",
       "        vertical-align: top;\n",
       "    }\n",
       "\n",
       "    .dataframe thead th {\n",
       "        text-align: right;\n",
       "    }\n",
       "</style>\n",
       "<table border=\"1\" class=\"dataframe\">\n",
       "  <thead>\n",
       "    <tr style=\"text-align: right;\">\n",
       "      <th></th>\n",
       "      <th>VIF Factor</th>\n",
       "      <th>features</th>\n",
       "    </tr>\n",
       "  </thead>\n",
       "  <tbody>\n",
       "    <tr>\n",
       "      <th>0</th>\n",
       "      <td>2.574229e+00</td>\n",
       "      <td>comments</td>\n",
       "    </tr>\n",
       "    <tr>\n",
       "      <th>1</th>\n",
       "      <td>3.512606e+00</td>\n",
       "      <td>dislike</td>\n",
       "    </tr>\n",
       "    <tr>\n",
       "      <th>2</th>\n",
       "      <td>3.779505e+00</td>\n",
       "      <td>like</td>\n",
       "    </tr>\n",
       "    <tr>\n",
       "      <th>3</th>\n",
       "      <td>1.174507e+00</td>\n",
       "      <td>play_time</td>\n",
       "    </tr>\n",
       "    <tr>\n",
       "      <th>4</th>\n",
       "      <td>1.783131e+00</td>\n",
       "      <td>subscribers</td>\n",
       "    </tr>\n",
       "    <tr>\n",
       "      <th>5</th>\n",
       "      <td>1.515838e+06</td>\n",
       "      <td>upload_date_year</td>\n",
       "    </tr>\n",
       "    <tr>\n",
       "      <th>6</th>\n",
       "      <td>2.039118e+04</td>\n",
       "      <td>upload_date_month</td>\n",
       "    </tr>\n",
       "    <tr>\n",
       "      <th>7</th>\n",
       "      <td>1.919110e+02</td>\n",
       "      <td>upload_date_day</td>\n",
       "    </tr>\n",
       "    <tr>\n",
       "      <th>8</th>\n",
       "      <td>0.000000e+00</td>\n",
       "      <td>crawl_date_year</td>\n",
       "    </tr>\n",
       "    <tr>\n",
       "      <th>9</th>\n",
       "      <td>3.188287e+02</td>\n",
       "      <td>crawl_date_month</td>\n",
       "    </tr>\n",
       "    <tr>\n",
       "      <th>10</th>\n",
       "      <td>2.015436e+02</td>\n",
       "      <td>crawl_date_day</td>\n",
       "    </tr>\n",
       "    <tr>\n",
       "      <th>11</th>\n",
       "      <td>1.526417e+06</td>\n",
       "      <td>uploaded_days</td>\n",
       "    </tr>\n",
       "    <tr>\n",
       "      <th>12</th>\n",
       "      <td>1.249899e+00</td>\n",
       "      <td>title_length</td>\n",
       "    </tr>\n",
       "    <tr>\n",
       "      <th>13</th>\n",
       "      <td>1.304676e+00</td>\n",
       "      <td>tag_count</td>\n",
       "    </tr>\n",
       "    <tr>\n",
       "      <th>14</th>\n",
       "      <td>1.701668e+00</td>\n",
       "      <td>same_count</td>\n",
       "    </tr>\n",
       "    <tr>\n",
       "      <th>15</th>\n",
       "      <td>1.599142e+00</td>\n",
       "      <td>title_cosine_similarity</td>\n",
       "    </tr>\n",
       "    <tr>\n",
       "      <th>16</th>\n",
       "      <td>inf</td>\n",
       "      <td>game</td>\n",
       "    </tr>\n",
       "    <tr>\n",
       "      <th>17</th>\n",
       "      <td>inf</td>\n",
       "      <td>science</td>\n",
       "    </tr>\n",
       "    <tr>\n",
       "      <th>18</th>\n",
       "      <td>inf</td>\n",
       "      <td>education</td>\n",
       "    </tr>\n",
       "    <tr>\n",
       "      <th>19</th>\n",
       "      <td>inf</td>\n",
       "      <td>style</td>\n",
       "    </tr>\n",
       "    <tr>\n",
       "      <th>20</th>\n",
       "      <td>inf</td>\n",
       "      <td>news</td>\n",
       "    </tr>\n",
       "    <tr>\n",
       "      <th>21</th>\n",
       "      <td>inf</td>\n",
       "      <td>animal</td>\n",
       "    </tr>\n",
       "    <tr>\n",
       "      <th>22</th>\n",
       "      <td>inf</td>\n",
       "      <td>social</td>\n",
       "    </tr>\n",
       "    <tr>\n",
       "      <th>23</th>\n",
       "      <td>inf</td>\n",
       "      <td>sports</td>\n",
       "    </tr>\n",
       "    <tr>\n",
       "      <th>24</th>\n",
       "      <td>inf</td>\n",
       "      <td>entertainment</td>\n",
       "    </tr>\n",
       "    <tr>\n",
       "      <th>25</th>\n",
       "      <td>inf</td>\n",
       "      <td>journey</td>\n",
       "    </tr>\n",
       "    <tr>\n",
       "      <th>26</th>\n",
       "      <td>inf</td>\n",
       "      <td>movie</td>\n",
       "    </tr>\n",
       "    <tr>\n",
       "      <th>27</th>\n",
       "      <td>inf</td>\n",
       "      <td>music</td>\n",
       "    </tr>\n",
       "    <tr>\n",
       "      <th>28</th>\n",
       "      <td>inf</td>\n",
       "      <td>people</td>\n",
       "    </tr>\n",
       "    <tr>\n",
       "      <th>29</th>\n",
       "      <td>inf</td>\n",
       "      <td>automobile</td>\n",
       "    </tr>\n",
       "    <tr>\n",
       "      <th>30</th>\n",
       "      <td>inf</td>\n",
       "      <td>comic</td>\n",
       "    </tr>\n",
       "    <tr>\n",
       "      <th>31</th>\n",
       "      <td>inf</td>\n",
       "      <td>program</td>\n",
       "    </tr>\n",
       "    <tr>\n",
       "      <th>32</th>\n",
       "      <td>1.071780e+00</td>\n",
       "      <td>comment_cosine_similarity</td>\n",
       "    </tr>\n",
       "  </tbody>\n",
       "</table>\n",
       "</div>"
      ],
      "text/plain": [
       "      VIF Factor                   features\n",
       "0   2.574229e+00                   comments\n",
       "1   3.512606e+00                    dislike\n",
       "2   3.779505e+00                       like\n",
       "3   1.174507e+00                  play_time\n",
       "4   1.783131e+00                subscribers\n",
       "5   1.515838e+06           upload_date_year\n",
       "6   2.039118e+04          upload_date_month\n",
       "7   1.919110e+02            upload_date_day\n",
       "8   0.000000e+00            crawl_date_year\n",
       "9   3.188287e+02           crawl_date_month\n",
       "10  2.015436e+02             crawl_date_day\n",
       "11  1.526417e+06              uploaded_days\n",
       "12  1.249899e+00               title_length\n",
       "13  1.304676e+00                  tag_count\n",
       "14  1.701668e+00                 same_count\n",
       "15  1.599142e+00    title_cosine_similarity\n",
       "16           inf                       game\n",
       "17           inf                    science\n",
       "18           inf                  education\n",
       "19           inf                      style\n",
       "20           inf                       news\n",
       "21           inf                     animal\n",
       "22           inf                     social\n",
       "23           inf                     sports\n",
       "24           inf              entertainment\n",
       "25           inf                    journey\n",
       "26           inf                      movie\n",
       "27           inf                      music\n",
       "28           inf                     people\n",
       "29           inf                 automobile\n",
       "30           inf                      comic\n",
       "31           inf                    program\n",
       "32  1.071780e+00  comment_cosine_similarity"
      ]
     },
     "execution_count": 86,
     "metadata": {},
     "output_type": "execute_result"
    }
   ],
   "source": [
    "from statsmodels.stats.outliers_influence import variance_inflation_factor\n",
    "\n",
    "vif = pd.DataFrame()\n",
    "vif[\"VIF Factor\"] = [variance_inflation_factor(X_train.values, i) for i in range(X_train.shape[1])]\n",
    "vif[\"features\"] = X_train.columns\n",
    "vif"
   ]
  },
  {
   "cell_type": "code",
   "execution_count": 87,
   "metadata": {},
   "outputs": [],
   "source": [
    "feature_names.append('views')\n",
    "X_train = train[feature_names]"
   ]
  },
  {
   "cell_type": "markdown",
   "metadata": {},
   "source": [
    "### 선형관계 보기"
   ]
  },
  {
   "cell_type": "code",
   "execution_count": 89,
   "metadata": {},
   "outputs": [
    {
     "name": "stdout",
     "output_type": "stream",
     "text": [
      "                            OLS Regression Results                            \n",
      "==============================================================================\n",
      "Dep. Variable:                  views   R-squared:                       0.458\n",
      "Model:                            OLS   Adj. R-squared:                  0.458\n",
      "Method:                 Least Squares   F-statistic:                     1055.\n",
      "Date:                Fri, 14 Sep 2018   Prob (F-statistic):               0.00\n",
      "Time:                        23:49:05   Log-Likelihood:            -1.3808e+05\n",
      "No. Observations:               10001   AIC:                         2.762e+05\n",
      "Df Residuals:                    9992   BIC:                         2.762e+05\n",
      "Df Model:                           8                                         \n",
      "Covariance Type:            nonrobust                                         \n",
      "====================================================================================================\n",
      "                                       coef    std err          t      P>|t|      [0.025      0.975]\n",
      "----------------------------------------------------------------------------------------------------\n",
      "Intercept                         5.098e+04   2398.868     21.250      0.000    4.63e+04    5.57e+04\n",
      "scale(like)                       2.321e+05   3693.181     62.834      0.000    2.25e+05    2.39e+05\n",
      "scale(dislike)                   -1.971e+04   4007.511     -4.919      0.000   -2.76e+04   -1.19e+04\n",
      "scale(comments)                  -2842.5559   4606.508     -0.617      0.537   -1.19e+04    6187.127\n",
      "scale(play_time)                  3905.2092   2418.001      1.615      0.106    -834.560    8644.978\n",
      "scale(subscribers)                3088.0818   2802.953      1.102      0.271   -2406.272    8582.435\n",
      "scale(title_length)               1.021e+04   2473.466      4.126      0.000    5358.141    1.51e+04\n",
      "scale(title_cosine_similarity)   -4504.7511   2564.580     -1.757      0.079   -9531.844     522.342\n",
      "scale(comment_cosine_similarity)  1.001e+04   2454.455      4.077      0.000    5195.123    1.48e+04\n",
      "==============================================================================\n",
      "Omnibus:                    25827.914   Durbin-Watson:                   1.808\n",
      "Prob(Omnibus):                  0.000   Jarque-Bera (JB):       1049590768.374\n",
      "Skew:                          29.162   Prob(JB):                         0.00\n",
      "Kurtosis:                    1588.990   Cond. No.                         3.96\n",
      "==============================================================================\n",
      "\n",
      "Warnings:\n",
      "[1] Standard Errors assume that the covariance matrix of the errors is correctly specified.\n"
     ]
    }
   ],
   "source": [
    "import statsmodels.api as sm\n",
    "\n",
    "scale_model = sm.OLS.from_formula(\"views ~ \"\n",
    "                            \"scale(like) + scale(dislike) + scale(comments) + scale(play_time) + scale(subscribers) +\"\n",
    "                            'scale(title_length) + scale(title_cosine_similarity) + scale(comment_cosine_similarity)', data=X_train)\n",
    "result = scale_model.fit()\n",
    "print(result.summary())"
   ]
  },
  {
   "cell_type": "markdown",
   "metadata": {},
   "source": [
    "#### p_value 0.05이상 제거"
   ]
  },
  {
   "cell_type": "code",
   "execution_count": 92,
   "metadata": {},
   "outputs": [
    {
     "name": "stdout",
     "output_type": "stream",
     "text": [
      "                            OLS Regression Results                            \n",
      "==============================================================================\n",
      "Dep. Variable:                  views   R-squared:                       0.458\n",
      "Model:                            OLS   Adj. R-squared:                  0.457\n",
      "Method:                 Least Squares   F-statistic:                     2108.\n",
      "Date:                Fri, 14 Sep 2018   Prob (F-statistic):               0.00\n",
      "Time:                        23:52:09   Log-Likelihood:            -1.3808e+05\n",
      "No. Observations:               10001   AIC:                         2.762e+05\n",
      "Df Residuals:                    9996   BIC:                         2.762e+05\n",
      "Df Model:                           4                                         \n",
      "Covariance Type:            nonrobust                                         \n",
      "====================================================================================================\n",
      "                                       coef    std err          t      P>|t|      [0.025      0.975]\n",
      "----------------------------------------------------------------------------------------------------\n",
      "Intercept                         5.098e+04   2399.236     21.247      0.000    4.63e+04    5.57e+04\n",
      "scale(like)                       2.313e+05   2971.179     77.836      0.000    2.25e+05    2.37e+05\n",
      "scale(dislike)                    -2.11e+04   2969.654     -7.105      0.000   -2.69e+04   -1.53e+04\n",
      "scale(title_length)               1.003e+04   2412.303      4.156      0.000    5297.795    1.48e+04\n",
      "scale(comment_cosine_similarity)  9450.5792   2413.844      3.915      0.000    4718.960    1.42e+04\n",
      "==============================================================================\n",
      "Omnibus:                    25778.018   Durbin-Watson:                   1.805\n",
      "Prob(Omnibus):                  0.000   Jarque-Bera (JB):       1034216022.536\n",
      "Skew:                          29.018   Prob(JB):                         0.00\n",
      "Kurtosis:                    1577.326   Cond. No.                         1.97\n",
      "==============================================================================\n",
      "\n",
      "Warnings:\n",
      "[1] Standard Errors assume that the covariance matrix of the errors is correctly specified.\n"
     ]
    }
   ],
   "source": [
    "scale_model = sm.OLS.from_formula(\"views ~ \"\n",
    "                            \"scale(like) + scale(dislike) +\"\n",
    "                            'scale(title_length) + scale(comment_cosine_similarity)', data=X_train)\n",
    "result = scale_model.fit()\n",
    "print(result.summary())"
   ]
  },
  {
   "cell_type": "code",
   "execution_count": null,
   "metadata": {},
   "outputs": [],
   "source": []
  }
 ],
 "metadata": {
  "kernelspec": {
   "display_name": "Python 3",
   "language": "python",
   "name": "python3"
  },
  "language_info": {
   "codemirror_mode": {
    "name": "ipython",
    "version": 3
   },
   "file_extension": ".py",
   "mimetype": "text/x-python",
   "name": "python",
   "nbconvert_exporter": "python",
   "pygments_lexer": "ipython3",
   "version": "3.6.6"
  }
 },
 "nbformat": 4,
 "nbformat_minor": 2
}

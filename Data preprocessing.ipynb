{
 "cells": [
  {
   "cell_type": "code",
   "execution_count": 1,
   "metadata": {},
   "outputs": [],
   "source": [
    "import numpy as np\n",
    "import pandas as pd\n",
    "import matplotlib.pyplot as plt\n",
    "from tqdm import tqdm\n",
    "\n",
    "%matplotlib inline"
   ]
  },
  {
   "cell_type": "markdown",
   "metadata": {},
   "source": [
    "### Data Load"
   ]
  },
  {
   "cell_type": "code",
   "execution_count": 2,
   "metadata": {},
   "outputs": [
    {
     "name": "stdout",
     "output_type": "stream",
     "text": [
      "(8643, 13)\n"
     ]
    },
    {
     "data": {
      "text/html": [
       "<div>\n",
       "<style scoped>\n",
       "    .dataframe tbody tr th:only-of-type {\n",
       "        vertical-align: middle;\n",
       "    }\n",
       "\n",
       "    .dataframe tbody tr th {\n",
       "        vertical-align: top;\n",
       "    }\n",
       "\n",
       "    .dataframe thead th {\n",
       "        text-align: right;\n",
       "    }\n",
       "</style>\n",
       "<table border=\"1\" class=\"dataframe\">\n",
       "  <thead>\n",
       "    <tr style=\"text-align: right;\">\n",
       "      <th></th>\n",
       "      <th>category</th>\n",
       "      <th>comments</th>\n",
       "      <th>crawl_date</th>\n",
       "      <th>dislike</th>\n",
       "      <th>like</th>\n",
       "      <th>play_time</th>\n",
       "      <th>subscribers</th>\n",
       "      <th>tag</th>\n",
       "      <th>title</th>\n",
       "      <th>top_comment</th>\n",
       "      <th>upload_date</th>\n",
       "      <th>url</th>\n",
       "      <th>views</th>\n",
       "    </tr>\n",
       "  </thead>\n",
       "  <tbody>\n",
       "    <tr>\n",
       "      <th>0</th>\n",
       "      <td>게임</td>\n",
       "      <td>댓글 4,919개</td>\n",
       "      <td>2018.08.23</td>\n",
       "      <td>277</td>\n",
       "      <td>1.3만</td>\n",
       "      <td>0:14</td>\n",
       "      <td>151만</td>\n",
       "      <td>['마인크래프트', 'Minecraft', '샌드박스 네트워크', '샌드박스', '...</td>\n",
       "      <td>마크판 거지키우기 업그레이드 *크리에이터* 키우기! - 마인크래프트 - [잠뜰]</td>\n",
       "      <td>그동안 여러분이 잠뜰TV에서 가장 재밌게 본 영상은?!\\n댓글에 많이 남겨주시고 좋...</td>\n",
       "      <td>게시일: 2018. 8. 17.</td>\n",
       "      <td>https://www.youtube.com/watch?v=azoDJNPRU7s&amp;li...</td>\n",
       "      <td>조회수 579,949회</td>\n",
       "    </tr>\n",
       "    <tr>\n",
       "      <th>1</th>\n",
       "      <td>게임</td>\n",
       "      <td>댓글 4,964개</td>\n",
       "      <td>2018.08.23</td>\n",
       "      <td>278</td>\n",
       "      <td>8.7천</td>\n",
       "      <td>0:15</td>\n",
       "      <td>236만</td>\n",
       "      <td>['도티', '도티 마피아', '도티 머더', '마피아 머더', 'mafia', '...</td>\n",
       "      <td>직업 머더 \"곤충\"능력 특집 (부제: 파브르와 저승벌레 팡수)</td>\n",
       "      <td>다음 컨셉은 아이스 크림 어떨까요?예를 들면스크류바:술래가 한 대 치면 술래를 5초...</td>\n",
       "      <td>게시일: 2018. 8. 20.</td>\n",
       "      <td>https://www.youtube.com/watch?v=-BnUuHgUK5Q&amp;li...</td>\n",
       "      <td>조회수 451,676회</td>\n",
       "    </tr>\n",
       "    <tr>\n",
       "      <th>2</th>\n",
       "      <td>게임</td>\n",
       "      <td>댓글 5,262개</td>\n",
       "      <td>2018.08.23</td>\n",
       "      <td>561</td>\n",
       "      <td>2.3만</td>\n",
       "      <td>6:47</td>\n",
       "      <td>246만</td>\n",
       "      <td>['보겸', '보겸TV', 'bokyem', '도티', '롤', '오버워치', '원...</td>\n",
       "      <td>14번의”아디오스” ㄷ1지고싶으면 들이대봐 드루와</td>\n",
       "      <td>모듀 ㅂㅇㄹ ^_^* \\nㅋㅋㅋ 역대 최대킬 ㅋㅋㅋ\\n고마워 ^_^+ 가조쿠들 ㅋㅋ...</td>\n",
       "      <td>게시일: 2018. 8. 18.</td>\n",
       "      <td>https://www.youtube.com/watch?v=v0rDCGLcnpU&amp;li...</td>\n",
       "      <td>조회수 955,578회</td>\n",
       "    </tr>\n",
       "    <tr>\n",
       "      <th>3</th>\n",
       "      <td>게임</td>\n",
       "      <td>댓글 1,823개</td>\n",
       "      <td>2018.08.23</td>\n",
       "      <td>404</td>\n",
       "      <td>1.1천</td>\n",
       "      <td>13:00</td>\n",
       "      <td>23만</td>\n",
       "      <td>['게임', '위닝', '위닝일레븐', '축구게임', '말이야와 게임들 축구게임',...</td>\n",
       "      <td>그때 눈물의 축구 게임 복수전! 과연 미니 고수 말이야 이길 수 있을까? (꿀잼) ...</td>\n",
       "      <td>사랑하는 말랑이 여러분! 다음에는 말이야, 로기, 미니 축구팀을 댓글로 남겨주세요....</td>\n",
       "      <td>게시일: 2018. 8. 18.</td>\n",
       "      <td>https://www.youtube.com/watch?v=cK8Z2fz0iUI&amp;li...</td>\n",
       "      <td>조회수 191,211회</td>\n",
       "    </tr>\n",
       "    <tr>\n",
       "      <th>4</th>\n",
       "      <td>게임</td>\n",
       "      <td>댓글 1,159개</td>\n",
       "      <td>2018.08.23</td>\n",
       "      <td>36</td>\n",
       "      <td>3.4천</td>\n",
       "      <td>10:00</td>\n",
       "      <td>47만</td>\n",
       "      <td>['카베', '모바일베그', '배그M', '카카오베그', '연다', '배틀그라운드'...</td>\n",
       "      <td>초보자도 여포로 만들어 줄 수 있는 총 조합! 제가 알려드리죠 ㅋㅋ (배틀그라운드-...</td>\n",
       "      <td>크흠...저런 총이 있어도 난 여포가 아니라 쥐포가 될것 같은데...\\niny070...</td>\n",
       "      <td>게시일: 2018. 8. 21.</td>\n",
       "      <td>https://www.youtube.com/watch?v=bBbHq5sMqP0&amp;li...</td>\n",
       "      <td>조회수 162,253회</td>\n",
       "    </tr>\n",
       "  </tbody>\n",
       "</table>\n",
       "</div>"
      ],
      "text/plain": [
       "  category   comments  crawl_date dislike  like play_time subscribers  \\\n",
       "0       게임  댓글 4,919개  2018.08.23     277  1.3만      0:14        151만   \n",
       "1       게임  댓글 4,964개  2018.08.23     278  8.7천      0:15        236만   \n",
       "2       게임  댓글 5,262개  2018.08.23     561  2.3만      6:47        246만   \n",
       "3       게임  댓글 1,823개  2018.08.23     404  1.1천     13:00         23만   \n",
       "4       게임  댓글 1,159개  2018.08.23      36  3.4천     10:00         47만   \n",
       "\n",
       "                                                 tag  \\\n",
       "0  ['마인크래프트', 'Minecraft', '샌드박스 네트워크', '샌드박스', '...   \n",
       "1  ['도티', '도티 마피아', '도티 머더', '마피아 머더', 'mafia', '...   \n",
       "2  ['보겸', '보겸TV', 'bokyem', '도티', '롤', '오버워치', '원...   \n",
       "3  ['게임', '위닝', '위닝일레븐', '축구게임', '말이야와 게임들 축구게임',...   \n",
       "4  ['카베', '모바일베그', '배그M', '카카오베그', '연다', '배틀그라운드'...   \n",
       "\n",
       "                                               title  \\\n",
       "0       마크판 거지키우기 업그레이드 *크리에이터* 키우기! - 마인크래프트 - [잠뜰]   \n",
       "1                 직업 머더 \"곤충\"능력 특집 (부제: 파브르와 저승벌레 팡수)   \n",
       "2                        14번의”아디오스” ㄷ1지고싶으면 들이대봐 드루와   \n",
       "3  그때 눈물의 축구 게임 복수전! 과연 미니 고수 말이야 이길 수 있을까? (꿀잼) ...   \n",
       "4  초보자도 여포로 만들어 줄 수 있는 총 조합! 제가 알려드리죠 ㅋㅋ (배틀그라운드-...   \n",
       "\n",
       "                                         top_comment        upload_date  \\\n",
       "0  그동안 여러분이 잠뜰TV에서 가장 재밌게 본 영상은?!\\n댓글에 많이 남겨주시고 좋...  게시일: 2018. 8. 17.   \n",
       "1  다음 컨셉은 아이스 크림 어떨까요?예를 들면스크류바:술래가 한 대 치면 술래를 5초...  게시일: 2018. 8. 20.   \n",
       "2  모듀 ㅂㅇㄹ ^_^* \\nㅋㅋㅋ 역대 최대킬 ㅋㅋㅋ\\n고마워 ^_^+ 가조쿠들 ㅋㅋ...  게시일: 2018. 8. 18.   \n",
       "3  사랑하는 말랑이 여러분! 다음에는 말이야, 로기, 미니 축구팀을 댓글로 남겨주세요....  게시일: 2018. 8. 18.   \n",
       "4  크흠...저런 총이 있어도 난 여포가 아니라 쥐포가 될것 같은데...\\niny070...  게시일: 2018. 8. 21.   \n",
       "\n",
       "                                                 url         views  \n",
       "0  https://www.youtube.com/watch?v=azoDJNPRU7s&li...  조회수 579,949회  \n",
       "1  https://www.youtube.com/watch?v=-BnUuHgUK5Q&li...  조회수 451,676회  \n",
       "2  https://www.youtube.com/watch?v=v0rDCGLcnpU&li...  조회수 955,578회  \n",
       "3  https://www.youtube.com/watch?v=cK8Z2fz0iUI&li...  조회수 191,211회  \n",
       "4  https://www.youtube.com/watch?v=bBbHq5sMqP0&li...  조회수 162,253회  "
      ]
     },
     "execution_count": 2,
     "metadata": {},
     "output_type": "execute_result"
    }
   ],
   "source": [
    "train = pd.read_csv(\"train.csv\")\n",
    "\n",
    "print(train.shape)\n",
    "train.head()"
   ]
  },
  {
   "cell_type": "markdown",
   "metadata": {},
   "source": [
    "### Upload_date\n",
    "- 게시년, 월, 일"
   ]
  },
  {
   "cell_type": "code",
   "execution_count": 3,
   "metadata": {},
   "outputs": [],
   "source": [
    "ls=list(train[\"upload_date\"])"
   ]
  },
  {
   "cell_type": "code",
   "execution_count": 4,
   "metadata": {},
   "outputs": [
    {
     "name": "stdout",
     "output_type": "stream",
     "text": [
      "실시간 스트림: 14시간시간 전\n",
      "실시간 스트림: 10시간시간 전\n",
      "실시간 스트림: 12시간시간 전\n",
      "실시간 스트림: 21시간시간 전\n",
      "실시간 스트림: 18시간시간 전\n",
      "실시간 스트림: 21시간시간 전\n",
      "실시간 스트림: 17시간시간 전\n",
      "실시간 스트림: 15시간시간 전\n",
      "실시간 스트림: 18시간시간 전\n",
      "실시간 스트림: 3시간시간 전\n",
      "실시간 스트림: 22시간시간 전\n",
      "실시간 스트림: 23시간시간 전\n",
      "실시간 스트림: 14시간시간 전\n",
      "실시간 스트림: 11시간시간 전\n",
      "실시간 스트림: 10시간시간 전\n",
      "실시간 스트림: 10시간시간 전\n",
      "실시간 스트림: 22시간시간 전\n",
      "실시간 스트림: 11시간시간 전\n"
     ]
    },
    {
     "data": {
      "text/plain": [
       "[3270,\n",
       " 3325,\n",
       " 3338,\n",
       " 4971,\n",
       " 4977,\n",
       " 5000,\n",
       " 5017,\n",
       " 5022,\n",
       " 5381,\n",
       " 6774,\n",
       " 7496,\n",
       " 7518,\n",
       " 7530,\n",
       " 7539,\n",
       " 8291,\n",
       " 8292,\n",
       " 8551,\n",
       " 8583]"
      ]
     },
     "execution_count": 4,
     "metadata": {},
     "output_type": "execute_result"
    }
   ],
   "source": [
    "del_list = []\n",
    "for i, s in enumerate(ls):\n",
    "    if \"시간시간\" in s:\n",
    "        print(s)\n",
    "        del_list.append(i)\n",
    "del_list"
   ]
  },
  {
   "cell_type": "code",
   "execution_count": 5,
   "metadata": {},
   "outputs": [
    {
     "data": {
      "text/plain": [
       "(8625, 13)"
      ]
     },
     "execution_count": 5,
     "metadata": {},
     "output_type": "execute_result"
    }
   ],
   "source": [
    "train = train.drop(del_list)\n",
    "train.shape"
   ]
  },
  {
   "cell_type": "code",
   "execution_count": 6,
   "metadata": {},
   "outputs": [],
   "source": [
    "train = train.reset_index(drop=True)"
   ]
  },
  {
   "cell_type": "code",
   "execution_count": 7,
   "metadata": {},
   "outputs": [],
   "source": [
    "s = '게시일: 2014. 2. 26.'"
   ]
  },
  {
   "cell_type": "code",
   "execution_count": 8,
   "metadata": {},
   "outputs": [
    {
     "data": {
      "text/plain": [
       "['2014', '2', '26']"
      ]
     },
     "execution_count": 8,
     "metadata": {},
     "output_type": "execute_result"
    }
   ],
   "source": [
    "s[5:-1].replace(\" \",\"\").split(\".\")"
   ]
  },
  {
   "cell_type": "code",
   "execution_count": 9,
   "metadata": {},
   "outputs": [],
   "source": [
    "def upload_date_clear_year(date):\n",
    "    if len(date) > 20:\n",
    "        return int(date[14:-1].replace(\" \",\"\").split(\".\")[0])\n",
    "    else:\n",
    "        return int(date[5:-1].replace(\" \",\"\").split(\".\")[0])\n",
    "\n",
    "def upload_date_clear_month(date):\n",
    "    if len(date) > 20:\n",
    "        return int(date[14:-1].replace(\" \",\"\").split(\".\")[1])\n",
    "    else:\n",
    "        return int(date[5:-1].replace(\" \",\"\").split(\".\")[1])\n",
    "\n",
    "def upload_date_clear_day(date):\n",
    "    if len(date) > 20:\n",
    "        return int(date[14:-1].replace(\" \",\"\").split(\".\")[2])\n",
    "    else:\n",
    "        return int(date[5:-1].replace(\" \",\"\").split(\".\")[2])"
   ]
  },
  {
   "cell_type": "code",
   "execution_count": 10,
   "metadata": {},
   "outputs": [],
   "source": [
    "train[\"upload_date_year\"] = train[\"upload_date\"].apply(upload_date_clear_year)\n",
    "train[\"upload_date_month\"] = train[\"upload_date\"].apply(upload_date_clear_month)\n",
    "train[\"upload_date_day\"] = train[\"upload_date\"].apply(upload_date_clear_day)"
   ]
  },
  {
   "cell_type": "code",
   "execution_count": 11,
   "metadata": {
    "scrolled": true
   },
   "outputs": [
    {
     "data": {
      "text/html": [
       "<div>\n",
       "<style scoped>\n",
       "    .dataframe tbody tr th:only-of-type {\n",
       "        vertical-align: middle;\n",
       "    }\n",
       "\n",
       "    .dataframe tbody tr th {\n",
       "        vertical-align: top;\n",
       "    }\n",
       "\n",
       "    .dataframe thead th {\n",
       "        text-align: right;\n",
       "    }\n",
       "</style>\n",
       "<table border=\"1\" class=\"dataframe\">\n",
       "  <thead>\n",
       "    <tr style=\"text-align: right;\">\n",
       "      <th></th>\n",
       "      <th>upload_date_year</th>\n",
       "      <th>upload_date_month</th>\n",
       "      <th>upload_date_day</th>\n",
       "    </tr>\n",
       "  </thead>\n",
       "  <tbody>\n",
       "    <tr>\n",
       "      <th>0</th>\n",
       "      <td>2018</td>\n",
       "      <td>8</td>\n",
       "      <td>17</td>\n",
       "    </tr>\n",
       "    <tr>\n",
       "      <th>1</th>\n",
       "      <td>2018</td>\n",
       "      <td>8</td>\n",
       "      <td>20</td>\n",
       "    </tr>\n",
       "    <tr>\n",
       "      <th>2</th>\n",
       "      <td>2018</td>\n",
       "      <td>8</td>\n",
       "      <td>18</td>\n",
       "    </tr>\n",
       "    <tr>\n",
       "      <th>3</th>\n",
       "      <td>2018</td>\n",
       "      <td>8</td>\n",
       "      <td>18</td>\n",
       "    </tr>\n",
       "    <tr>\n",
       "      <th>4</th>\n",
       "      <td>2018</td>\n",
       "      <td>8</td>\n",
       "      <td>21</td>\n",
       "    </tr>\n",
       "  </tbody>\n",
       "</table>\n",
       "</div>"
      ],
      "text/plain": [
       "   upload_date_year  upload_date_month  upload_date_day\n",
       "0              2018                  8               17\n",
       "1              2018                  8               20\n",
       "2              2018                  8               18\n",
       "3              2018                  8               18\n",
       "4              2018                  8               21"
      ]
     },
     "execution_count": 11,
     "metadata": {},
     "output_type": "execute_result"
    }
   ],
   "source": [
    "train[[\"upload_date_year\", \"upload_date_month\", \"upload_date_day\"]].head()"
   ]
  },
  {
   "cell_type": "markdown",
   "metadata": {},
   "source": [
    "### Crawl_date"
   ]
  },
  {
   "cell_type": "code",
   "execution_count": 12,
   "metadata": {},
   "outputs": [],
   "source": [
    "s = '2014.2.26'"
   ]
  },
  {
   "cell_type": "code",
   "execution_count": 13,
   "metadata": {},
   "outputs": [
    {
     "data": {
      "text/plain": [
       "2014"
      ]
     },
     "execution_count": 13,
     "metadata": {},
     "output_type": "execute_result"
    }
   ],
   "source": [
    "int(s.split(\".\")[0])"
   ]
  },
  {
   "cell_type": "code",
   "execution_count": 14,
   "metadata": {},
   "outputs": [],
   "source": [
    "def crawl_data_clear_year(date):\n",
    "    return int(date.split(\".\")[0])\n",
    "\n",
    "def crawl_data_clear_month(date):\n",
    "    return int(date.split(\".\")[1])\n",
    "\n",
    "def crawl_data_clear_day(date):\n",
    "    return int(date.split(\".\")[2])"
   ]
  },
  {
   "cell_type": "code",
   "execution_count": 15,
   "metadata": {},
   "outputs": [],
   "source": [
    "train[\"crawl_date_year\"] = train[\"crawl_date\"].apply(crawl_data_clear_year)\n",
    "train[\"crawl_date_month\"] = train[\"crawl_date\"].apply(crawl_data_clear_month)\n",
    "train[\"crawl_date_day\"] = train[\"crawl_date\"].apply(crawl_data_clear_day)"
   ]
  },
  {
   "cell_type": "code",
   "execution_count": 16,
   "metadata": {
    "scrolled": true
   },
   "outputs": [
    {
     "data": {
      "text/html": [
       "<div>\n",
       "<style scoped>\n",
       "    .dataframe tbody tr th:only-of-type {\n",
       "        vertical-align: middle;\n",
       "    }\n",
       "\n",
       "    .dataframe tbody tr th {\n",
       "        vertical-align: top;\n",
       "    }\n",
       "\n",
       "    .dataframe thead th {\n",
       "        text-align: right;\n",
       "    }\n",
       "</style>\n",
       "<table border=\"1\" class=\"dataframe\">\n",
       "  <thead>\n",
       "    <tr style=\"text-align: right;\">\n",
       "      <th></th>\n",
       "      <th>crawl_date_year</th>\n",
       "      <th>crawl_date_month</th>\n",
       "      <th>crawl_date_day</th>\n",
       "    </tr>\n",
       "  </thead>\n",
       "  <tbody>\n",
       "    <tr>\n",
       "      <th>0</th>\n",
       "      <td>2018</td>\n",
       "      <td>8</td>\n",
       "      <td>23</td>\n",
       "    </tr>\n",
       "    <tr>\n",
       "      <th>1</th>\n",
       "      <td>2018</td>\n",
       "      <td>8</td>\n",
       "      <td>23</td>\n",
       "    </tr>\n",
       "    <tr>\n",
       "      <th>2</th>\n",
       "      <td>2018</td>\n",
       "      <td>8</td>\n",
       "      <td>23</td>\n",
       "    </tr>\n",
       "    <tr>\n",
       "      <th>3</th>\n",
       "      <td>2018</td>\n",
       "      <td>8</td>\n",
       "      <td>23</td>\n",
       "    </tr>\n",
       "    <tr>\n",
       "      <th>4</th>\n",
       "      <td>2018</td>\n",
       "      <td>8</td>\n",
       "      <td>23</td>\n",
       "    </tr>\n",
       "  </tbody>\n",
       "</table>\n",
       "</div>"
      ],
      "text/plain": [
       "   crawl_date_year  crawl_date_month  crawl_date_day\n",
       "0             2018                 8              23\n",
       "1             2018                 8              23\n",
       "2             2018                 8              23\n",
       "3             2018                 8              23\n",
       "4             2018                 8              23"
      ]
     },
     "execution_count": 16,
     "metadata": {},
     "output_type": "execute_result"
    }
   ],
   "source": [
    "train[[\"crawl_date_year\", \"crawl_date_month\", \"crawl_date_day\"]].head()"
   ]
  },
  {
   "cell_type": "markdown",
   "metadata": {},
   "source": [
    "### Uploaded days"
   ]
  },
  {
   "cell_type": "code",
   "execution_count": 17,
   "metadata": {},
   "outputs": [
    {
     "name": "stderr",
     "output_type": "stream",
     "text": [
      "100%|██████████| 8625/8625 [00:06<00:00, 1344.60it/s]\n"
     ]
    }
   ],
   "source": [
    "from datetime import date\n",
    "\n",
    "for idx in tqdm(range(0, len(train))):\n",
    "    d0 = date(train[\"upload_date_year\"].loc[idx], train[\"upload_date_month\"].loc[idx], train[\"upload_date_day\"].loc[idx])\n",
    "    d1 = date(train[\"crawl_date_year\"].loc[idx], train[\"crawl_date_month\"].loc[idx], train[\"crawl_date_day\"].loc[idx])\n",
    "    train.loc[idx, \"uploaded_days\"] = (d1 - d0).days + 1"
   ]
  },
  {
   "cell_type": "code",
   "execution_count": 18,
   "metadata": {},
   "outputs": [
    {
     "data": {
      "text/html": [
       "<div>\n",
       "<style scoped>\n",
       "    .dataframe tbody tr th:only-of-type {\n",
       "        vertical-align: middle;\n",
       "    }\n",
       "\n",
       "    .dataframe tbody tr th {\n",
       "        vertical-align: top;\n",
       "    }\n",
       "\n",
       "    .dataframe thead th {\n",
       "        text-align: right;\n",
       "    }\n",
       "</style>\n",
       "<table border=\"1\" class=\"dataframe\">\n",
       "  <thead>\n",
       "    <tr style=\"text-align: right;\">\n",
       "      <th></th>\n",
       "      <th>uploaded_days</th>\n",
       "    </tr>\n",
       "  </thead>\n",
       "  <tbody>\n",
       "    <tr>\n",
       "      <th>0</th>\n",
       "      <td>7.0</td>\n",
       "    </tr>\n",
       "    <tr>\n",
       "      <th>1</th>\n",
       "      <td>4.0</td>\n",
       "    </tr>\n",
       "    <tr>\n",
       "      <th>2</th>\n",
       "      <td>6.0</td>\n",
       "    </tr>\n",
       "    <tr>\n",
       "      <th>3</th>\n",
       "      <td>6.0</td>\n",
       "    </tr>\n",
       "    <tr>\n",
       "      <th>4</th>\n",
       "      <td>3.0</td>\n",
       "    </tr>\n",
       "  </tbody>\n",
       "</table>\n",
       "</div>"
      ],
      "text/plain": [
       "   uploaded_days\n",
       "0            7.0\n",
       "1            4.0\n",
       "2            6.0\n",
       "3            6.0\n",
       "4            3.0"
      ]
     },
     "execution_count": 18,
     "metadata": {},
     "output_type": "execute_result"
    }
   ],
   "source": [
    "train[[\"uploaded_days\"]].head()"
   ]
  },
  {
   "cell_type": "markdown",
   "metadata": {},
   "source": [
    "### Views\n",
    "- 조회수 ( 일평균 조회수를 target 값으로 사용 )\n",
    "- 예측할 target"
   ]
  },
  {
   "cell_type": "code",
   "execution_count": 19,
   "metadata": {},
   "outputs": [],
   "source": [
    "def views_clear(view):\n",
    "    if view == '조회수 없음':\n",
    "        return 0\n",
    "    else:\n",
    "        return int(view[4:-1].replace(\",\",\"\"))"
   ]
  },
  {
   "cell_type": "code",
   "execution_count": 20,
   "metadata": {},
   "outputs": [],
   "source": [
    "train[\"views\"] = train[\"views\"].apply(views_clear)"
   ]
  },
  {
   "cell_type": "code",
   "execution_count": 21,
   "metadata": {},
   "outputs": [
    {
     "data": {
      "text/plain": [
       "0    579949\n",
       "1    451676\n",
       "2    955578\n",
       "3    191211\n",
       "4    162253\n",
       "Name: views, dtype: int64"
      ]
     },
     "execution_count": 21,
     "metadata": {},
     "output_type": "execute_result"
    }
   ],
   "source": [
    "train[\"views\"].head()"
   ]
  },
  {
   "cell_type": "code",
   "execution_count": 22,
   "metadata": {},
   "outputs": [],
   "source": [
    "train[\"views\"] = train[\"views\"] / train[\"uploaded_days\"]"
   ]
  },
  {
   "cell_type": "code",
   "execution_count": 23,
   "metadata": {},
   "outputs": [
    {
     "data": {
      "text/plain": [
       "0     82849.857143\n",
       "1    112919.000000\n",
       "2    159263.000000\n",
       "3     31868.500000\n",
       "4     54084.333333\n",
       "Name: views, dtype: float64"
      ]
     },
     "execution_count": 23,
     "metadata": {},
     "output_type": "execute_result"
    }
   ],
   "source": [
    "train[\"views\"].head()"
   ]
  },
  {
   "cell_type": "markdown",
   "metadata": {},
   "source": [
    "### Dislike\n",
    "- '싫어요'라는 텍스트만 있는 경우 값은 url확인 결과 '0'인 경우이다."
   ]
  },
  {
   "cell_type": "code",
   "execution_count": 24,
   "metadata": {
    "scrolled": true
   },
   "outputs": [
    {
     "data": {
      "text/html": [
       "<div>\n",
       "<style scoped>\n",
       "    .dataframe tbody tr th:only-of-type {\n",
       "        vertical-align: middle;\n",
       "    }\n",
       "\n",
       "    .dataframe tbody tr th {\n",
       "        vertical-align: top;\n",
       "    }\n",
       "\n",
       "    .dataframe thead th {\n",
       "        text-align: right;\n",
       "    }\n",
       "</style>\n",
       "<table border=\"1\" class=\"dataframe\">\n",
       "  <thead>\n",
       "    <tr style=\"text-align: right;\">\n",
       "      <th></th>\n",
       "      <th>category</th>\n",
       "      <th>comments</th>\n",
       "      <th>crawl_date</th>\n",
       "      <th>dislike</th>\n",
       "      <th>like</th>\n",
       "      <th>play_time</th>\n",
       "      <th>subscribers</th>\n",
       "      <th>tag</th>\n",
       "      <th>title</th>\n",
       "      <th>top_comment</th>\n",
       "      <th>upload_date</th>\n",
       "      <th>url</th>\n",
       "      <th>views</th>\n",
       "      <th>upload_date_year</th>\n",
       "      <th>upload_date_month</th>\n",
       "      <th>upload_date_day</th>\n",
       "      <th>crawl_date_year</th>\n",
       "      <th>crawl_date_month</th>\n",
       "      <th>crawl_date_day</th>\n",
       "      <th>uploaded_days</th>\n",
       "    </tr>\n",
       "  </thead>\n",
       "  <tbody>\n",
       "    <tr>\n",
       "      <th>50</th>\n",
       "      <td>엔터테인먼트</td>\n",
       "      <td>0</td>\n",
       "      <td>2018.08.23</td>\n",
       "      <td>싫어요</td>\n",
       "      <td>좋아요</td>\n",
       "      <td>6:06</td>\n",
       "      <td>0</td>\n",
       "      <td>[]</td>\n",
       "      <td>사람들 멘붕 시키려고 돌진했다가 캐리해버린 영상ㅋㅋㅋㅋㅋ | 좀비고 | 좀비고등학교...</td>\n",
       "      <td>NaN</td>\n",
       "      <td>게시일: 2018. 8. 15.</td>\n",
       "      <td>https://www.youtube.com/watch?v=35yrf7vZmIk&amp;in...</td>\n",
       "      <td>13997.222222</td>\n",
       "      <td>2018</td>\n",
       "      <td>8</td>\n",
       "      <td>15</td>\n",
       "      <td>2018</td>\n",
       "      <td>8</td>\n",
       "      <td>23</td>\n",
       "      <td>9.0</td>\n",
       "    </tr>\n",
       "  </tbody>\n",
       "</table>\n",
       "</div>"
      ],
      "text/plain": [
       "   category comments  crawl_date dislike like play_time subscribers tag  \\\n",
       "50   엔터테인먼트        0  2018.08.23     싫어요  좋아요      6:06           0  []   \n",
       "\n",
       "                                                title top_comment  \\\n",
       "50  사람들 멘붕 시키려고 돌진했다가 캐리해버린 영상ㅋㅋㅋㅋㅋ | 좀비고 | 좀비고등학교...         NaN   \n",
       "\n",
       "          upload_date                                                url  \\\n",
       "50  게시일: 2018. 8. 15.  https://www.youtube.com/watch?v=35yrf7vZmIk&in...   \n",
       "\n",
       "           views  upload_date_year  upload_date_month  upload_date_day  \\\n",
       "50  13997.222222              2018                  8               15   \n",
       "\n",
       "    crawl_date_year  crawl_date_month  crawl_date_day  uploaded_days  \n",
       "50             2018                 8              23            9.0  "
      ]
     },
     "execution_count": 24,
     "metadata": {},
     "output_type": "execute_result"
    }
   ],
   "source": [
    "train[train[\"dislike\"]=='싫어요'].head(1)"
   ]
  },
  {
   "cell_type": "code",
   "execution_count": 25,
   "metadata": {},
   "outputs": [],
   "source": [
    "train.loc[train[\"dislike\"]=='싫어요', 'dislike'] = '0'"
   ]
  },
  {
   "cell_type": "code",
   "execution_count": 26,
   "metadata": {},
   "outputs": [
    {
     "data": {
      "text/html": [
       "<div>\n",
       "<style scoped>\n",
       "    .dataframe tbody tr th:only-of-type {\n",
       "        vertical-align: middle;\n",
       "    }\n",
       "\n",
       "    .dataframe tbody tr th {\n",
       "        vertical-align: top;\n",
       "    }\n",
       "\n",
       "    .dataframe thead th {\n",
       "        text-align: right;\n",
       "    }\n",
       "</style>\n",
       "<table border=\"1\" class=\"dataframe\">\n",
       "  <thead>\n",
       "    <tr style=\"text-align: right;\">\n",
       "      <th></th>\n",
       "      <th>category</th>\n",
       "      <th>comments</th>\n",
       "      <th>crawl_date</th>\n",
       "      <th>dislike</th>\n",
       "      <th>like</th>\n",
       "      <th>play_time</th>\n",
       "      <th>subscribers</th>\n",
       "      <th>tag</th>\n",
       "      <th>title</th>\n",
       "      <th>top_comment</th>\n",
       "      <th>upload_date</th>\n",
       "      <th>url</th>\n",
       "      <th>views</th>\n",
       "      <th>upload_date_year</th>\n",
       "      <th>upload_date_month</th>\n",
       "      <th>upload_date_day</th>\n",
       "      <th>crawl_date_year</th>\n",
       "      <th>crawl_date_month</th>\n",
       "      <th>crawl_date_day</th>\n",
       "      <th>uploaded_days</th>\n",
       "    </tr>\n",
       "  </thead>\n",
       "  <tbody>\n",
       "  </tbody>\n",
       "</table>\n",
       "</div>"
      ],
      "text/plain": [
       "Empty DataFrame\n",
       "Columns: [category, comments, crawl_date, dislike, like, play_time, subscribers, tag, title, top_comment, upload_date, url, views, upload_date_year, upload_date_month, upload_date_day, crawl_date_year, crawl_date_month, crawl_date_day, uploaded_days]\n",
       "Index: []"
      ]
     },
     "execution_count": 26,
     "metadata": {},
     "output_type": "execute_result"
    }
   ],
   "source": [
    "train[train[\"dislike\"]=='싫어요'].head(1)"
   ]
  },
  {
   "cell_type": "code",
   "execution_count": 27,
   "metadata": {},
   "outputs": [],
   "source": [
    "def hand_clear(s):\n",
    "    '''\n",
    "    천, 만으로 표시된 값 숫자로 변경\n",
    "    '''\n",
    "    if s[-1] == '천':\n",
    "        return float(s[:-1]) * 1000\n",
    "    elif s[-1] == '만':\n",
    "        return float(s[:-1]) * 10000\n",
    "    else:\n",
    "        return float(s)"
   ]
  },
  {
   "cell_type": "code",
   "execution_count": 28,
   "metadata": {},
   "outputs": [],
   "source": [
    "train[\"dislike\"] = train[\"dislike\"].apply(hand_clear)"
   ]
  },
  {
   "cell_type": "markdown",
   "metadata": {},
   "source": [
    "### Like\n",
    "- '좋아요'라는 텍스트만 있는 경우 값은 url확인 결과 '0'인 경우이다."
   ]
  },
  {
   "cell_type": "code",
   "execution_count": 29,
   "metadata": {},
   "outputs": [
    {
     "data": {
      "text/html": [
       "<div>\n",
       "<style scoped>\n",
       "    .dataframe tbody tr th:only-of-type {\n",
       "        vertical-align: middle;\n",
       "    }\n",
       "\n",
       "    .dataframe tbody tr th {\n",
       "        vertical-align: top;\n",
       "    }\n",
       "\n",
       "    .dataframe thead th {\n",
       "        text-align: right;\n",
       "    }\n",
       "</style>\n",
       "<table border=\"1\" class=\"dataframe\">\n",
       "  <thead>\n",
       "    <tr style=\"text-align: right;\">\n",
       "      <th></th>\n",
       "      <th>category</th>\n",
       "      <th>comments</th>\n",
       "      <th>crawl_date</th>\n",
       "      <th>dislike</th>\n",
       "      <th>like</th>\n",
       "      <th>play_time</th>\n",
       "      <th>subscribers</th>\n",
       "      <th>tag</th>\n",
       "      <th>title</th>\n",
       "      <th>top_comment</th>\n",
       "      <th>upload_date</th>\n",
       "      <th>url</th>\n",
       "      <th>views</th>\n",
       "      <th>upload_date_year</th>\n",
       "      <th>upload_date_month</th>\n",
       "      <th>upload_date_day</th>\n",
       "      <th>crawl_date_year</th>\n",
       "      <th>crawl_date_month</th>\n",
       "      <th>crawl_date_day</th>\n",
       "      <th>uploaded_days</th>\n",
       "    </tr>\n",
       "  </thead>\n",
       "  <tbody>\n",
       "    <tr>\n",
       "      <th>50</th>\n",
       "      <td>엔터테인먼트</td>\n",
       "      <td>0</td>\n",
       "      <td>2018.08.23</td>\n",
       "      <td>0.0</td>\n",
       "      <td>좋아요</td>\n",
       "      <td>6:06</td>\n",
       "      <td>0</td>\n",
       "      <td>[]</td>\n",
       "      <td>사람들 멘붕 시키려고 돌진했다가 캐리해버린 영상ㅋㅋㅋㅋㅋ | 좀비고 | 좀비고등학교...</td>\n",
       "      <td>NaN</td>\n",
       "      <td>게시일: 2018. 8. 15.</td>\n",
       "      <td>https://www.youtube.com/watch?v=35yrf7vZmIk&amp;in...</td>\n",
       "      <td>13997.222222</td>\n",
       "      <td>2018</td>\n",
       "      <td>8</td>\n",
       "      <td>15</td>\n",
       "      <td>2018</td>\n",
       "      <td>8</td>\n",
       "      <td>23</td>\n",
       "      <td>9.0</td>\n",
       "    </tr>\n",
       "  </tbody>\n",
       "</table>\n",
       "</div>"
      ],
      "text/plain": [
       "   category comments  crawl_date  dislike like play_time subscribers tag  \\\n",
       "50   엔터테인먼트        0  2018.08.23      0.0  좋아요      6:06           0  []   \n",
       "\n",
       "                                                title top_comment  \\\n",
       "50  사람들 멘붕 시키려고 돌진했다가 캐리해버린 영상ㅋㅋㅋㅋㅋ | 좀비고 | 좀비고등학교...         NaN   \n",
       "\n",
       "          upload_date                                                url  \\\n",
       "50  게시일: 2018. 8. 15.  https://www.youtube.com/watch?v=35yrf7vZmIk&in...   \n",
       "\n",
       "           views  upload_date_year  upload_date_month  upload_date_day  \\\n",
       "50  13997.222222              2018                  8               15   \n",
       "\n",
       "    crawl_date_year  crawl_date_month  crawl_date_day  uploaded_days  \n",
       "50             2018                 8              23            9.0  "
      ]
     },
     "execution_count": 29,
     "metadata": {},
     "output_type": "execute_result"
    }
   ],
   "source": [
    "train[train[\"like\"]=='좋아요'].head(1)"
   ]
  },
  {
   "cell_type": "code",
   "execution_count": 30,
   "metadata": {},
   "outputs": [],
   "source": [
    "train.loc[train[\"like\"]=='좋아요', 'like'] = '0'"
   ]
  },
  {
   "cell_type": "code",
   "execution_count": 31,
   "metadata": {},
   "outputs": [
    {
     "data": {
      "text/html": [
       "<div>\n",
       "<style scoped>\n",
       "    .dataframe tbody tr th:only-of-type {\n",
       "        vertical-align: middle;\n",
       "    }\n",
       "\n",
       "    .dataframe tbody tr th {\n",
       "        vertical-align: top;\n",
       "    }\n",
       "\n",
       "    .dataframe thead th {\n",
       "        text-align: right;\n",
       "    }\n",
       "</style>\n",
       "<table border=\"1\" class=\"dataframe\">\n",
       "  <thead>\n",
       "    <tr style=\"text-align: right;\">\n",
       "      <th></th>\n",
       "      <th>category</th>\n",
       "      <th>comments</th>\n",
       "      <th>crawl_date</th>\n",
       "      <th>dislike</th>\n",
       "      <th>like</th>\n",
       "      <th>play_time</th>\n",
       "      <th>subscribers</th>\n",
       "      <th>tag</th>\n",
       "      <th>title</th>\n",
       "      <th>top_comment</th>\n",
       "      <th>upload_date</th>\n",
       "      <th>url</th>\n",
       "      <th>views</th>\n",
       "      <th>upload_date_year</th>\n",
       "      <th>upload_date_month</th>\n",
       "      <th>upload_date_day</th>\n",
       "      <th>crawl_date_year</th>\n",
       "      <th>crawl_date_month</th>\n",
       "      <th>crawl_date_day</th>\n",
       "      <th>uploaded_days</th>\n",
       "    </tr>\n",
       "  </thead>\n",
       "  <tbody>\n",
       "  </tbody>\n",
       "</table>\n",
       "</div>"
      ],
      "text/plain": [
       "Empty DataFrame\n",
       "Columns: [category, comments, crawl_date, dislike, like, play_time, subscribers, tag, title, top_comment, upload_date, url, views, upload_date_year, upload_date_month, upload_date_day, crawl_date_year, crawl_date_month, crawl_date_day, uploaded_days]\n",
       "Index: []"
      ]
     },
     "execution_count": 31,
     "metadata": {},
     "output_type": "execute_result"
    }
   ],
   "source": [
    "train[train[\"like\"]=='좋아요'].head(1)"
   ]
  },
  {
   "cell_type": "code",
   "execution_count": 32,
   "metadata": {},
   "outputs": [],
   "source": [
    "train[\"like\"] = train[\"like\"].apply(hand_clear)"
   ]
  },
  {
   "cell_type": "code",
   "execution_count": 33,
   "metadata": {},
   "outputs": [
    {
     "data": {
      "text/html": [
       "<div>\n",
       "<style scoped>\n",
       "    .dataframe tbody tr th:only-of-type {\n",
       "        vertical-align: middle;\n",
       "    }\n",
       "\n",
       "    .dataframe tbody tr th {\n",
       "        vertical-align: top;\n",
       "    }\n",
       "\n",
       "    .dataframe thead th {\n",
       "        text-align: right;\n",
       "    }\n",
       "</style>\n",
       "<table border=\"1\" class=\"dataframe\">\n",
       "  <thead>\n",
       "    <tr style=\"text-align: right;\">\n",
       "      <th></th>\n",
       "      <th>dislike</th>\n",
       "      <th>like</th>\n",
       "    </tr>\n",
       "  </thead>\n",
       "  <tbody>\n",
       "    <tr>\n",
       "      <th>0</th>\n",
       "      <td>277.0</td>\n",
       "      <td>13000.0</td>\n",
       "    </tr>\n",
       "    <tr>\n",
       "      <th>1</th>\n",
       "      <td>278.0</td>\n",
       "      <td>8700.0</td>\n",
       "    </tr>\n",
       "    <tr>\n",
       "      <th>2</th>\n",
       "      <td>561.0</td>\n",
       "      <td>23000.0</td>\n",
       "    </tr>\n",
       "    <tr>\n",
       "      <th>3</th>\n",
       "      <td>404.0</td>\n",
       "      <td>1100.0</td>\n",
       "    </tr>\n",
       "    <tr>\n",
       "      <th>4</th>\n",
       "      <td>36.0</td>\n",
       "      <td>3400.0</td>\n",
       "    </tr>\n",
       "  </tbody>\n",
       "</table>\n",
       "</div>"
      ],
      "text/plain": [
       "   dislike     like\n",
       "0    277.0  13000.0\n",
       "1    278.0   8700.0\n",
       "2    561.0  23000.0\n",
       "3    404.0   1100.0\n",
       "4     36.0   3400.0"
      ]
     },
     "execution_count": 33,
     "metadata": {},
     "output_type": "execute_result"
    }
   ],
   "source": [
    "train[[\"dislike\", \"like\"]].head()"
   ]
  },
  {
   "cell_type": "markdown",
   "metadata": {},
   "source": [
    "### Comments\n",
    "- 댓글 갯수"
   ]
  },
  {
   "cell_type": "code",
   "execution_count": 34,
   "metadata": {},
   "outputs": [],
   "source": [
    "def comments_clear(comment):\n",
    "    if comment[-1] == \"개\":\n",
    "        return int(comment[3:-1].replace(\",\",\"\"))\n",
    "    else:\n",
    "        return int(comment)"
   ]
  },
  {
   "cell_type": "code",
   "execution_count": 35,
   "metadata": {},
   "outputs": [],
   "source": [
    "train[\"comments\"] = train[\"comments\"].apply(comments_clear)"
   ]
  },
  {
   "cell_type": "code",
   "execution_count": 36,
   "metadata": {},
   "outputs": [
    {
     "data": {
      "text/plain": [
       "0    4919\n",
       "1    4964\n",
       "2    5262\n",
       "3    1823\n",
       "4    1159\n",
       "Name: comments, dtype: int64"
      ]
     },
     "execution_count": 36,
     "metadata": {},
     "output_type": "execute_result"
    }
   ],
   "source": [
    "train[\"comments\"].head()"
   ]
  },
  {
   "cell_type": "markdown",
   "metadata": {},
   "source": [
    "### Subscribers\n",
    "- 구독자 수"
   ]
  },
  {
   "cell_type": "code",
   "execution_count": 37,
   "metadata": {},
   "outputs": [],
   "source": [
    "def subscriber_clear(s):\n",
    "    '''\n",
    "    천, 만으로 표시된 값 숫자로 변경\n",
    "    '''\n",
    "    if s[-1] == '천':\n",
    "        return float(s[:-1]) * 1000\n",
    "    elif s[-1] == '만':\n",
    "        return float(s[:-1]) * 10000\n",
    "    else:\n",
    "        return float(s)"
   ]
  },
  {
   "cell_type": "code",
   "execution_count": 38,
   "metadata": {},
   "outputs": [],
   "source": [
    "train[\"subscribers\"] = train[\"subscribers\"].apply(subscriber_clear)"
   ]
  },
  {
   "cell_type": "code",
   "execution_count": 39,
   "metadata": {},
   "outputs": [
    {
     "data": {
      "text/plain": [
       "0    1510000.0\n",
       "1    2360000.0\n",
       "2    2460000.0\n",
       "3     230000.0\n",
       "4     470000.0\n",
       "Name: subscribers, dtype: float64"
      ]
     },
     "execution_count": 39,
     "metadata": {},
     "output_type": "execute_result"
    }
   ],
   "source": [
    "train[\"subscribers\"].head()"
   ]
  },
  {
   "cell_type": "markdown",
   "metadata": {},
   "source": [
    "### Play time"
   ]
  },
  {
   "cell_type": "code",
   "execution_count": 40,
   "metadata": {},
   "outputs": [],
   "source": [
    "def convert_time(t):\n",
    "    if type(t) is float:\n",
    "        return t\n",
    "    else:\n",
    "        return int(t.split(\":\")[0]) * 60 + int(t.split(\":\")[1])"
   ]
  },
  {
   "cell_type": "code",
   "execution_count": 41,
   "metadata": {},
   "outputs": [],
   "source": [
    "train[\"play_time\"] = train[\"play_time\"].apply(convert_time)"
   ]
  },
  {
   "cell_type": "code",
   "execution_count": 42,
   "metadata": {},
   "outputs": [],
   "source": [
    "train.loc[train[\"play_time\"].isna(), \"play_time\"] = np.mean(train[\"play_time\"])"
   ]
  },
  {
   "cell_type": "code",
   "execution_count": 43,
   "metadata": {},
   "outputs": [
    {
     "data": {
      "text/plain": [
       "0     14.0\n",
       "1     15.0\n",
       "2    407.0\n",
       "3    780.0\n",
       "4    600.0\n",
       "Name: play_time, dtype: float64"
      ]
     },
     "execution_count": 43,
     "metadata": {},
     "output_type": "execute_result"
    }
   ],
   "source": [
    "train[\"play_time\"].head()"
   ]
  },
  {
   "cell_type": "markdown",
   "metadata": {},
   "source": [
    "### Length of title"
   ]
  },
  {
   "cell_type": "code",
   "execution_count": 44,
   "metadata": {},
   "outputs": [],
   "source": [
    "def title_length(s):\n",
    "    return len(s)"
   ]
  },
  {
   "cell_type": "code",
   "execution_count": 45,
   "metadata": {},
   "outputs": [],
   "source": [
    "train[\"title_length\"] = train[\"title\"].apply(title_length)"
   ]
  },
  {
   "cell_type": "code",
   "execution_count": 46,
   "metadata": {},
   "outputs": [
    {
     "data": {
      "text/plain": [
       "0    44\n",
       "1    34\n",
       "2    27\n",
       "3    96\n",
       "4    56\n",
       "Name: title_length, dtype: int64"
      ]
     },
     "execution_count": 46,
     "metadata": {},
     "output_type": "execute_result"
    }
   ],
   "source": [
    "train[\"title_length\"].head()"
   ]
  },
  {
   "cell_type": "markdown",
   "metadata": {},
   "source": [
    "### Number of Tag"
   ]
  },
  {
   "cell_type": "code",
   "execution_count": 47,
   "metadata": {},
   "outputs": [],
   "source": [
    "import ast\n",
    "\n",
    "def tag_list(x):\n",
    "    return ast.literal_eval(x)\n",
    "\n",
    "def tag_count(x):\n",
    "    return len(x)"
   ]
  },
  {
   "cell_type": "code",
   "execution_count": 48,
   "metadata": {},
   "outputs": [],
   "source": [
    "train[\"tag\"] = train[\"tag\"].apply(tag_list)"
   ]
  },
  {
   "cell_type": "code",
   "execution_count": 49,
   "metadata": {},
   "outputs": [],
   "source": [
    "train[\"tag_count\"] = train[\"tag\"].apply(tag_count)"
   ]
  },
  {
   "cell_type": "code",
   "execution_count": 50,
   "metadata": {},
   "outputs": [
    {
     "data": {
      "text/html": [
       "<div>\n",
       "<style scoped>\n",
       "    .dataframe tbody tr th:only-of-type {\n",
       "        vertical-align: middle;\n",
       "    }\n",
       "\n",
       "    .dataframe tbody tr th {\n",
       "        vertical-align: top;\n",
       "    }\n",
       "\n",
       "    .dataframe thead th {\n",
       "        text-align: right;\n",
       "    }\n",
       "</style>\n",
       "<table border=\"1\" class=\"dataframe\">\n",
       "  <thead>\n",
       "    <tr style=\"text-align: right;\">\n",
       "      <th></th>\n",
       "      <th>tag</th>\n",
       "      <th>tag_count</th>\n",
       "    </tr>\n",
       "  </thead>\n",
       "  <tbody>\n",
       "    <tr>\n",
       "      <th>0</th>\n",
       "      <td>[마인크래프트, Minecraft, 샌드박스 네트워크, 샌드박스, 샌박, Sandb...</td>\n",
       "      <td>47</td>\n",
       "    </tr>\n",
       "    <tr>\n",
       "      <th>1</th>\n",
       "      <td>[도티, 도티 마피아, 도티 머더, 마피아 머더, mafia, 마인크래프트 머더, ...</td>\n",
       "      <td>32</td>\n",
       "    </tr>\n",
       "    <tr>\n",
       "      <th>2</th>\n",
       "      <td>[보겸, 보겸TV, bokyem, 도티, 롤, 오버워치, 원피스, 리그오브레전드, ...</td>\n",
       "      <td>19</td>\n",
       "    </tr>\n",
       "    <tr>\n",
       "      <th>3</th>\n",
       "      <td>[게임, 위닝, 위닝일레븐, 축구게임, 말이야와 게임들 축구게임, 말이야와 게임들 ...</td>\n",
       "      <td>50</td>\n",
       "    </tr>\n",
       "    <tr>\n",
       "      <th>4</th>\n",
       "      <td>[카베, 모바일베그, 배그M, 카카오베그, 연다, 배틀그라운드, PSS, APL, ...</td>\n",
       "      <td>56</td>\n",
       "    </tr>\n",
       "  </tbody>\n",
       "</table>\n",
       "</div>"
      ],
      "text/plain": [
       "                                                 tag  tag_count\n",
       "0  [마인크래프트, Minecraft, 샌드박스 네트워크, 샌드박스, 샌박, Sandb...         47\n",
       "1  [도티, 도티 마피아, 도티 머더, 마피아 머더, mafia, 마인크래프트 머더, ...         32\n",
       "2  [보겸, 보겸TV, bokyem, 도티, 롤, 오버워치, 원피스, 리그오브레전드, ...         19\n",
       "3  [게임, 위닝, 위닝일레븐, 축구게임, 말이야와 게임들 축구게임, 말이야와 게임들 ...         50\n",
       "4  [카베, 모바일베그, 배그M, 카카오베그, 연다, 배틀그라운드, PSS, APL, ...         56"
      ]
     },
     "execution_count": 50,
     "metadata": {},
     "output_type": "execute_result"
    }
   ],
   "source": [
    "train[[\"tag\", \"tag_count\"]].head()"
   ]
  },
  {
   "cell_type": "markdown",
   "metadata": {},
   "source": [
    "### Testing"
   ]
  },
  {
   "cell_type": "code",
   "execution_count": 51,
   "metadata": {},
   "outputs": [],
   "source": [
    "X = train[[\"dislike\", \"like\", 'comments', 'play_time', 'subscribers', \"tag_count\", \"uploaded_days\"]]\n",
    "y = train[\"views\"]"
   ]
  },
  {
   "cell_type": "code",
   "execution_count": 52,
   "metadata": {},
   "outputs": [],
   "source": [
    "from sklearn.model_selection import train_test_split\n",
    "\n",
    "X_train, X_test, y_train, y_test = train_test_split(X, y, test_size=0.33, random_state=8)"
   ]
  },
  {
   "cell_type": "code",
   "execution_count": 53,
   "metadata": {},
   "outputs": [
    {
     "name": "stdout",
     "output_type": "stream",
     "text": [
      "                            OLS Regression Results                            \n",
      "==============================================================================\n",
      "Dep. Variable:                  views   R-squared:                       0.272\n",
      "Model:                            OLS   Adj. R-squared:                  0.271\n",
      "Method:                 Least Squares   F-statistic:                     308.5\n",
      "Date:                Thu, 30 Aug 2018   Prob (F-statistic):               0.00\n",
      "Time:                        23:32:14   Log-Likelihood:                -78857.\n",
      "No. Observations:                5778   AIC:                         1.577e+05\n",
      "Df Residuals:                    5770   BIC:                         1.578e+05\n",
      "Df Model:                           7                                         \n",
      "Covariance Type:            nonrobust                                         \n",
      "=================================================================================\n",
      "                    coef    std err          t      P>|t|      [0.025      0.975]\n",
      "---------------------------------------------------------------------------------\n",
      "const          3.103e+04   5107.238      6.075      0.000     2.1e+04     4.1e+04\n",
      "dislike          -4.6635      0.189    -24.640      0.000      -5.035      -4.293\n",
      "like              0.5366      0.020     26.937      0.000       0.498       0.576\n",
      "comments          1.2287      0.090     13.627      0.000       1.052       1.405\n",
      "play_time         7.7659      5.058      1.535      0.125      -2.151      17.682\n",
      "subscribers      -0.0030      0.001     -3.507      0.000      -0.005      -0.001\n",
      "tag_count      -440.2223    164.021     -2.684      0.007    -761.764    -118.680\n",
      "uploaded_days   -28.0785      3.753     -7.482      0.000     -35.435     -20.722\n",
      "==============================================================================\n",
      "Omnibus:                    17585.291   Durbin-Watson:                   2.002\n",
      "Prob(Omnibus):                  0.000   Jarque-Bera (JB):       1975733792.055\n",
      "Skew:                          44.883   Prob(JB):                         0.00\n",
      "Kurtosis:                    2866.306   Cond. No.                     7.40e+06\n",
      "==============================================================================\n",
      "\n",
      "Warnings:\n",
      "[1] Standard Errors assume that the covariance matrix of the errors is correctly specified.\n",
      "[2] The condition number is large, 7.4e+06. This might indicate that there are\n",
      "strong multicollinearity or other numerical problems.\n"
     ]
    }
   ],
   "source": [
    "import statsmodels.api as sm\n",
    "\n",
    "X_train = sm.add_constant(X_train)\n",
    "model = sm.OLS(y_train ,X_train)\n",
    "results = model.fit()\n",
    "\n",
    "print(results.summary())"
   ]
  },
  {
   "cell_type": "code",
   "execution_count": 54,
   "metadata": {},
   "outputs": [],
   "source": [
    "X = train[[\"views\", \"dislike\", \"like\", 'comments', 'play_time', 'subscribers', \"tag_count\", \"uploaded_days\"]]"
   ]
  },
  {
   "cell_type": "code",
   "execution_count": 55,
   "metadata": {},
   "outputs": [
    {
     "name": "stdout",
     "output_type": "stream",
     "text": [
      "                            OLS Regression Results                            \n",
      "==============================================================================\n",
      "Dep. Variable:                  views   R-squared:                       0.231\n",
      "Model:                            OLS   Adj. R-squared:                  0.231\n",
      "Method:                 Least Squares   F-statistic:                     864.1\n",
      "Date:                Thu, 30 Aug 2018   Prob (F-statistic):               0.00\n",
      "Time:                        23:32:14   Log-Likelihood:            -1.1694e+05\n",
      "No. Observations:                8625   AIC:                         2.339e+05\n",
      "Df Residuals:                    8621   BIC:                         2.339e+05\n",
      "Df Model:                           3                                         \n",
      "Covariance Type:            nonrobust                                         \n",
      "===================================================================================\n",
      "                      coef    std err          t      P>|t|      [0.025      0.975]\n",
      "-----------------------------------------------------------------------------------\n",
      "Intercept        2.349e+04   2014.629     11.658      0.000    1.95e+04    2.74e+04\n",
      "scale(like)      9.889e+04   3865.625     25.582      0.000    9.13e+04    1.06e+05\n",
      "scale(dislike)  -8.504e+04   4242.996    -20.043      0.000   -9.34e+04   -7.67e+04\n",
      "scale(comments)  7.725e+04   4287.017     18.020      0.000    6.89e+04    8.57e+04\n",
      "==============================================================================\n",
      "Omnibus:                    27439.798   Durbin-Watson:                   1.884\n",
      "Prob(Omnibus):                  0.000   Jarque-Bera (JB):       4973207208.852\n",
      "Skew:                          51.059   Prob(JB):                         0.00\n",
      "Kurtosis:                    3721.610   Cond. No.                         4.32\n",
      "==============================================================================\n",
      "\n",
      "Warnings:\n",
      "[1] Standard Errors assume that the covariance matrix of the errors is correctly specified.\n"
     ]
    }
   ],
   "source": [
    "import statsmodels.api as sm\n",
    "\n",
    "scale_model = sm.OLS.from_formula(\"views ~ \"\n",
    "                            \"scale(like) + scale(dislike) + scale(comments)\", data=X)\n",
    "result = scale_model.fit()\n",
    "print(result.summary())"
   ]
  },
  {
   "cell_type": "code",
   "execution_count": 56,
   "metadata": {},
   "outputs": [],
   "source": [
    "X_test = sm.add_constant(X_test)\n",
    "prediction = results.predict(X_test)"
   ]
  },
  {
   "cell_type": "code",
   "execution_count": 57,
   "metadata": {},
   "outputs": [],
   "source": [
    "from sklearn.metrics import mean_squared_error\n",
    "from sklearn.metrics import mean_absolute_error\n",
    "from sklearn.metrics import mean_squared_log_error\n",
    "from math import sqrt\n",
    "\n",
    "rmse_result = sqrt(mean_squared_error(y_test, prediction))\n",
    "mae_result = mean_absolute_error(y_test, prediction)\n",
    "#msle_result = mean_squared_log_error(y_test, prediction)"
   ]
  },
  {
   "cell_type": "code",
   "execution_count": 58,
   "metadata": {},
   "outputs": [
    {
     "data": {
      "text/plain": [
       "162205.141092949"
      ]
     },
     "execution_count": 58,
     "metadata": {},
     "output_type": "execute_result"
    }
   ],
   "source": [
    "rmse_result"
   ]
  },
  {
   "cell_type": "code",
   "execution_count": 59,
   "metadata": {},
   "outputs": [
    {
     "data": {
      "text/plain": [
       "42366.336182403596"
      ]
     },
     "execution_count": 59,
     "metadata": {},
     "output_type": "execute_result"
    }
   ],
   "source": [
    "mae_result"
   ]
  },
  {
   "cell_type": "code",
   "execution_count": 60,
   "metadata": {},
   "outputs": [],
   "source": [
    "#msle_result"
   ]
  },
  {
   "cell_type": "code",
   "execution_count": 61,
   "metadata": {},
   "outputs": [
    {
     "data": {
      "text/plain": [
       "<BarContainer object of 2847 artists>"
      ]
     },
     "execution_count": 61,
     "metadata": {},
     "output_type": "execute_result"
    },
    {
     "data": {
      "image/png": "[encoded data removed]",
      "text/plain": [
       "<Figure size 432x288 with 1 Axes>"
      ]
     },
     "metadata": {},
     "output_type": "display_data"
    }
   ],
   "source": [
    "plt.bar(np.arange(0,len(y_test)), y_test)"
   ]
  },
  {
   "cell_type": "code",
   "execution_count": 62,
   "metadata": {},
   "outputs": [
    {
     "data": {
      "text/plain": [
       "<BarContainer object of 2847 artists>"
      ]
     },
     "execution_count": 62,
     "metadata": {},
     "output_type": "execute_result"
    },
    {
     "data": {
      "image/png": "[encoded data removed]",
      "text/plain": [
       "<Figure size 432x288 with 1 Axes>"
      ]
     },
     "metadata": {},
     "output_type": "display_data"
    }
   ],
   "source": [
    "plt.bar(np.arange(0,len(prediction)), prediction)"
   ]
  },
  {
   "cell_type": "code",
   "execution_count": null,
   "metadata": {},
   "outputs": [],
   "source": []
  }
 ],
 "metadata": {
  "kernelspec": {
   "display_name": "Python 3",
   "language": "python",
   "name": "python3"
  },
  "language_info": {
   "codemirror_mode": {
    "name": "ipython",
    "version": 3
   },
   "file_extension": ".py",
   "mimetype": "text/x-python",
   "name": "python",
   "nbconvert_exporter": "python",
   "pygments_lexer": "ipython3",
   "version": "3.6.6"
  }
 },
 "nbformat": 4,
 "nbformat_minor": 2
}

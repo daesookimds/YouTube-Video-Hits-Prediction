{
 "cells": [
  {
   "cell_type": "code",
   "execution_count": 1,
   "metadata": {},
   "outputs": [],
   "source": [
    "import numpy as np\n",
    "import pandas as pd\n",
    "import matplotlib.pyplot as plt\n",
    "\n",
    "%matplotlib inline"
   ]
  },
  {
   "cell_type": "markdown",
   "metadata": {},
   "source": [
    "### Data Load"
   ]
  },
  {
   "cell_type": "code",
   "execution_count": 2,
   "metadata": {
    "scrolled": false
   },
   "outputs": [
    {
     "name": "stdout",
     "output_type": "stream",
     "text": [
      "(1310, 11)\n"
     ]
    },
    {
     "data": {
      "text/html": [
       "<div>\n",
       "<style scoped>\n",
       "    .dataframe tbody tr th:only-of-type {\n",
       "        vertical-align: middle;\n",
       "    }\n",
       "\n",
       "    .dataframe tbody tr th {\n",
       "        vertical-align: top;\n",
       "    }\n",
       "\n",
       "    .dataframe thead th {\n",
       "        text-align: right;\n",
       "    }\n",
       "</style>\n",
       "<table border=\"1\" class=\"dataframe\">\n",
       "  <thead>\n",
       "    <tr style=\"text-align: right;\">\n",
       "      <th></th>\n",
       "      <th>bad_hand</th>\n",
       "      <th>category</th>\n",
       "      <th>comments</th>\n",
       "      <th>good_hand</th>\n",
       "      <th>play_time</th>\n",
       "      <th>subscribers</th>\n",
       "      <th>title</th>\n",
       "      <th>top_comment</th>\n",
       "      <th>upload_date</th>\n",
       "      <th>url</th>\n",
       "      <th>views</th>\n",
       "    </tr>\n",
       "  </thead>\n",
       "  <tbody>\n",
       "    <tr>\n",
       "      <th>0</th>\n",
       "      <td>495</td>\n",
       "      <td>스포츠</td>\n",
       "      <td>댓글 3,033개</td>\n",
       "      <td>9.5천</td>\n",
       "      <td>12:58</td>\n",
       "      <td>88만</td>\n",
       "      <td>말레이시아전...너무 화가 납니다!</td>\n",
       "      <td>구독 부탁드립니다!!!!! 아시안게임 금메달 홧팅!!</td>\n",
       "      <td>게시일: 2018. 8. 17.</td>\n",
       "      <td>https://www.youtube.com/watch?v=tA3r-U8DU5c</td>\n",
       "      <td>조회수 598,294회</td>\n",
       "    </tr>\n",
       "    <tr>\n",
       "      <th>1</th>\n",
       "      <td>676</td>\n",
       "      <td>스포츠</td>\n",
       "      <td>댓글 4,305개</td>\n",
       "      <td>1.6만</td>\n",
       "      <td>9:11</td>\n",
       "      <td>64만</td>\n",
       "      <td>조현우 vs 배드민턴 풀파워 스매싱. 월클골키퍼의 미친세이브 ㄷㄷㄷ l 슛포러브 S...</td>\n",
       "      <td>조현우 프리미어 리그에서 뛰는거보고 죽고싶다</td>\n",
       "      <td>게시일: 2018. 8. 16.</td>\n",
       "      <td>https://www.youtube.com/watch?v=WSiY7g255rs</td>\n",
       "      <td>조회수 1,345,164회</td>\n",
       "    </tr>\n",
       "    <tr>\n",
       "      <th>2</th>\n",
       "      <td>698</td>\n",
       "      <td>엔터테인먼트</td>\n",
       "      <td>0</td>\n",
       "      <td>4.1천</td>\n",
       "      <td>2:43</td>\n",
       "      <td>0</td>\n",
       "      <td>10년동안 사라졌던 이박사 '충격적인 근황'</td>\n",
       "      <td>NaN</td>\n",
       "      <td>게시일: 2018. 8. 15.</td>\n",
       "      <td>https://www.youtube.com/watch?v=FlvYZcnGg-s</td>\n",
       "      <td>조회수 1,223,462회</td>\n",
       "    </tr>\n",
       "    <tr>\n",
       "      <th>3</th>\n",
       "      <td>8.8천</td>\n",
       "      <td>엔터테인먼트</td>\n",
       "      <td>댓글 21,045개</td>\n",
       "      <td>9.1만</td>\n",
       "      <td>6:21</td>\n",
       "      <td>245만</td>\n",
       "      <td>메갈워마드트위터 드디어 검거했습니다. 합의는없습니다.</td>\n",
       "      <td>모두 ㅂㅇㄹ ^_^*\\n고소많이했네요 드디어 첫번째\\n구독과 좋아요 알람설정은 보겸...</td>\n",
       "      <td>게시일: 2018. 8. 13.</td>\n",
       "      <td>https://www.youtube.com/watch?v=ZikE3gRmUos</td>\n",
       "      <td>조회수 3,158,695회</td>\n",
       "    </tr>\n",
       "    <tr>\n",
       "      <th>4</th>\n",
       "      <td>559</td>\n",
       "      <td>영화/애니메이션</td>\n",
       "      <td>댓글 2,669개</td>\n",
       "      <td>1.1만</td>\n",
       "      <td>7:55</td>\n",
       "      <td>48만</td>\n",
       "      <td>타노스는 왜 그동안 가만히 있었나</td>\n",
       "      <td>이번 영상은 원래 30분 분량으로 준비한 영상을 4부로 분리해서 하루에 한편씩 업로...</td>\n",
       "      <td>게시일: 2018. 8. 14.</td>\n",
       "      <td>https://www.youtube.com/watch?v=biiVgzPmB4A</td>\n",
       "      <td>조회수 919,220회</td>\n",
       "    </tr>\n",
       "  </tbody>\n",
       "</table>\n",
       "</div>"
      ],
      "text/plain": [
       "  bad_hand  category    comments good_hand play_time subscribers  \\\n",
       "0      495       스포츠   댓글 3,033개      9.5천     12:58         88만   \n",
       "1      676       스포츠   댓글 4,305개      1.6만      9:11         64만   \n",
       "2      698    엔터테인먼트           0      4.1천      2:43           0   \n",
       "3     8.8천    엔터테인먼트  댓글 21,045개      9.1만      6:21        245만   \n",
       "4      559  영화/애니메이션   댓글 2,669개      1.1만      7:55         48만   \n",
       "\n",
       "                                               title  \\\n",
       "0                                말레이시아전...너무 화가 납니다!   \n",
       "1  조현우 vs 배드민턴 풀파워 스매싱. 월클골키퍼의 미친세이브 ㄷㄷㄷ l 슛포러브 S...   \n",
       "2                           10년동안 사라졌던 이박사 '충격적인 근황'   \n",
       "3                      메갈워마드트위터 드디어 검거했습니다. 합의는없습니다.   \n",
       "4                                 타노스는 왜 그동안 가만히 있었나   \n",
       "\n",
       "                                         top_comment        upload_date  \\\n",
       "0                      구독 부탁드립니다!!!!! 아시안게임 금메달 홧팅!!  게시일: 2018. 8. 17.   \n",
       "1                           조현우 프리미어 리그에서 뛰는거보고 죽고싶다  게시일: 2018. 8. 16.   \n",
       "2                                                NaN  게시일: 2018. 8. 15.   \n",
       "3  모두 ㅂㅇㄹ ^_^*\\n고소많이했네요 드디어 첫번째\\n구독과 좋아요 알람설정은 보겸...  게시일: 2018. 8. 13.   \n",
       "4  이번 영상은 원래 30분 분량으로 준비한 영상을 4부로 분리해서 하루에 한편씩 업로...  게시일: 2018. 8. 14.   \n",
       "\n",
       "                                           url           views  \n",
       "0  https://www.youtube.com/watch?v=tA3r-U8DU5c    조회수 598,294회  \n",
       "1  https://www.youtube.com/watch?v=WSiY7g255rs  조회수 1,345,164회  \n",
       "2  https://www.youtube.com/watch?v=FlvYZcnGg-s  조회수 1,223,462회  \n",
       "3  https://www.youtube.com/watch?v=ZikE3gRmUos  조회수 3,158,695회  \n",
       "4  https://www.youtube.com/watch?v=biiVgzPmB4A    조회수 919,220회  "
      ]
     },
     "execution_count": 2,
     "metadata": {},
     "output_type": "execute_result"
    }
   ],
   "source": [
    "train = pd.read_csv(\"train.csv\")\n",
    "\n",
    "print(train.shape)\n",
    "train.head()"
   ]
  },
  {
   "cell_type": "markdown",
   "metadata": {},
   "source": [
    "### Views\n",
    "- 조회수\n",
    "- 예측할 target"
   ]
  },
  {
   "cell_type": "code",
   "execution_count": 3,
   "metadata": {},
   "outputs": [],
   "source": [
    "def views_clear(view):\n",
    "    return int(view[4:-1].replace(\",\",\"\"))"
   ]
  },
  {
   "cell_type": "code",
   "execution_count": 4,
   "metadata": {},
   "outputs": [],
   "source": [
    "train[\"views\"] = train[\"views\"].apply(views_clear)"
   ]
  },
  {
   "cell_type": "code",
   "execution_count": 5,
   "metadata": {},
   "outputs": [
    {
     "data": {
      "text/plain": [
       "0     598294\n",
       "1    1345164\n",
       "2    1223462\n",
       "3    3158695\n",
       "4     919220\n",
       "Name: views, dtype: int64"
      ]
     },
     "execution_count": 5,
     "metadata": {},
     "output_type": "execute_result"
    }
   ],
   "source": [
    "train[\"views\"].head()"
   ]
  },
  {
   "cell_type": "markdown",
   "metadata": {},
   "source": [
    "### Bad_hand\n",
    "- '싫어요'라는 텍스트만 있는 경우 값은 url확인 결과 '0'인 경우이다."
   ]
  },
  {
   "cell_type": "code",
   "execution_count": 6,
   "metadata": {},
   "outputs": [
    {
     "data": {
      "text/html": [
       "<div>\n",
       "<style scoped>\n",
       "    .dataframe tbody tr th:only-of-type {\n",
       "        vertical-align: middle;\n",
       "    }\n",
       "\n",
       "    .dataframe tbody tr th {\n",
       "        vertical-align: top;\n",
       "    }\n",
       "\n",
       "    .dataframe thead th {\n",
       "        text-align: right;\n",
       "    }\n",
       "</style>\n",
       "<table border=\"1\" class=\"dataframe\">\n",
       "  <thead>\n",
       "    <tr style=\"text-align: right;\">\n",
       "      <th></th>\n",
       "      <th>bad_hand</th>\n",
       "      <th>category</th>\n",
       "      <th>comments</th>\n",
       "      <th>good_hand</th>\n",
       "      <th>play_time</th>\n",
       "      <th>subscribers</th>\n",
       "      <th>title</th>\n",
       "      <th>top_comment</th>\n",
       "      <th>upload_date</th>\n",
       "      <th>url</th>\n",
       "      <th>views</th>\n",
       "    </tr>\n",
       "  </thead>\n",
       "  <tbody>\n",
       "    <tr>\n",
       "      <th>19</th>\n",
       "      <td>싫어요</td>\n",
       "      <td>인물/블로그</td>\n",
       "      <td>댓글 13,304개</td>\n",
       "      <td>좋아요</td>\n",
       "      <td>0:58</td>\n",
       "      <td>79만</td>\n",
       "      <td>로이조 TV 앞으로의 계획</td>\n",
       "      <td>* 이벤트 참고 영상 : https://youtu.be/SUMgOI6uKfk (허수...</td>\n",
       "      <td>게시일: 2018. 7. 27.</td>\n",
       "      <td>https://www.youtube.com/watch?v=XTVBsmgjI60</td>\n",
       "      <td>1972249</td>\n",
       "    </tr>\n",
       "  </tbody>\n",
       "</table>\n",
       "</div>"
      ],
      "text/plain": [
       "   bad_hand category    comments good_hand play_time subscribers  \\\n",
       "19      싫어요   인물/블로그  댓글 13,304개       좋아요      0:58         79만   \n",
       "\n",
       "             title                                        top_comment  \\\n",
       "19  로이조 TV 앞으로의 계획  * 이벤트 참고 영상 : https://youtu.be/SUMgOI6uKfk (허수...   \n",
       "\n",
       "          upload_date                                          url    views  \n",
       "19  게시일: 2018. 7. 27.  https://www.youtube.com/watch?v=XTVBsmgjI60  1972249  "
      ]
     },
     "execution_count": 6,
     "metadata": {},
     "output_type": "execute_result"
    }
   ],
   "source": [
    "train[train[\"bad_hand\"]=='싫어요'].head(1)"
   ]
  },
  {
   "cell_type": "code",
   "execution_count": 7,
   "metadata": {},
   "outputs": [],
   "source": [
    "train.loc[train[\"bad_hand\"]=='싫어요', 'bad_hand'] = '0'"
   ]
  },
  {
   "cell_type": "code",
   "execution_count": 8,
   "metadata": {},
   "outputs": [
    {
     "data": {
      "text/html": [
       "<div>\n",
       "<style scoped>\n",
       "    .dataframe tbody tr th:only-of-type {\n",
       "        vertical-align: middle;\n",
       "    }\n",
       "\n",
       "    .dataframe tbody tr th {\n",
       "        vertical-align: top;\n",
       "    }\n",
       "\n",
       "    .dataframe thead th {\n",
       "        text-align: right;\n",
       "    }\n",
       "</style>\n",
       "<table border=\"1\" class=\"dataframe\">\n",
       "  <thead>\n",
       "    <tr style=\"text-align: right;\">\n",
       "      <th></th>\n",
       "      <th>bad_hand</th>\n",
       "      <th>category</th>\n",
       "      <th>comments</th>\n",
       "      <th>good_hand</th>\n",
       "      <th>play_time</th>\n",
       "      <th>subscribers</th>\n",
       "      <th>title</th>\n",
       "      <th>top_comment</th>\n",
       "      <th>upload_date</th>\n",
       "      <th>url</th>\n",
       "      <th>views</th>\n",
       "    </tr>\n",
       "  </thead>\n",
       "  <tbody>\n",
       "  </tbody>\n",
       "</table>\n",
       "</div>"
      ],
      "text/plain": [
       "Empty DataFrame\n",
       "Columns: [bad_hand, category, comments, good_hand, play_time, subscribers, title, top_comment, upload_date, url, views]\n",
       "Index: []"
      ]
     },
     "execution_count": 8,
     "metadata": {},
     "output_type": "execute_result"
    }
   ],
   "source": [
    "train[train[\"bad_hand\"]=='싫어요'].head(1)"
   ]
  },
  {
   "cell_type": "code",
   "execution_count": 9,
   "metadata": {},
   "outputs": [],
   "source": [
    "def hand_clear(s):\n",
    "    '''\n",
    "    천, 만으로 표시된 값 숫자로 변경\n",
    "    '''\n",
    "    if s[-1] == '천':\n",
    "        return float(s[:-1]) * 1000\n",
    "    elif s[-1] == '만':\n",
    "        return float(s[:-1]) * 10000\n",
    "    else:\n",
    "        return float(s)"
   ]
  },
  {
   "cell_type": "code",
   "execution_count": 10,
   "metadata": {},
   "outputs": [],
   "source": [
    "train[\"bad_hand\"] = train[\"bad_hand\"].apply(hand_clear)"
   ]
  },
  {
   "cell_type": "markdown",
   "metadata": {},
   "source": [
    "### Good_hand\n",
    "- '좋아요'라는 텍스트만 있는 경우 값은 url확인 결과 '0'인 경우이다."
   ]
  },
  {
   "cell_type": "code",
   "execution_count": 11,
   "metadata": {},
   "outputs": [
    {
     "data": {
      "text/html": [
       "<div>\n",
       "<style scoped>\n",
       "    .dataframe tbody tr th:only-of-type {\n",
       "        vertical-align: middle;\n",
       "    }\n",
       "\n",
       "    .dataframe tbody tr th {\n",
       "        vertical-align: top;\n",
       "    }\n",
       "\n",
       "    .dataframe thead th {\n",
       "        text-align: right;\n",
       "    }\n",
       "</style>\n",
       "<table border=\"1\" class=\"dataframe\">\n",
       "  <thead>\n",
       "    <tr style=\"text-align: right;\">\n",
       "      <th></th>\n",
       "      <th>bad_hand</th>\n",
       "      <th>category</th>\n",
       "      <th>comments</th>\n",
       "      <th>good_hand</th>\n",
       "      <th>play_time</th>\n",
       "      <th>subscribers</th>\n",
       "      <th>title</th>\n",
       "      <th>top_comment</th>\n",
       "      <th>upload_date</th>\n",
       "      <th>url</th>\n",
       "      <th>views</th>\n",
       "    </tr>\n",
       "  </thead>\n",
       "  <tbody>\n",
       "    <tr>\n",
       "      <th>19</th>\n",
       "      <td>0.0</td>\n",
       "      <td>인물/블로그</td>\n",
       "      <td>댓글 13,304개</td>\n",
       "      <td>좋아요</td>\n",
       "      <td>0:58</td>\n",
       "      <td>79만</td>\n",
       "      <td>로이조 TV 앞으로의 계획</td>\n",
       "      <td>* 이벤트 참고 영상 : https://youtu.be/SUMgOI6uKfk (허수...</td>\n",
       "      <td>게시일: 2018. 7. 27.</td>\n",
       "      <td>https://www.youtube.com/watch?v=XTVBsmgjI60</td>\n",
       "      <td>1972249</td>\n",
       "    </tr>\n",
       "  </tbody>\n",
       "</table>\n",
       "</div>"
      ],
      "text/plain": [
       "    bad_hand category    comments good_hand play_time subscribers  \\\n",
       "19       0.0   인물/블로그  댓글 13,304개       좋아요      0:58         79만   \n",
       "\n",
       "             title                                        top_comment  \\\n",
       "19  로이조 TV 앞으로의 계획  * 이벤트 참고 영상 : https://youtu.be/SUMgOI6uKfk (허수...   \n",
       "\n",
       "          upload_date                                          url    views  \n",
       "19  게시일: 2018. 7. 27.  https://www.youtube.com/watch?v=XTVBsmgjI60  1972249  "
      ]
     },
     "execution_count": 11,
     "metadata": {},
     "output_type": "execute_result"
    }
   ],
   "source": [
    "train[train[\"good_hand\"]=='좋아요'].head(1)"
   ]
  },
  {
   "cell_type": "code",
   "execution_count": 12,
   "metadata": {},
   "outputs": [],
   "source": [
    "train.loc[train[\"good_hand\"]=='좋아요', 'good_hand'] = '0'"
   ]
  },
  {
   "cell_type": "code",
   "execution_count": 13,
   "metadata": {},
   "outputs": [
    {
     "data": {
      "text/html": [
       "<div>\n",
       "<style scoped>\n",
       "    .dataframe tbody tr th:only-of-type {\n",
       "        vertical-align: middle;\n",
       "    }\n",
       "\n",
       "    .dataframe tbody tr th {\n",
       "        vertical-align: top;\n",
       "    }\n",
       "\n",
       "    .dataframe thead th {\n",
       "        text-align: right;\n",
       "    }\n",
       "</style>\n",
       "<table border=\"1\" class=\"dataframe\">\n",
       "  <thead>\n",
       "    <tr style=\"text-align: right;\">\n",
       "      <th></th>\n",
       "      <th>bad_hand</th>\n",
       "      <th>category</th>\n",
       "      <th>comments</th>\n",
       "      <th>good_hand</th>\n",
       "      <th>play_time</th>\n",
       "      <th>subscribers</th>\n",
       "      <th>title</th>\n",
       "      <th>top_comment</th>\n",
       "      <th>upload_date</th>\n",
       "      <th>url</th>\n",
       "      <th>views</th>\n",
       "    </tr>\n",
       "  </thead>\n",
       "  <tbody>\n",
       "  </tbody>\n",
       "</table>\n",
       "</div>"
      ],
      "text/plain": [
       "Empty DataFrame\n",
       "Columns: [bad_hand, category, comments, good_hand, play_time, subscribers, title, top_comment, upload_date, url, views]\n",
       "Index: []"
      ]
     },
     "execution_count": 13,
     "metadata": {},
     "output_type": "execute_result"
    }
   ],
   "source": [
    "train[train[\"good_hand\"]=='좋아요'].head(1)"
   ]
  },
  {
   "cell_type": "code",
   "execution_count": 14,
   "metadata": {},
   "outputs": [],
   "source": [
    "train[\"good_hand\"] = train[\"good_hand\"].apply(hand_clear)"
   ]
  },
  {
   "cell_type": "code",
   "execution_count": 15,
   "metadata": {},
   "outputs": [
    {
     "data": {
      "text/html": [
       "<div>\n",
       "<style scoped>\n",
       "    .dataframe tbody tr th:only-of-type {\n",
       "        vertical-align: middle;\n",
       "    }\n",
       "\n",
       "    .dataframe tbody tr th {\n",
       "        vertical-align: top;\n",
       "    }\n",
       "\n",
       "    .dataframe thead th {\n",
       "        text-align: right;\n",
       "    }\n",
       "</style>\n",
       "<table border=\"1\" class=\"dataframe\">\n",
       "  <thead>\n",
       "    <tr style=\"text-align: right;\">\n",
       "      <th></th>\n",
       "      <th>bad_hand</th>\n",
       "      <th>good_hand</th>\n",
       "    </tr>\n",
       "  </thead>\n",
       "  <tbody>\n",
       "    <tr>\n",
       "      <th>0</th>\n",
       "      <td>495.0</td>\n",
       "      <td>9500.0</td>\n",
       "    </tr>\n",
       "    <tr>\n",
       "      <th>1</th>\n",
       "      <td>676.0</td>\n",
       "      <td>16000.0</td>\n",
       "    </tr>\n",
       "    <tr>\n",
       "      <th>2</th>\n",
       "      <td>698.0</td>\n",
       "      <td>4100.0</td>\n",
       "    </tr>\n",
       "    <tr>\n",
       "      <th>3</th>\n",
       "      <td>8800.0</td>\n",
       "      <td>91000.0</td>\n",
       "    </tr>\n",
       "    <tr>\n",
       "      <th>4</th>\n",
       "      <td>559.0</td>\n",
       "      <td>11000.0</td>\n",
       "    </tr>\n",
       "  </tbody>\n",
       "</table>\n",
       "</div>"
      ],
      "text/plain": [
       "   bad_hand  good_hand\n",
       "0     495.0     9500.0\n",
       "1     676.0    16000.0\n",
       "2     698.0     4100.0\n",
       "3    8800.0    91000.0\n",
       "4     559.0    11000.0"
      ]
     },
     "execution_count": 15,
     "metadata": {},
     "output_type": "execute_result"
    }
   ],
   "source": [
    "train[[\"bad_hand\", \"good_hand\"]].head()"
   ]
  },
  {
   "cell_type": "markdown",
   "metadata": {},
   "source": [
    "### Comments\n",
    "- 댓글 갯수"
   ]
  },
  {
   "cell_type": "code",
   "execution_count": 16,
   "metadata": {},
   "outputs": [],
   "source": [
    "def comments_clear(comment):\n",
    "    if comment[-1] == \"개\":\n",
    "        return int(comment[3:-1].replace(\",\",\"\"))\n",
    "    else:\n",
    "        return int(comment)"
   ]
  },
  {
   "cell_type": "code",
   "execution_count": 17,
   "metadata": {},
   "outputs": [],
   "source": [
    "train[\"comments\"] = train[\"comments\"].apply(comments_clear)"
   ]
  },
  {
   "cell_type": "code",
   "execution_count": 18,
   "metadata": {},
   "outputs": [
    {
     "data": {
      "text/plain": [
       "0     3033\n",
       "1     4305\n",
       "2        0\n",
       "3    21045\n",
       "4     2669\n",
       "Name: comments, dtype: int64"
      ]
     },
     "execution_count": 18,
     "metadata": {},
     "output_type": "execute_result"
    }
   ],
   "source": [
    "train[\"comments\"].head()"
   ]
  },
  {
   "cell_type": "markdown",
   "metadata": {},
   "source": [
    "### Upload_date\n",
    "- 게시년, 월, 일"
   ]
  },
  {
   "cell_type": "code",
   "execution_count": 19,
   "metadata": {},
   "outputs": [],
   "source": [
    "s = '게시일: 2014. 2. 26.'"
   ]
  },
  {
   "cell_type": "code",
   "execution_count": 20,
   "metadata": {},
   "outputs": [
    {
     "data": {
      "text/plain": [
       "['2014', '2', '26']"
      ]
     },
     "execution_count": 20,
     "metadata": {},
     "output_type": "execute_result"
    }
   ],
   "source": [
    "s[5:-1].replace(\" \",\"\").split(\".\")"
   ]
  },
  {
   "cell_type": "code",
   "execution_count": 21,
   "metadata": {},
   "outputs": [],
   "source": [
    "def upload_date_clear_year(date):\n",
    "    return int(s[5:-1].replace(\" \",\"\").split(\".\")[0])\n",
    "\n",
    "def upload_date_clear_month(date):\n",
    "    return int(s[5:-1].replace(\" \",\"\").split(\".\")[1])\n",
    "\n",
    "def upload_date_clear_day(date):\n",
    "    return int(s[5:-1].replace(\" \",\"\").split(\".\")[2])"
   ]
  },
  {
   "cell_type": "code",
   "execution_count": 22,
   "metadata": {},
   "outputs": [],
   "source": [
    "train[\"upload_date_year\"] = train[\"upload_date\"].apply(upload_date_clear_year)\n",
    "train[\"upload_date_month\"] = train[\"upload_date\"].apply(upload_date_clear_month)\n",
    "train[\"upload_date_day\"] = train[\"upload_date\"].apply(upload_date_clear_day)"
   ]
  },
  {
   "cell_type": "code",
   "execution_count": 23,
   "metadata": {},
   "outputs": [
    {
     "data": {
      "text/html": [
       "<div>\n",
       "<style scoped>\n",
       "    .dataframe tbody tr th:only-of-type {\n",
       "        vertical-align: middle;\n",
       "    }\n",
       "\n",
       "    .dataframe tbody tr th {\n",
       "        vertical-align: top;\n",
       "    }\n",
       "\n",
       "    .dataframe thead th {\n",
       "        text-align: right;\n",
       "    }\n",
       "</style>\n",
       "<table border=\"1\" class=\"dataframe\">\n",
       "  <thead>\n",
       "    <tr style=\"text-align: right;\">\n",
       "      <th></th>\n",
       "      <th>upload_date_year</th>\n",
       "      <th>upload_date_month</th>\n",
       "      <th>upload_date_day</th>\n",
       "    </tr>\n",
       "  </thead>\n",
       "  <tbody>\n",
       "    <tr>\n",
       "      <th>0</th>\n",
       "      <td>2014</td>\n",
       "      <td>2</td>\n",
       "      <td>26</td>\n",
       "    </tr>\n",
       "    <tr>\n",
       "      <th>1</th>\n",
       "      <td>2014</td>\n",
       "      <td>2</td>\n",
       "      <td>26</td>\n",
       "    </tr>\n",
       "    <tr>\n",
       "      <th>2</th>\n",
       "      <td>2014</td>\n",
       "      <td>2</td>\n",
       "      <td>26</td>\n",
       "    </tr>\n",
       "    <tr>\n",
       "      <th>3</th>\n",
       "      <td>2014</td>\n",
       "      <td>2</td>\n",
       "      <td>26</td>\n",
       "    </tr>\n",
       "    <tr>\n",
       "      <th>4</th>\n",
       "      <td>2014</td>\n",
       "      <td>2</td>\n",
       "      <td>26</td>\n",
       "    </tr>\n",
       "  </tbody>\n",
       "</table>\n",
       "</div>"
      ],
      "text/plain": [
       "   upload_date_year  upload_date_month  upload_date_day\n",
       "0              2014                  2               26\n",
       "1              2014                  2               26\n",
       "2              2014                  2               26\n",
       "3              2014                  2               26\n",
       "4              2014                  2               26"
      ]
     },
     "execution_count": 23,
     "metadata": {},
     "output_type": "execute_result"
    }
   ],
   "source": [
    "train[[\"upload_date_year\", \"upload_date_month\", \"upload_date_day\"]].head()"
   ]
  },
  {
   "cell_type": "markdown",
   "metadata": {},
   "source": [
    "### Subscribers\n",
    "- 구독자 수"
   ]
  },
  {
   "cell_type": "code",
   "execution_count": 24,
   "metadata": {},
   "outputs": [],
   "source": [
    "def subscriber_clear(s):\n",
    "    '''\n",
    "    천, 만으로 표시된 값 숫자로 변경\n",
    "    '''\n",
    "    if s[-1] == '천':\n",
    "        return float(s[:-1]) * 1000\n",
    "    elif s[-1] == '만':\n",
    "        return float(s[:-1]) * 10000\n",
    "    else:\n",
    "        return float(s)"
   ]
  },
  {
   "cell_type": "code",
   "execution_count": 25,
   "metadata": {},
   "outputs": [],
   "source": [
    "train[\"subscribers\"] = train[\"subscribers\"].apply(subscriber_clear)"
   ]
  },
  {
   "cell_type": "code",
   "execution_count": 26,
   "metadata": {},
   "outputs": [
    {
     "data": {
      "text/plain": [
       "0     880000.0\n",
       "1     640000.0\n",
       "2          0.0\n",
       "3    2450000.0\n",
       "4     480000.0\n",
       "Name: subscribers, dtype: float64"
      ]
     },
     "execution_count": 26,
     "metadata": {},
     "output_type": "execute_result"
    }
   ],
   "source": [
    "train[\"subscribers\"].head()"
   ]
  },
  {
   "cell_type": "markdown",
   "metadata": {},
   "source": [
    "### Play time"
   ]
  },
  {
   "cell_type": "code",
   "execution_count": 27,
   "metadata": {},
   "outputs": [],
   "source": [
    "def convert_time(t):\n",
    "    if type(t) is float:\n",
    "        return t\n",
    "    else:\n",
    "        return int(t.split(\":\")[0]) * 60 + int(t.split(\":\")[1])"
   ]
  },
  {
   "cell_type": "code",
   "execution_count": 28,
   "metadata": {},
   "outputs": [],
   "source": [
    "train[\"play_time\"] = train[\"play_time\"].apply(convert_time)"
   ]
  },
  {
   "cell_type": "code",
   "execution_count": 29,
   "metadata": {},
   "outputs": [],
   "source": [
    "train.loc[train[\"play_time\"].isna(), \"play_time\"] = np.mean(train[\"play_time\"])"
   ]
  },
  {
   "cell_type": "code",
   "execution_count": 30,
   "metadata": {},
   "outputs": [
    {
     "data": {
      "text/plain": [
       "0    778.0\n",
       "1    551.0\n",
       "2    163.0\n",
       "3    381.0\n",
       "4    475.0\n",
       "Name: play_time, dtype: float64"
      ]
     },
     "execution_count": 30,
     "metadata": {},
     "output_type": "execute_result"
    }
   ],
   "source": [
    "train[\"play_time\"].head()"
   ]
  },
  {
   "cell_type": "markdown",
   "metadata": {},
   "source": [
    "### Length of title"
   ]
  },
  {
   "cell_type": "code",
   "execution_count": 31,
   "metadata": {},
   "outputs": [],
   "source": [
    "def title_length(s):\n",
    "    return len(s)"
   ]
  },
  {
   "cell_type": "code",
   "execution_count": 32,
   "metadata": {},
   "outputs": [],
   "source": [
    "train[\"title_length\"] = train[\"title\"].apply(title_length)"
   ]
  },
  {
   "cell_type": "code",
   "execution_count": 33,
   "metadata": {},
   "outputs": [
    {
     "data": {
      "text/plain": [
       "0    19\n",
       "1    59\n",
       "2    24\n",
       "3    29\n",
       "4    18\n",
       "Name: title_length, dtype: int64"
      ]
     },
     "execution_count": 33,
     "metadata": {},
     "output_type": "execute_result"
    }
   ],
   "source": [
    "train[\"title_length\"].head()"
   ]
  },
  {
   "cell_type": "code",
   "execution_count": 34,
   "metadata": {},
   "outputs": [
    {
     "data": {
      "text/plain": [
       "Index(['bad_hand', 'category', 'comments', 'good_hand', 'play_time',\n",
       "       'subscribers', 'title', 'top_comment', 'upload_date', 'url', 'views',\n",
       "       'upload_date_year', 'upload_date_month', 'upload_date_day',\n",
       "       'title_length'],\n",
       "      dtype='object')"
      ]
     },
     "execution_count": 34,
     "metadata": {},
     "output_type": "execute_result"
    }
   ],
   "source": [
    "train.columns"
   ]
  },
  {
   "cell_type": "code",
   "execution_count": 35,
   "metadata": {},
   "outputs": [
    {
     "data": {
      "text/html": [
       "<div>\n",
       "<style scoped>\n",
       "    .dataframe tbody tr th:only-of-type {\n",
       "        vertical-align: middle;\n",
       "    }\n",
       "\n",
       "    .dataframe tbody tr th {\n",
       "        vertical-align: top;\n",
       "    }\n",
       "\n",
       "    .dataframe thead th {\n",
       "        text-align: right;\n",
       "    }\n",
       "</style>\n",
       "<table border=\"1\" class=\"dataframe\">\n",
       "  <thead>\n",
       "    <tr style=\"text-align: right;\">\n",
       "      <th></th>\n",
       "      <th>bad_hand</th>\n",
       "      <th>category</th>\n",
       "      <th>comments</th>\n",
       "      <th>good_hand</th>\n",
       "      <th>play_time</th>\n",
       "      <th>subscribers</th>\n",
       "      <th>title</th>\n",
       "      <th>top_comment</th>\n",
       "      <th>upload_date</th>\n",
       "      <th>url</th>\n",
       "      <th>views</th>\n",
       "      <th>upload_date_year</th>\n",
       "      <th>upload_date_month</th>\n",
       "      <th>upload_date_day</th>\n",
       "      <th>title_length</th>\n",
       "    </tr>\n",
       "  </thead>\n",
       "  <tbody>\n",
       "    <tr>\n",
       "      <th>0</th>\n",
       "      <td>495.0</td>\n",
       "      <td>스포츠</td>\n",
       "      <td>3033</td>\n",
       "      <td>9500.0</td>\n",
       "      <td>778.0</td>\n",
       "      <td>880000.0</td>\n",
       "      <td>말레이시아전...너무 화가 납니다!</td>\n",
       "      <td>구독 부탁드립니다!!!!! 아시안게임 금메달 홧팅!!</td>\n",
       "      <td>게시일: 2018. 8. 17.</td>\n",
       "      <td>https://www.youtube.com/watch?v=tA3r-U8DU5c</td>\n",
       "      <td>598294</td>\n",
       "      <td>2014</td>\n",
       "      <td>2</td>\n",
       "      <td>26</td>\n",
       "      <td>19</td>\n",
       "    </tr>\n",
       "  </tbody>\n",
       "</table>\n",
       "</div>"
      ],
      "text/plain": [
       "   bad_hand category  comments  good_hand  play_time  subscribers  \\\n",
       "0     495.0      스포츠      3033     9500.0      778.0     880000.0   \n",
       "\n",
       "                 title                    top_comment        upload_date  \\\n",
       "0  말레이시아전...너무 화가 납니다!  구독 부탁드립니다!!!!! 아시안게임 금메달 홧팅!!  게시일: 2018. 8. 17.   \n",
       "\n",
       "                                           url   views  upload_date_year  \\\n",
       "0  https://www.youtube.com/watch?v=tA3r-U8DU5c  598294              2014   \n",
       "\n",
       "   upload_date_month  upload_date_day  title_length  \n",
       "0                  2               26            19  "
      ]
     },
     "execution_count": 35,
     "metadata": {},
     "output_type": "execute_result"
    }
   ],
   "source": [
    "train.head(1)"
   ]
  },
  {
   "cell_type": "markdown",
   "metadata": {},
   "source": [
    "### Testing"
   ]
  },
  {
   "cell_type": "code",
   "execution_count": 36,
   "metadata": {},
   "outputs": [],
   "source": [
    "X = train[[\"bad_hand\", \"good_hand\", 'comments', 'play_time', 'subscribers', \"upload_date_year\", \"upload_date_month\", \"title_length\"]]\n",
    "y = train[\"views\"]"
   ]
  },
  {
   "cell_type": "code",
   "execution_count": 37,
   "metadata": {},
   "outputs": [],
   "source": [
    "from sklearn.model_selection import train_test_split\n",
    "\n",
    "X_train, X_test, y_train, y_test = train_test_split(X, y, test_size=0.33, random_state=8)"
   ]
  },
  {
   "cell_type": "code",
   "execution_count": 38,
   "metadata": {},
   "outputs": [
    {
     "name": "stdout",
     "output_type": "stream",
     "text": [
      "                            OLS Regression Results                            \n",
      "==============================================================================\n",
      "Dep. Variable:                  views   R-squared:                       0.845\n",
      "Model:                            OLS   Adj. R-squared:                  0.844\n",
      "Method:                 Least Squares   F-statistic:                     790.5\n",
      "Date:                Mon, 20 Aug 2018   Prob (F-statistic):               0.00\n",
      "Time:                        23:27:10   Log-Likelihood:                -16145.\n",
      "No. Observations:                 877   AIC:                         3.230e+04\n",
      "Df Residuals:                     870   BIC:                         3.234e+04\n",
      "Df Model:                           6                                         \n",
      "Covariance Type:            nonrobust                                         \n",
      "=====================================================================================\n",
      "                        coef    std err          t      P>|t|      [0.025      0.975]\n",
      "-------------------------------------------------------------------------------------\n",
      "bad_hand           1131.8311     35.010     32.329      0.000    1063.118    1200.544\n",
      "good_hand           137.6175      6.419     21.441      0.000     125.020     150.215\n",
      "comments           -545.8328     24.523    -22.258      0.000    -593.964    -497.701\n",
      "play_time           208.0583   1913.907      0.109      0.913   -3548.357    3964.473\n",
      "subscribers          -1.2168      0.288     -4.230      0.000      -1.781      -0.652\n",
      "upload_date_year   -468.6127    927.749     -0.505      0.614   -2289.501    1352.276\n",
      "upload_date_month    -0.4654      0.921     -0.505      0.614      -2.274       1.343\n",
      "title_length       6.668e+04   4.48e+04      1.488      0.137   -2.13e+04    1.55e+05\n",
      "==============================================================================\n",
      "Omnibus:                      759.672   Durbin-Watson:                   2.009\n",
      "Prob(Omnibus):                  0.000   Jarque-Bera (JB):          1858323.550\n",
      "Skew:                           2.451   Prob(JB):                         0.00\n",
      "Kurtosis:                     228.457   Cond. No.                     4.82e+21\n",
      "==============================================================================\n",
      "\n",
      "Warnings:\n",
      "[1] Standard Errors assume that the covariance matrix of the errors is correctly specified.\n",
      "[2] The smallest eigenvalue is  5e-28. This might indicate that there are\n",
      "strong multicollinearity problems or that the design matrix is singular.\n"
     ]
    }
   ],
   "source": [
    "import statsmodels.api as sm\n",
    "\n",
    "X_train = sm.add_constant(X_train)\n",
    "model = sm.OLS(y_train ,X_train)\n",
    "results = model.fit()\n",
    "\n",
    "print(results.summary())"
   ]
  },
  {
   "cell_type": "code",
   "execution_count": 39,
   "metadata": {},
   "outputs": [],
   "source": [
    "X_test = sm.add_constant(X_test)\n",
    "prediction = results.predict(X_test)"
   ]
  },
  {
   "cell_type": "code",
   "execution_count": 40,
   "metadata": {},
   "outputs": [],
   "source": [
    "from sklearn.metrics import mean_squared_error\n",
    "from sklearn.metrics import mean_absolute_error\n",
    "from sklearn.metrics import mean_squared_log_error\n",
    "from math import sqrt\n",
    "\n",
    "rmse_result = sqrt(mean_squared_error(y_test, prediction))\n",
    "mae_result = mean_absolute_error(y_test, prediction)\n",
    "#msle_result = mean_squared_log_error(y_test, prediction)"
   ]
  },
  {
   "cell_type": "code",
   "execution_count": 41,
   "metadata": {},
   "outputs": [
    {
     "data": {
      "text/plain": [
       "16438539.17514985"
      ]
     },
     "execution_count": 41,
     "metadata": {},
     "output_type": "execute_result"
    }
   ],
   "source": [
    "rmse_result"
   ]
  },
  {
   "cell_type": "code",
   "execution_count": 42,
   "metadata": {},
   "outputs": [
    {
     "data": {
      "text/plain": [
       "4449530.3394539412"
      ]
     },
     "execution_count": 42,
     "metadata": {},
     "output_type": "execute_result"
    }
   ],
   "source": [
    "mae_result"
   ]
  },
  {
   "cell_type": "code",
   "execution_count": 43,
   "metadata": {},
   "outputs": [],
   "source": [
    "#msle_result"
   ]
  },
  {
   "cell_type": "code",
   "execution_count": 44,
   "metadata": {},
   "outputs": [
    {
     "data": {
      "text/plain": [
       "<BarContainer object of 433 artists>"
      ]
     },
     "execution_count": 44,
     "metadata": {},
     "output_type": "execute_result"
    },
    {
     "data": {
      "image/png": "[encoded data removed]",
      "text/plain": [
       "<Figure size 432x288 with 1 Axes>"
      ]
     },
     "metadata": {},
     "output_type": "display_data"
    }
   ],
   "source": [
    "plt.bar(np.arange(0,len(y_test)), y_test)"
   ]
  },
  {
   "cell_type": "code",
   "execution_count": 45,
   "metadata": {},
   "outputs": [
    {
     "data": {
      "text/plain": [
       "<BarContainer object of 433 artists>"
      ]
     },
     "execution_count": 45,
     "metadata": {},
     "output_type": "execute_result"
    },
    {
     "data": {
      "image/png": "[encoded data removed]",
      "text/plain": [
       "<Figure size 432x288 with 1 Axes>"
      ]
     },
     "metadata": {},
     "output_type": "display_data"
    }
   ],
   "source": [
    "plt.bar(np.arange(0,len(prediction)), prediction)"
   ]
  }
 ],
 "metadata": {
  "kernelspec": {
   "display_name": "Python 3",
   "language": "python",
   "name": "python3"
  },
  "language_info": {
   "codemirror_mode": {
    "name": "ipython",
    "version": 3
   },
   "file_extension": ".py",
   "mimetype": "text/x-python",
   "name": "python",
   "nbconvert_exporter": "python",
   "pygments_lexer": "ipython3",
   "version": "3.6.6"
  }
 },
 "nbformat": 4,
 "nbformat_minor": 2
}
